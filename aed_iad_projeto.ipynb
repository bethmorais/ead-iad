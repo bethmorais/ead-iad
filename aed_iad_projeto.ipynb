{
  "nbformat": 4,
  "nbformat_minor": 0,
  "metadata": {
    "colab": {
      "name": "aed-iad-projeto",
      "provenance": [],
      "collapsed_sections": [],
      "include_colab_link": true
    },
    "kernelspec": {
      "name": "python3",
      "display_name": "Python 3"
    }
  },
  "cells": [
    {
      "cell_type": "markdown",
      "metadata": {
        "id": "view-in-github",
        "colab_type": "text"
      },
      "source": [
        "<a href=\"https://colab.research.google.com/github/bethmorais/ead-iad/blob/master/aed_iad_projeto.ipynb\" target=\"_parent\"><img src=\"https://colab.research.google.com/assets/colab-badge.svg\" alt=\"Open In Colab\"/></a>"
      ]
    },
    {
      "cell_type": "markdown",
      "metadata": {
        "id": "FskdrH6G5LHD",
        "colab_type": "text"
      },
      "source": [
        ""
      ]
    },
    {
      "cell_type": "markdown",
      "metadata": {
        "id": "aZ3x-Hg-MFFZ",
        "colab_type": "text"
      },
      "source": [
        "# **Importação da Base e Primeiros Ajustes** "
      ]
    },
    {
      "cell_type": "markdown",
      "metadata": {
        "id": "ytiZAXNa0gH9",
        "colab_type": "text"
      },
      "source": [
        "Os dados foram coletados a partir do kaggle (https://www.kaggle.com/wenruliu/adult-income-dataset), tendo sido exportados para uma planilha csv, disponibilizada no git do projeto."
      ]
    },
    {
      "cell_type": "code",
      "metadata": {
        "id": "fLKfdNgP7Q9K",
        "colab_type": "code",
        "outputId": "f1d343ef-b249-4f59-ca19-2c83fcf310fb",
        "colab": {
          "base_uri": "https://localhost:8080/",
          "height": 363
        }
      },
      "source": [
        "import numpy as np\n",
        "import pandas as pd\n",
        "\n",
        "dataset = pd.read_csv('https://raw.githubusercontent.com/bethmorais/ead-iad/master/adult.csv', na_values=\"?\")\n",
        "dataset.head()"
      ],
      "execution_count": 0,
      "outputs": [
        {
          "output_type": "execute_result",
          "data": {
            "text/html": [
              "<div>\n",
              "<style scoped>\n",
              "    .dataframe tbody tr th:only-of-type {\n",
              "        vertical-align: middle;\n",
              "    }\n",
              "\n",
              "    .dataframe tbody tr th {\n",
              "        vertical-align: top;\n",
              "    }\n",
              "\n",
              "    .dataframe thead th {\n",
              "        text-align: right;\n",
              "    }\n",
              "</style>\n",
              "<table border=\"1\" class=\"dataframe\">\n",
              "  <thead>\n",
              "    <tr style=\"text-align: right;\">\n",
              "      <th></th>\n",
              "      <th>age</th>\n",
              "      <th>workclass</th>\n",
              "      <th>fnlwgt</th>\n",
              "      <th>education</th>\n",
              "      <th>educational-num</th>\n",
              "      <th>marital-status</th>\n",
              "      <th>occupation</th>\n",
              "      <th>relationship</th>\n",
              "      <th>race</th>\n",
              "      <th>gender</th>\n",
              "      <th>capital-gain</th>\n",
              "      <th>capital-loss</th>\n",
              "      <th>hours-per-week</th>\n",
              "      <th>native-country</th>\n",
              "      <th>income</th>\n",
              "    </tr>\n",
              "  </thead>\n",
              "  <tbody>\n",
              "    <tr>\n",
              "      <th>0</th>\n",
              "      <td>25</td>\n",
              "      <td>Private</td>\n",
              "      <td>226802</td>\n",
              "      <td>11th</td>\n",
              "      <td>7</td>\n",
              "      <td>Never-married</td>\n",
              "      <td>Machine-op-inspct</td>\n",
              "      <td>Own-child</td>\n",
              "      <td>Black</td>\n",
              "      <td>Male</td>\n",
              "      <td>0</td>\n",
              "      <td>0</td>\n",
              "      <td>40</td>\n",
              "      <td>United-States</td>\n",
              "      <td>&lt;=50K</td>\n",
              "    </tr>\n",
              "    <tr>\n",
              "      <th>1</th>\n",
              "      <td>38</td>\n",
              "      <td>Private</td>\n",
              "      <td>89814</td>\n",
              "      <td>HS-grad</td>\n",
              "      <td>9</td>\n",
              "      <td>Married-civ-spouse</td>\n",
              "      <td>Farming-fishing</td>\n",
              "      <td>Husband</td>\n",
              "      <td>White</td>\n",
              "      <td>Male</td>\n",
              "      <td>0</td>\n",
              "      <td>0</td>\n",
              "      <td>50</td>\n",
              "      <td>United-States</td>\n",
              "      <td>&lt;=50K</td>\n",
              "    </tr>\n",
              "    <tr>\n",
              "      <th>2</th>\n",
              "      <td>28</td>\n",
              "      <td>Local-gov</td>\n",
              "      <td>336951</td>\n",
              "      <td>Assoc-acdm</td>\n",
              "      <td>12</td>\n",
              "      <td>Married-civ-spouse</td>\n",
              "      <td>Protective-serv</td>\n",
              "      <td>Husband</td>\n",
              "      <td>White</td>\n",
              "      <td>Male</td>\n",
              "      <td>0</td>\n",
              "      <td>0</td>\n",
              "      <td>40</td>\n",
              "      <td>United-States</td>\n",
              "      <td>&gt;50K</td>\n",
              "    </tr>\n",
              "    <tr>\n",
              "      <th>3</th>\n",
              "      <td>44</td>\n",
              "      <td>Private</td>\n",
              "      <td>160323</td>\n",
              "      <td>Some-college</td>\n",
              "      <td>10</td>\n",
              "      <td>Married-civ-spouse</td>\n",
              "      <td>Machine-op-inspct</td>\n",
              "      <td>Husband</td>\n",
              "      <td>Black</td>\n",
              "      <td>Male</td>\n",
              "      <td>7688</td>\n",
              "      <td>0</td>\n",
              "      <td>40</td>\n",
              "      <td>United-States</td>\n",
              "      <td>&gt;50K</td>\n",
              "    </tr>\n",
              "    <tr>\n",
              "      <th>4</th>\n",
              "      <td>18</td>\n",
              "      <td>NaN</td>\n",
              "      <td>103497</td>\n",
              "      <td>Some-college</td>\n",
              "      <td>10</td>\n",
              "      <td>Never-married</td>\n",
              "      <td>NaN</td>\n",
              "      <td>Own-child</td>\n",
              "      <td>White</td>\n",
              "      <td>Female</td>\n",
              "      <td>0</td>\n",
              "      <td>0</td>\n",
              "      <td>30</td>\n",
              "      <td>United-States</td>\n",
              "      <td>&lt;=50K</td>\n",
              "    </tr>\n",
              "  </tbody>\n",
              "</table>\n",
              "</div>"
            ],
            "text/plain": [
              "   age  workclass  fnlwgt  ... hours-per-week  native-country income\n",
              "0   25    Private  226802  ...             40   United-States  <=50K\n",
              "1   38    Private   89814  ...             50   United-States  <=50K\n",
              "2   28  Local-gov  336951  ...             40   United-States   >50K\n",
              "3   44    Private  160323  ...             40   United-States   >50K\n",
              "4   18        NaN  103497  ...             30   United-States  <=50K\n",
              "\n",
              "[5 rows x 15 columns]"
            ]
          },
          "metadata": {
            "tags": []
          },
          "execution_count": 4
        }
      ]
    },
    {
      "cell_type": "markdown",
      "metadata": {
        "id": "y0Xx9lLF0JMM",
        "colab_type": "text"
      },
      "source": [
        "Verificação dos tipos de dados inferidos pelo pandas"
      ]
    },
    {
      "cell_type": "code",
      "metadata": {
        "id": "h4VM--gUQVaX",
        "colab_type": "code",
        "outputId": "e661cb99-a7db-447e-c592-9497ccf95e3b",
        "colab": {
          "base_uri": "https://localhost:8080/",
          "height": 289
        }
      },
      "source": [
        "dataset.dtypes"
      ],
      "execution_count": 0,
      "outputs": [
        {
          "output_type": "execute_result",
          "data": {
            "text/plain": [
              "age                 int64\n",
              "workclass          object\n",
              "fnlwgt              int64\n",
              "education          object\n",
              "educational-num     int64\n",
              "marital-status     object\n",
              "occupation         object\n",
              "relationship       object\n",
              "race               object\n",
              "gender             object\n",
              "capital-gain        int64\n",
              "capital-loss        int64\n",
              "hours-per-week      int64\n",
              "native-country     object\n",
              "income             object\n",
              "dtype: object"
            ]
          },
          "metadata": {
            "tags": []
          },
          "execution_count": 50
        }
      ]
    },
    {
      "cell_type": "markdown",
      "metadata": {
        "id": "faKa_t4Z44VA",
        "colab_type": "text"
      },
      "source": [
        "Ajustando a definição dos tipos de dados."
      ]
    },
    {
      "cell_type": "code",
      "metadata": {
        "id": "N5HWZfKT5Q1M",
        "colab_type": "code",
        "outputId": "62b8a5ac-848b-4081-f442-f8bb1a399d56",
        "colab": {
          "base_uri": "https://localhost:8080/",
          "height": 289
        }
      },
      "source": [
        "#ajustando tipos dos dados\n",
        "dataset['workclass'] = dataset['workclass'].astype('category')\n",
        "dataset['education'] = dataset['education'].astype('category')\n",
        "dataset['marital-status'] = dataset['marital-status'].astype('category')\n",
        "dataset['occupation'] = dataset['occupation'].astype('category')\n",
        "dataset['relationship'] = dataset['relationship'].astype('category')\n",
        "dataset['race'] = dataset['race'].astype('category')\n",
        "dataset['gender'] = dataset['gender'].astype('category')\n",
        "dataset['native-country'] = dataset['native-country'].astype('category')\n",
        "dataset['income'] = dataset['income'].astype('category')\n",
        "dataset['capital-gain'] = dataset['capital-gain'].astype('float')\n",
        "dataset['capital-loss'] = dataset['capital-loss'].astype('float')\n",
        "dataset.dtypes"
      ],
      "execution_count": 0,
      "outputs": [
        {
          "output_type": "execute_result",
          "data": {
            "text/plain": [
              "age                   int64\n",
              "workclass          category\n",
              "fnlwgt                int64\n",
              "education          category\n",
              "educational-num       int64\n",
              "marital-status     category\n",
              "occupation         category\n",
              "relationship       category\n",
              "race               category\n",
              "gender             category\n",
              "capital-gain        float64\n",
              "capital-loss        float64\n",
              "hours-per-week        int64\n",
              "native-country     category\n",
              "income             category\n",
              "dtype: object"
            ]
          },
          "metadata": {
            "tags": []
          },
          "execution_count": 5
        }
      ]
    },
    {
      "cell_type": "markdown",
      "metadata": {
        "id": "z3xevIw14uEP",
        "colab_type": "text"
      },
      "source": [
        "Verificando a quantidade de instâncias (linhas) e atributos (colunas) antes de limpar os dados"
      ]
    },
    {
      "cell_type": "code",
      "metadata": {
        "id": "Yw1vU4sw6_CU",
        "colab_type": "code",
        "outputId": "80405751-83e2-4d6c-9b4c-ee373f25c595",
        "colab": {
          "base_uri": "https://localhost:8080/",
          "height": 34
        }
      },
      "source": [
        "dataset.shape"
      ],
      "execution_count": 0,
      "outputs": [
        {
          "output_type": "execute_result",
          "data": {
            "text/plain": [
              "(48842, 15)"
            ]
          },
          "metadata": {
            "tags": []
          },
          "execution_count": 52
        }
      ]
    },
    {
      "cell_type": "markdown",
      "metadata": {
        "id": "TIDWOxIw5B8M",
        "colab_type": "text"
      },
      "source": [
        "Eliminando linhas repetidas \n",
        "\n",
        "Realmente é necessário remover as linhas repetidas? Acho é factivel ter linhas repetidas para esse tipo de pesquisa!\n"
      ]
    },
    {
      "cell_type": "code",
      "metadata": {
        "id": "_bdg5Ody6dBN",
        "colab_type": "code",
        "colab": {}
      },
      "source": [
        "dataset.drop_duplicates(keep = False, inplace = True)"
      ],
      "execution_count": 0,
      "outputs": []
    },
    {
      "cell_type": "markdown",
      "metadata": {
        "id": "KgqAixSB7PGL",
        "colab_type": "text"
      },
      "source": [
        "Verificando a quantidade de instâncias com atributos nulos"
      ]
    },
    {
      "cell_type": "code",
      "metadata": {
        "id": "xuKt20NZ7qgR",
        "colab_type": "code",
        "outputId": "60021b16-d596-4f61-ec68-b14fa1f1cfbf",
        "colab": {
          "base_uri": "https://localhost:8080/",
          "height": 289
        }
      },
      "source": [
        "print(dataset.isnull().sum())"
      ],
      "execution_count": 0,
      "outputs": [
        {
          "output_type": "stream",
          "text": [
            "age                   0\n",
            "workclass          2791\n",
            "fnlwgt                0\n",
            "education             0\n",
            "educational-num       0\n",
            "marital-status        0\n",
            "occupation         2801\n",
            "relationship          0\n",
            "race                  0\n",
            "gender                0\n",
            "capital-gain          0\n",
            "capital-loss          0\n",
            "hours-per-week        0\n",
            "native-country      855\n",
            "income                0\n",
            "dtype: int64\n"
          ],
          "name": "stdout"
        }
      ]
    },
    {
      "cell_type": "code",
      "metadata": {
        "id": "3W5S1sLb72_j",
        "colab_type": "code",
        "colab": {}
      },
      "source": [
        "#dataset[dataset.workclass.str.match(\"\\?\")]"
      ],
      "execution_count": 0,
      "outputs": []
    },
    {
      "cell_type": "markdown",
      "metadata": {
        "id": "BDbzth2U-8bZ",
        "colab_type": "text"
      },
      "source": [
        "Tratamento de dados ausentes: Removendo as instâncias com atributos nulos, uma vez que a categoria é um atributo relevante (obrigatório) e a quantidade de registros nulos representa ~6% do total de instâncias"
      ]
    },
    {
      "cell_type": "code",
      "metadata": {
        "id": "6d_2jk0Z-CJp",
        "colab_type": "code",
        "colab": {}
      },
      "source": [
        "df2 = dataset.dropna(axis=0)"
      ],
      "execution_count": 0,
      "outputs": []
    },
    {
      "cell_type": "code",
      "metadata": {
        "id": "S3a1Ksrp_s5u",
        "colab_type": "code",
        "outputId": "ff1e69bd-7226-4634-a099-b8ba41cca641",
        "colab": {
          "base_uri": "https://localhost:8080/",
          "height": 34
        }
      },
      "source": [
        "df2.shape"
      ],
      "execution_count": 0,
      "outputs": [
        {
          "output_type": "execute_result",
          "data": {
            "text/plain": [
              "(45131, 15)"
            ]
          },
          "metadata": {
            "tags": []
          },
          "execution_count": 56
        }
      ]
    },
    {
      "cell_type": "markdown",
      "metadata": {
        "id": "vEl1RT1ZAYhF",
        "colab_type": "text"
      },
      "source": [
        "Certificando que todos os registros nulos foram removidos."
      ]
    },
    {
      "cell_type": "code",
      "metadata": {
        "id": "dGxX9-jcDAYD",
        "colab_type": "code",
        "outputId": "c03a5e32-eda3-4d4f-d150-e11ce9772906",
        "colab": {
          "base_uri": "https://localhost:8080/",
          "height": 289
        }
      },
      "source": [
        "print(df2.isnull().sum())"
      ],
      "execution_count": 0,
      "outputs": [
        {
          "output_type": "stream",
          "text": [
            "age                0\n",
            "workclass          0\n",
            "fnlwgt             0\n",
            "education          0\n",
            "educational-num    0\n",
            "marital-status     0\n",
            "occupation         0\n",
            "relationship       0\n",
            "race               0\n",
            "gender             0\n",
            "capital-gain       0\n",
            "capital-loss       0\n",
            "hours-per-week     0\n",
            "native-country     0\n",
            "income             0\n",
            "dtype: int64\n"
          ],
          "name": "stdout"
        }
      ]
    },
    {
      "cell_type": "code",
      "metadata": {
        "id": "Vu5Myym6Dk84",
        "colab_type": "code",
        "colab": {}
      },
      "source": [
        "dataset = df2"
      ],
      "execution_count": 0,
      "outputs": []
    },
    {
      "cell_type": "code",
      "metadata": {
        "id": "G9oU_H1OGE2d",
        "colab_type": "code",
        "outputId": "9fd08f8e-4d6b-4277-a4fe-78e6e3c01423",
        "colab": {
          "base_uri": "https://localhost:8080/",
          "height": 297
        }
      },
      "source": [
        "df2.describe()"
      ],
      "execution_count": 0,
      "outputs": [
        {
          "output_type": "execute_result",
          "data": {
            "text/html": [
              "<div>\n",
              "<style scoped>\n",
              "    .dataframe tbody tr th:only-of-type {\n",
              "        vertical-align: middle;\n",
              "    }\n",
              "\n",
              "    .dataframe tbody tr th {\n",
              "        vertical-align: top;\n",
              "    }\n",
              "\n",
              "    .dataframe thead th {\n",
              "        text-align: right;\n",
              "    }\n",
              "</style>\n",
              "<table border=\"1\" class=\"dataframe\">\n",
              "  <thead>\n",
              "    <tr style=\"text-align: right;\">\n",
              "      <th></th>\n",
              "      <th>age</th>\n",
              "      <th>fnlwgt</th>\n",
              "      <th>educational-num</th>\n",
              "      <th>capital-gain</th>\n",
              "      <th>capital-loss</th>\n",
              "      <th>hours-per-week</th>\n",
              "    </tr>\n",
              "  </thead>\n",
              "  <tbody>\n",
              "    <tr>\n",
              "      <th>count</th>\n",
              "      <td>45131.000000</td>\n",
              "      <td>4.513100e+04</td>\n",
              "      <td>45131.000000</td>\n",
              "      <td>45131.000000</td>\n",
              "      <td>45131.000000</td>\n",
              "      <td>45131.000000</td>\n",
              "    </tr>\n",
              "    <tr>\n",
              "      <th>mean</th>\n",
              "      <td>38.563426</td>\n",
              "      <td>1.897468e+05</td>\n",
              "      <td>10.119851</td>\n",
              "      <td>1103.651215</td>\n",
              "      <td>88.774058</td>\n",
              "      <td>40.947176</td>\n",
              "    </tr>\n",
              "    <tr>\n",
              "      <th>std</th>\n",
              "      <td>13.212944</td>\n",
              "      <td>1.056640e+05</td>\n",
              "      <td>2.551194</td>\n",
              "      <td>7513.831139</td>\n",
              "      <td>405.344601</td>\n",
              "      <td>12.007629</td>\n",
              "    </tr>\n",
              "    <tr>\n",
              "      <th>min</th>\n",
              "      <td>17.000000</td>\n",
              "      <td>1.349200e+04</td>\n",
              "      <td>1.000000</td>\n",
              "      <td>0.000000</td>\n",
              "      <td>0.000000</td>\n",
              "      <td>1.000000</td>\n",
              "    </tr>\n",
              "    <tr>\n",
              "      <th>25%</th>\n",
              "      <td>28.000000</td>\n",
              "      <td>1.173965e+05</td>\n",
              "      <td>9.000000</td>\n",
              "      <td>0.000000</td>\n",
              "      <td>0.000000</td>\n",
              "      <td>40.000000</td>\n",
              "    </tr>\n",
              "    <tr>\n",
              "      <th>50%</th>\n",
              "      <td>37.000000</td>\n",
              "      <td>1.783120e+05</td>\n",
              "      <td>10.000000</td>\n",
              "      <td>0.000000</td>\n",
              "      <td>0.000000</td>\n",
              "      <td>40.000000</td>\n",
              "    </tr>\n",
              "    <tr>\n",
              "      <th>75%</th>\n",
              "      <td>47.000000</td>\n",
              "      <td>2.378705e+05</td>\n",
              "      <td>13.000000</td>\n",
              "      <td>0.000000</td>\n",
              "      <td>0.000000</td>\n",
              "      <td>45.000000</td>\n",
              "    </tr>\n",
              "    <tr>\n",
              "      <th>max</th>\n",
              "      <td>90.000000</td>\n",
              "      <td>1.490400e+06</td>\n",
              "      <td>16.000000</td>\n",
              "      <td>99999.000000</td>\n",
              "      <td>4356.000000</td>\n",
              "      <td>99.000000</td>\n",
              "    </tr>\n",
              "  </tbody>\n",
              "</table>\n",
              "</div>"
            ],
            "text/plain": [
              "                age        fnlwgt  ...  capital-loss  hours-per-week\n",
              "count  45131.000000  4.513100e+04  ...  45131.000000    45131.000000\n",
              "mean      38.563426  1.897468e+05  ...     88.774058       40.947176\n",
              "std       13.212944  1.056640e+05  ...    405.344601       12.007629\n",
              "min       17.000000  1.349200e+04  ...      0.000000        1.000000\n",
              "25%       28.000000  1.173965e+05  ...      0.000000       40.000000\n",
              "50%       37.000000  1.783120e+05  ...      0.000000       40.000000\n",
              "75%       47.000000  2.378705e+05  ...      0.000000       45.000000\n",
              "max       90.000000  1.490400e+06  ...   4356.000000       99.000000\n",
              "\n",
              "[8 rows x 6 columns]"
            ]
          },
          "metadata": {
            "tags": []
          },
          "execution_count": 59
        }
      ]
    },
    {
      "cell_type": "markdown",
      "metadata": {
        "id": "q-uTMhhjJGlr",
        "colab_type": "text"
      },
      "source": [
        "Dentre as variáveis contínuas, estamos vendo valores máximos que são muito distantes dos valores do terceiro quartil e também muito maiores que a média acrescida de dois desvios-padrão em \"age\",\"capital-gain\", \"capital-loss\" e \"hours-per-week\", vamos fazer o boxplot e/ou histograma de cada uma destas variáveis. Podemos pensar na possibilidade da existência de outliers."
      ]
    },
    {
      "cell_type": "code",
      "metadata": {
        "id": "4jwFMwaHJF3K",
        "colab_type": "code",
        "outputId": "f21417e3-9916-4e13-ba30-84e673fc5a93",
        "colab": {
          "base_uri": "https://localhost:8080/",
          "height": 221
        }
      },
      "source": [
        "df2[\"capital-gain\"].value_counts()"
      ],
      "execution_count": 0,
      "outputs": [
        {
          "output_type": "execute_result",
          "data": {
            "text/plain": [
              "0.0        41341\n",
              "15024.0      498\n",
              "7688.0       391\n",
              "7298.0       351\n",
              "99999.0      229\n",
              "           ...  \n",
              "22040.0        1\n",
              "1731.0         1\n",
              "2387.0         1\n",
              "1639.0         1\n",
              "7262.0         1\n",
              "Name: capital-gain, Length: 121, dtype: int64"
            ]
          },
          "metadata": {
            "tags": []
          },
          "execution_count": 9
        }
      ]
    },
    {
      "cell_type": "code",
      "metadata": {
        "id": "8GWSTHVxRlxa",
        "colab_type": "code",
        "outputId": "3b892aac-59d7-4ee7-b15e-9ff57d7e3919",
        "colab": {
          "base_uri": "https://localhost:8080/",
          "height": 282
        }
      },
      "source": [
        "df2[\"capital-gain\"].hist()"
      ],
      "execution_count": 0,
      "outputs": [
        {
          "output_type": "execute_result",
          "data": {
            "text/plain": [
              "<matplotlib.axes._subplots.AxesSubplot at 0x7fd559d97400>"
            ]
          },
          "metadata": {
            "tags": []
          },
          "execution_count": 10
        },
        {
          "output_type": "display_data",
          "data": {
            "image/png": "[encoded data removed]",
            "text/plain": [
              "<Figure size 432x288 with 1 Axes>"
            ]
          },
          "metadata": {
            "tags": []
          }
        }
      ]
    },
    {
      "cell_type": "code",
      "metadata": {
        "id": "TGjdT0cvkTBZ",
        "colab_type": "code",
        "outputId": "cce18bfd-17ed-4ac2-96ea-d6dba011761f",
        "colab": {
          "base_uri": "https://localhost:8080/",
          "height": 282
        }
      },
      "source": [
        "df2[(df2['capital-gain'] > 0)]['capital-gain'].hist()"
      ],
      "execution_count": 0,
      "outputs": [
        {
          "output_type": "execute_result",
          "data": {
            "text/plain": [
              "<matplotlib.axes._subplots.AxesSubplot at 0x7f7f0ec6b208>"
            ]
          },
          "metadata": {
            "tags": []
          },
          "execution_count": 14
        },
        {
          "output_type": "display_data",
          "data": {
            "image/png": "[encoded data removed]",
            "text/plain": [
              "<Figure size 432x288 with 1 Axes>"
            ]
          },
          "metadata": {
            "tags": []
          }
        }
      ]
    },
    {
      "cell_type": "code",
      "metadata": {
        "id": "rzeD-Pz3p2Pr",
        "colab_type": "code",
        "outputId": "a8952076-91f2-483a-8eb0-4035aeba3f16",
        "colab": {
          "base_uri": "https://localhost:8080/",
          "height": 170
        }
      },
      "source": [
        "df2[(df2['capital-gain'] > 0)]['capital-gain'].describe()"
      ],
      "execution_count": 0,
      "outputs": [
        {
          "output_type": "execute_result",
          "data": {
            "text/plain": [
              "count     3790.000000\n",
              "mean     13142.185488\n",
              "std      22676.003955\n",
              "min        114.000000\n",
              "25%       3464.000000\n",
              "50%       7298.000000\n",
              "75%      14084.000000\n",
              "max      99999.000000\n",
              "Name: capital-gain, dtype: float64"
            ]
          },
          "metadata": {
            "tags": []
          },
          "execution_count": 11
        }
      ]
    },
    {
      "cell_type": "code",
      "metadata": {
        "id": "-RGuGvMuW14k",
        "colab_type": "code",
        "outputId": "02fdd561-2fb8-49ab-ee8a-890ceb89588e",
        "colab": {
          "base_uri": "https://localhost:8080/",
          "height": 221
        }
      },
      "source": [
        "df2[\"capital-loss\"].value_counts()"
      ],
      "execution_count": 0,
      "outputs": [
        {
          "output_type": "execute_result",
          "data": {
            "text/plain": [
              "0       42991\n",
              "1902      294\n",
              "1977      246\n",
              "1887      228\n",
              "2415       68\n",
              "        ...  \n",
              "2201        1\n",
              "1421        1\n",
              "4356        1\n",
              "2163        1\n",
              "1870        1\n",
              "Name: capital-loss, Length: 97, dtype: int64"
            ]
          },
          "metadata": {
            "tags": []
          },
          "execution_count": 15
        }
      ]
    },
    {
      "cell_type": "code",
      "metadata": {
        "id": "kXWc3YTCJQTK",
        "colab_type": "code",
        "outputId": "81be46d6-a431-44c4-f5c7-b22611f039a2",
        "colab": {
          "base_uri": "https://localhost:8080/",
          "height": 282
        }
      },
      "source": [
        "df2[\"capital-loss\"].hist()"
      ],
      "execution_count": 0,
      "outputs": [
        {
          "output_type": "execute_result",
          "data": {
            "text/plain": [
              "<matplotlib.axes._subplots.AxesSubplot at 0x7f7f0ebf6b70>"
            ]
          },
          "metadata": {
            "tags": []
          },
          "execution_count": 16
        },
        {
          "output_type": "display_data",
          "data": {
            "image/png": "[encoded data removed]",
            "text/plain": [
              "<Figure size 432x288 with 1 Axes>"
            ]
          },
          "metadata": {
            "tags": []
          }
        }
      ]
    },
    {
      "cell_type": "code",
      "metadata": {
        "id": "u3i0xqdykY4Z",
        "colab_type": "code",
        "outputId": "335f37a2-6636-4d2a-d435-fe59cb8d3017",
        "colab": {
          "base_uri": "https://localhost:8080/",
          "height": 283
        }
      },
      "source": [
        "df2[(df2['capital-loss'] > 0)]['capital-loss'].hist()"
      ],
      "execution_count": 0,
      "outputs": [
        {
          "output_type": "execute_result",
          "data": {
            "text/plain": [
              "<matplotlib.axes._subplots.AxesSubplot at 0x7f3f3f239748>"
            ]
          },
          "metadata": {
            "tags": []
          },
          "execution_count": 11
        },
        {
          "output_type": "display_data",
          "data": {
            "image/png": "[encoded data removed]",
            "text/plain": [
              "<Figure size 432x288 with 1 Axes>"
            ]
          },
          "metadata": {
            "tags": []
          }
        }
      ]
    },
    {
      "cell_type": "code",
      "metadata": {
        "id": "Zlt1gIgvo52G",
        "colab_type": "code",
        "outputId": "e69d02fd-d7d3-4e7c-d16a-80ec56afa8d2",
        "colab": {
          "base_uri": "https://localhost:8080/",
          "height": 221
        }
      },
      "source": [
        "df2[(df2['capital-loss'] > 0)]['capital-loss'].describe"
      ],
      "execution_count": 0,
      "outputs": [
        {
          "output_type": "execute_result",
          "data": {
            "text/plain": [
              "<bound method NDFrame.describe of 52       1721.0\n",
              "82       1876.0\n",
              "129      2415.0\n",
              "143      1887.0\n",
              "154      1887.0\n",
              "          ...  \n",
              "48722    1887.0\n",
              "48724    1602.0\n",
              "48726    1669.0\n",
              "48739    1977.0\n",
              "48781     880.0\n",
              "Name: capital-loss, Length: 2140, dtype: float64>"
            ]
          },
          "metadata": {
            "tags": []
          },
          "execution_count": 12
        }
      ]
    },
    {
      "cell_type": "markdown",
      "metadata": {
        "id": "pgVaMOM4Rav-",
        "colab_type": "text"
      },
      "source": [
        "Pelos histogramas e contagem dos valores, vemos que \"capital-gain\" e \"capital-loss\" não possuem valores aberrantes pura e simplemente, mas que a maioria dos valores são nulos. \n",
        "\n",
        "Sendo assim, as estatísticas posicionais como quartis detectarão a existência de outliers sem que necessariamente seja o caso. Dessa forma, não poderíamos usar o Inter Quartile Range (método de Tuckey) como técnica para detecção de outliers nestas variáveis como estão, pois eles são baseados em estatísticas posicionais. \n",
        "\n",
        "Como \"capital-loss\" parece ter uma distribuição simétrica, com valores entre 1000 e 4000, o que podemos fazer é retirar os valores nulos e então investigar a presença de outliers pelos métodos de Tuckey e z-score robusto."
      ]
    },
    {
      "cell_type": "code",
      "metadata": {
        "id": "S_TbMP9-hGxY",
        "colab_type": "code",
        "outputId": "8d4c8aa1-f531-4509-a9fb-8b01d952015a",
        "colab": {
          "base_uri": "https://localhost:8080/",
          "height": 170
        }
      },
      "source": [
        "df2[\"hours-per-week\"].describe()"
      ],
      "execution_count": 0,
      "outputs": [
        {
          "output_type": "execute_result",
          "data": {
            "text/plain": [
              "count    45131.000000\n",
              "mean        40.947176\n",
              "std         12.007629\n",
              "min          1.000000\n",
              "25%         40.000000\n",
              "50%         40.000000\n",
              "75%         45.000000\n",
              "max         99.000000\n",
              "Name: hours-per-week, dtype: float64"
            ]
          },
          "metadata": {
            "tags": []
          },
          "execution_count": 12
        }
      ]
    },
    {
      "cell_type": "code",
      "metadata": {
        "id": "es-2__3KJbap",
        "colab_type": "code",
        "outputId": "8e0c6ff3-fac1-4f04-bc59-247bf57e4f9b",
        "colab": {
          "base_uri": "https://localhost:8080/",
          "height": 282
        }
      },
      "source": [
        "df2[\"hours-per-week\"].plot.box()"
      ],
      "execution_count": 0,
      "outputs": [
        {
          "output_type": "execute_result",
          "data": {
            "text/plain": [
              "<matplotlib.axes._subplots.AxesSubplot at 0x7f89664a5a58>"
            ]
          },
          "metadata": {
            "tags": []
          },
          "execution_count": 31
        },
        {
          "output_type": "display_data",
          "data": {
            "image/png": "[encoded data removed]",
            "text/plain": [
              "<Figure size 432x288 with 1 Axes>"
            ]
          },
          "metadata": {
            "tags": []
          }
        }
      ]
    },
    {
      "cell_type": "code",
      "metadata": {
        "id": "a5QArYfUhe27",
        "colab_type": "code",
        "outputId": "b1ef558f-5d9c-4033-c7c1-00031c1cbfdd",
        "colab": {
          "base_uri": "https://localhost:8080/",
          "height": 282
        }
      },
      "source": [
        "df2[\"hours-per-week\"].hist()"
      ],
      "execution_count": 0,
      "outputs": [
        {
          "output_type": "execute_result",
          "data": {
            "text/plain": [
              "<matplotlib.axes._subplots.AxesSubplot at 0x7f8966085208>"
            ]
          },
          "metadata": {
            "tags": []
          },
          "execution_count": 76
        },
        {
          "output_type": "display_data",
          "data": {
            "image/png": "[encoded data removed]",
            "text/plain": [
              "<Figure size 432x288 with 1 Axes>"
            ]
          },
          "metadata": {
            "tags": []
          }
        }
      ]
    },
    {
      "cell_type": "markdown",
      "metadata": {
        "id": "CgWaMnd9gYjK",
        "colab_type": "text"
      },
      "source": [
        "Já no caso da variável \"hours-per-week\", temos uma continuidade muito maior de valores. Ainda assim, há observações de 99h semanais e 1h semanal. Aplicaremos as formas de detecção de outliers a seguir.   "
      ]
    },
    {
      "cell_type": "code",
      "metadata": {
        "id": "j-Tf-PPog1vE",
        "colab_type": "code",
        "outputId": "1b76ac7b-2fc3-4dc0-8caa-fe2a7d3c6607",
        "colab": {
          "base_uri": "https://localhost:8080/",
          "height": 170
        }
      },
      "source": [
        "df2[\"age\"].describe()"
      ],
      "execution_count": 0,
      "outputs": [
        {
          "output_type": "execute_result",
          "data": {
            "text/plain": [
              "count    45131.000000\n",
              "mean        38.563426\n",
              "std         13.212944\n",
              "min         17.000000\n",
              "25%         28.000000\n",
              "50%         37.000000\n",
              "75%         47.000000\n",
              "max         90.000000\n",
              "Name: age, dtype: float64"
            ]
          },
          "metadata": {
            "tags": []
          },
          "execution_count": 24
        }
      ]
    },
    {
      "cell_type": "code",
      "metadata": {
        "id": "gu3S7GXLeKym",
        "colab_type": "code",
        "outputId": "ce4f90b5-bb65-46d6-ca29-8433656800db",
        "colab": {
          "base_uri": "https://localhost:8080/",
          "height": 282
        }
      },
      "source": [
        "df2[\"age\"].hist()"
      ],
      "execution_count": 0,
      "outputs": [
        {
          "output_type": "execute_result",
          "data": {
            "text/plain": [
              "<matplotlib.axes._subplots.AxesSubplot at 0x7fd55985d828>"
            ]
          },
          "metadata": {
            "tags": []
          },
          "execution_count": 14
        },
        {
          "output_type": "display_data",
          "data": {
            "image/png": "[encoded data removed]",
            "text/plain": [
              "<Figure size 432x288 with 1 Axes>"
            ]
          },
          "metadata": {
            "tags": []
          }
        }
      ]
    },
    {
      "cell_type": "markdown",
      "metadata": {
        "id": "uU7VtzG4wKwr",
        "colab_type": "text"
      },
      "source": [
        "Age se distribui e possui valores etários bastante razoáveis. Não indica sinais de outliers nesta variável."
      ]
    },
    {
      "cell_type": "markdown",
      "metadata": {
        "id": "1jgsCp5wO5ut",
        "colab_type": "text"
      },
      "source": [
        "#**Teste para Presença e Eliminação de Outliers** "
      ]
    },
    {
      "cell_type": "markdown",
      "metadata": {
        "id": "-OqD7GCXdp9D",
        "colab_type": "text"
      },
      "source": [
        "### 1. Eliminação de outliers de horas semanais trabalhadas ('hours-per-week')"
      ]
    },
    {
      "cell_type": "markdown",
      "metadata": {
        "id": "MeRaWsBJvELn",
        "colab_type": "text"
      },
      "source": [
        "Como vimos no tópico anterior, temos indicações de que algumas das  variáveis contínuas possuem outliers. "
      ]
    },
    {
      "cell_type": "markdown",
      "metadata": {
        "id": "CggLsFQqtRFf",
        "colab_type": "text"
      },
      "source": [
        "### 1.1. Utilizando o método Z-score robusto \n",
        "Agora vamos adaptar as variáveis e retirar estas observações com valores discrepantes indevidos. "
      ]
    },
    {
      "cell_type": "code",
      "metadata": {
        "id": "PWGshC3lUcWM",
        "colab_type": "code",
        "outputId": "66ce62ad-8628-4085-a9ad-7f08f02ac571",
        "colab": {
          "base_uri": "https://localhost:8080/",
          "height": 34
        }
      },
      "source": [
        "mad = abs(df2['hours-per-week'] - df2['hours-per-week'].median()).median()*(1/0.6745)\n",
        "print(mad)"
      ],
      "execution_count": 0,
      "outputs": [
        {
          "output_type": "stream",
          "text": [
            "4.447739065974796\n"
          ],
          "name": "stdout"
        }
      ]
    },
    {
      "cell_type": "code",
      "metadata": {
        "id": "sM4cpKHxxGPk",
        "colab_type": "code",
        "colab": {}
      },
      "source": [
        ""
      ],
      "execution_count": 0,
      "outputs": []
    },
    {
      "cell_type": "code",
      "metadata": {
        "id": "waYp7gjnvFp1",
        "colab_type": "code",
        "outputId": "ed2ea84b-f404-4397-f37b-f5c29a4cef9a",
        "colab": {
          "base_uri": "https://localhost:8080/",
          "height": 170
        }
      },
      "source": [
        "df2[\"hours-per-week\"].describe()"
      ],
      "execution_count": 0,
      "outputs": [
        {
          "output_type": "execute_result",
          "data": {
            "text/plain": [
              "count    45131.000000\n",
              "mean        40.947176\n",
              "std         12.007629\n",
              "min          1.000000\n",
              "25%         40.000000\n",
              "50%         40.000000\n",
              "75%         45.000000\n",
              "max         99.000000\n",
              "Name: hours-per-week, dtype: float64"
            ]
          },
          "metadata": {
            "tags": []
          },
          "execution_count": 16
        }
      ]
    },
    {
      "cell_type": "code",
      "metadata": {
        "id": "Jzu0TCs2bGAr",
        "colab_type": "code",
        "outputId": "397941ff-f954-49e6-c8c0-818c799163b3",
        "colab": {
          "base_uri": "https://localhost:8080/",
          "height": 282
        }
      },
      "source": [
        "(abs(df2['hours-per-week']-df2['hours-per-week'].median())/mad).hist()"
      ],
      "execution_count": 0,
      "outputs": [
        {
          "output_type": "execute_result",
          "data": {
            "text/plain": [
              "<matplotlib.axes._subplots.AxesSubplot at 0x7fd5585b0908>"
            ]
          },
          "metadata": {
            "tags": []
          },
          "execution_count": 17
        },
        {
          "output_type": "display_data",
          "data": {
            "image/png": "[encoded data removed]",
            "text/plain": [
              "<Figure size 432x288 with 1 Axes>"
            ]
          },
          "metadata": {
            "tags": []
          }
        }
      ]
    },
    {
      "cell_type": "markdown",
      "metadata": {
        "id": "biugRyUhSykQ",
        "colab_type": "text"
      },
      "source": [
        "Aqui estabelecemos outra base chamada df3, que estará sem os outliers."
      ]
    },
    {
      "cell_type": "code",
      "metadata": {
        "id": "Rb6cBccuSgla",
        "colab_type": "code",
        "outputId": "26422a7a-7041-49f8-b34c-7fd0b64c7ef6",
        "colab": {
          "base_uri": "https://localhost:8080/",
          "height": 34
        }
      },
      "source": [
        "df3 = df2[abs(df2['hours-per-week']-df2['hours-per-week'].median())/mad < 3.5]\n",
        "print(len(df3))"
      ],
      "execution_count": 56,
      "outputs": [
        {
          "output_type": "stream",
          "text": [
            "37239\n"
          ],
          "name": "stdout"
        }
      ]
    },
    {
      "cell_type": "code",
      "metadata": {
        "id": "cna9mEcKT_kh",
        "colab_type": "code",
        "outputId": "4594c244-cca8-4003-8e21-d36063d36449",
        "colab": {
          "base_uri": "https://localhost:8080/",
          "height": 170
        }
      },
      "source": [
        "df3['hours-per-week'].describe()"
      ],
      "execution_count": 57,
      "outputs": [
        {
          "output_type": "execute_result",
          "data": {
            "text/plain": [
              "count    37239.000000\n",
              "mean        41.008486\n",
              "std          5.739248\n",
              "min         25.000000\n",
              "25%         40.000000\n",
              "50%         40.000000\n",
              "75%         43.000000\n",
              "max         55.000000\n",
              "Name: hours-per-week, dtype: float64"
            ]
          },
          "metadata": {
            "tags": []
          },
          "execution_count": 57
        }
      ]
    },
    {
      "cell_type": "code",
      "metadata": {
        "id": "xYe0TJBEUVPF",
        "colab_type": "code",
        "outputId": "4c463d87-fa1a-4da1-cfb0-b1475c157c9d",
        "colab": {
          "base_uri": "https://localhost:8080/",
          "height": 282
        }
      },
      "source": [
        "df3[\"hours-per-week\"].plot.box()"
      ],
      "execution_count": 0,
      "outputs": [
        {
          "output_type": "execute_result",
          "data": {
            "text/plain": [
              "<matplotlib.axes._subplots.AxesSubplot at 0x7fd55851b780>"
            ]
          },
          "metadata": {
            "tags": []
          },
          "execution_count": 25
        },
        {
          "output_type": "display_data",
          "data": {
            "image/png": "[encoded data removed]",
            "text/plain": [
              "<Figure size 432x288 with 1 Axes>"
            ]
          },
          "metadata": {
            "tags": []
          }
        }
      ]
    },
    {
      "cell_type": "markdown",
      "metadata": {
        "id": "a_sOdhA9UxKh",
        "colab_type": "text"
      },
      "source": [
        "A variação de 'hours-per-week' pós retirada de observações detectadas como outliers pelo desvio da mediana revela uma distribuição mais razoável, com relatos de pessoas no mínimo trabalhando 25h/semana (5h/dia) e no máximo trabalhando 55h/semana (11h/dia), o que parecem dados mais razoáveis. Mesmo com a maior flexibilidade do mercado de trabalho norte-americano, é viável encontrar cargas de trabalho com tal magnitude. \n",
        "\n",
        "Pelo boxplot podemos ver que ainda há resultados que seriam contabilizados fora do critério do Inter Quartile Range (IQR) do método de Tuckey: todos os dados fora das barras externas seriam entendidos como outliers por este critério. No entanto, para conter dados que caracterizem melhor este mercado de trabalho menos regulamentado e um pouco mais diverso em termos de carga horária, iremos manter tais dados que ficariam fora do critério do IQR. "
      ]
    },
    {
      "cell_type": "code",
      "metadata": {
        "id": "LKYsat2kbcPP",
        "colab_type": "code",
        "outputId": "3fbb1d13-6a0d-4c51-b605-2ed17e69081d",
        "colab": {
          "base_uri": "https://localhost:8080/",
          "height": 34
        }
      },
      "source": [
        "q1 = df2['hours-per-week'].quantile(q=0.25)\n",
        "q3 = df2['hours-per-week'].quantile(q=0.75)\n",
        "iqr = q3 - q1\n",
        "print(iqr)"
      ],
      "execution_count": 0,
      "outputs": [
        {
          "output_type": "stream",
          "text": [
            "5.0\n"
          ],
          "name": "stdout"
        }
      ]
    },
    {
      "cell_type": "markdown",
      "metadata": {
        "id": "xTlYKpDEWvA6",
        "colab_type": "text"
      },
      "source": [
        "### 1.2. Utilizando o método de Tuckey\n",
        "\n",
        "A título de exemplo, iremoa criar a base df4, retirando todas as observações entendidas como outliers dentro dos critérios desse método. "
      ]
    },
    {
      "cell_type": "code",
      "metadata": {
        "id": "NAwXxSW9be92",
        "colab_type": "code",
        "colab": {}
      },
      "source": [
        "df4 = df2[df2['hours-per-week'] < (q1-1.5*iqr)]"
      ],
      "execution_count": 0,
      "outputs": []
    },
    {
      "cell_type": "markdown",
      "metadata": {
        "id": "tOvlV2k_W7Zz",
        "colab_type": "text"
      },
      "source": [
        "O boxplot desta base de dados está aqui. Note que o intervalo de dados restante é muito mais restrito do que em df3. "
      ]
    },
    {
      "cell_type": "markdown",
      "metadata": {
        "id": "gQPiT2XazEYD",
        "colab_type": "text"
      },
      "source": [
        ""
      ]
    },
    {
      "cell_type": "code",
      "metadata": {
        "id": "WVUY-vfIWpyz",
        "colab_type": "code",
        "outputId": "c234e3cb-9020-40cb-f7a1-f7df4b17ad3d",
        "colab": {
          "base_uri": "https://localhost:8080/",
          "height": 282
        }
      },
      "source": [
        "df4[\"hours-per-week\"].plot.box()"
      ],
      "execution_count": 0,
      "outputs": [
        {
          "output_type": "execute_result",
          "data": {
            "text/plain": [
              "<matplotlib.axes._subplots.AxesSubplot at 0x7fd5584215f8>"
            ]
          },
          "metadata": {
            "tags": []
          },
          "execution_count": 28
        },
        {
          "output_type": "display_data",
          "data": {
            "image/png": "[encoded data removed]",
            "text/plain": [
              "<Figure size 432x288 with 1 Axes>"
            ]
          },
          "metadata": {
            "tags": []
          }
        }
      ]
    },
    {
      "cell_type": "markdown",
      "metadata": {
        "id": "X3i_Jz9FXNiE",
        "colab_type": "text"
      },
      "source": [
        "Também podemos observar que teríamos uma quantidade muito reduzida de observações, de 37.239 dados, usando o método de retirada de outliers baseado na MAD (distância absoluta da mediana) contra 6.900 observações usando o método de Tuckey. Além da questão de que a variabilidade de contratos de trabalho, fundamental para descrever a renda dos indivíduos amostrados neste país, seria perdida. \n",
        "\n",
        "Além disso, pela descrição da variável, o método de Tuckey identificou apenas outliers com valores muito altos em detrimento de outliers com valores muito baixos. Tal fenômeno pode ser entendido através do fato de que haverá um quantitativo maior de pessoas com empregos de meio expediente ou expediente parcial (com menos de 40h semanais), como estudantes, pessoas que possuem contratos mais flexíveis e trabalhadores sazonais ou temporários. \n",
        "Já trabalhadores que ultrapassem uma jornada de 11h diárias, 5 dias por semana são muito pontuais (e em alguns casos, provavelmente erros de digitação ou coleta mesmo). \n",
        "\n",
        "Sendo assim, com uma mudança mais suave de quantidade de horas trabalhadas, os quantis anteriores aos .50 (mediana) terão valores muito mais próximos do que os quantis de valor maior que a mediana. Assim, a distância interquartis da metade maior será mais facilmente detectada. Nesta base de dados, isto se dá de modo tão intenso que nenhuma observação da metade menor dos dados foi lida como outlier por este método.  \n",
        "\n",
        "Por conta disso, o IQR detectou apenas outliers de valor muito alto, mas o fez de modo a reduzir muito a amostra e tornando-a viesada para os casos de poucas horas, tendo um desvio-padrão um tanto maior e uma média muito menor. \n",
        "\n",
        "O valor médio de 'hours-per-week' na base de dados original, a df2, era de 40.947176. Já a média de 'hours-per-week' em df3 é de 41.008486, enquanto em df4 é de 21.564493. A mudança do valor médio, quase a metade em df4, nos faz perceber que a forma de retirar outliers pelo método de Tuckey trouxe uma distorção aos dados, que já não caracterizam a amostra de maneira tão equilibrada. \n",
        "\n",
        "Sendo assim, voltaremos a usar df3 e não df4."
      ]
    },
    {
      "cell_type": "code",
      "metadata": {
        "id": "QFBLcoJ5XKKl",
        "colab_type": "code",
        "outputId": "ee997ed1-1690-42cf-b7d9-383092a9d49f",
        "colab": {
          "base_uri": "https://localhost:8080/",
          "height": 170
        }
      },
      "source": [
        "df4['hours-per-week'].describe()"
      ],
      "execution_count": 0,
      "outputs": [
        {
          "output_type": "execute_result",
          "data": {
            "text/plain": [
              "count    6900.000000\n",
              "mean       21.564493\n",
              "std         7.410580\n",
              "min         1.000000\n",
              "25%        16.000000\n",
              "50%        20.000000\n",
              "75%        30.000000\n",
              "max        32.000000\n",
              "Name: hours-per-week, dtype: float64"
            ]
          },
          "metadata": {
            "tags": []
          },
          "execution_count": 29
        }
      ]
    },
    {
      "cell_type": "markdown",
      "metadata": {
        "id": "eJrXYnItd218",
        "colab_type": "text"
      },
      "source": [
        " ### 2. Eliminação de outliers de rendimentos fora do trabalho principal ('capital-gain' e 'capital-loss')"
      ]
    },
    {
      "cell_type": "markdown",
      "metadata": {
        "id": "8QVn4fI4ANkV",
        "colab_type": "text"
      },
      "source": [
        "# **Início da Análise de renda extra (Rendimentos fora do trabalho principal)** "
      ]
    },
    {
      "cell_type": "code",
      "metadata": {
        "id": "r0bFggwB0ZOu",
        "colab_type": "code",
        "outputId": "cf2c62db-fe22-4b4b-d78d-a6059a170f5d",
        "colab": {
          "base_uri": "https://localhost:8080/",
          "height": 323
        }
      },
      "source": [
        "df3.dtypes"
      ],
      "execution_count": 0,
      "outputs": [
        {
          "output_type": "execute_result",
          "data": {
            "text/plain": [
              "age                   int64\n",
              "workclass          category\n",
              "fnlwgt                int64\n",
              "education          category\n",
              "educational-num       int64\n",
              "marital-status     category\n",
              "occupation         category\n",
              "relationship       category\n",
              "race               category\n",
              "gender             category\n",
              "capital-gain        float64\n",
              "capital-loss        float64\n",
              "hours-per-week        int64\n",
              "native-country     category\n",
              "income             category\n",
              "capital-result      float64\n",
              "capital-result3     float64\n",
              "dtype: object"
            ]
          },
          "metadata": {
            "tags": []
          },
          "execution_count": 36
        }
      ]
    },
    {
      "cell_type": "code",
      "metadata": {
        "id": "psj0mzEbnsSG",
        "colab_type": "code",
        "outputId": "894ba946-92a3-4c9b-9956-2dc03b1fb519",
        "colab": {
          "base_uri": "https://localhost:8080/",
          "height": 159
        }
      },
      "source": [
        "df3['capital-result'] = df3['capital-gain'] - df3['capital-loss']"
      ],
      "execution_count": 58,
      "outputs": [
        {
          "output_type": "stream",
          "text": [
            "/usr/local/lib/python3.6/dist-packages/ipykernel_launcher.py:1: SettingWithCopyWarning: \n",
            "A value is trying to be set on a copy of a slice from a DataFrame.\n",
            "Try using .loc[row_indexer,col_indexer] = value instead\n",
            "\n",
            "See the caveats in the documentation: http://pandas.pydata.org/pandas-docs/stable/user_guide/indexing.html#returning-a-view-versus-a-copy\n",
            "  \"\"\"Entry point for launching an IPython kernel.\n"
          ],
          "name": "stderr"
        }
      ]
    },
    {
      "cell_type": "code",
      "metadata": {
        "id": "dHot5CmGYir7",
        "colab_type": "code",
        "outputId": "f64e5d7a-36d8-48d1-b685-ba98c4be68cf",
        "colab": {
          "base_uri": "https://localhost:8080/",
          "height": 363
        }
      },
      "source": [
        "df3.head()"
      ],
      "execution_count": 0,
      "outputs": [
        {
          "output_type": "execute_result",
          "data": {
            "text/html": [
              "<div>\n",
              "<style scoped>\n",
              "    .dataframe tbody tr th:only-of-type {\n",
              "        vertical-align: middle;\n",
              "    }\n",
              "\n",
              "    .dataframe tbody tr th {\n",
              "        vertical-align: top;\n",
              "    }\n",
              "\n",
              "    .dataframe thead th {\n",
              "        text-align: right;\n",
              "    }\n",
              "</style>\n",
              "<table border=\"1\" class=\"dataframe\">\n",
              "  <thead>\n",
              "    <tr style=\"text-align: right;\">\n",
              "      <th></th>\n",
              "      <th>age</th>\n",
              "      <th>workclass</th>\n",
              "      <th>fnlwgt</th>\n",
              "      <th>education</th>\n",
              "      <th>educational-num</th>\n",
              "      <th>marital-status</th>\n",
              "      <th>occupation</th>\n",
              "      <th>relationship</th>\n",
              "      <th>race</th>\n",
              "      <th>gender</th>\n",
              "      <th>capital-gain</th>\n",
              "      <th>capital-loss</th>\n",
              "      <th>hours-per-week</th>\n",
              "      <th>native-country</th>\n",
              "      <th>income</th>\n",
              "      <th>capital-result</th>\n",
              "      <th>capital-result3</th>\n",
              "    </tr>\n",
              "  </thead>\n",
              "  <tbody>\n",
              "    <tr>\n",
              "      <th>0</th>\n",
              "      <td>25</td>\n",
              "      <td>Private</td>\n",
              "      <td>226802</td>\n",
              "      <td>11th</td>\n",
              "      <td>7</td>\n",
              "      <td>Never-married</td>\n",
              "      <td>Machine-op-inspct</td>\n",
              "      <td>Own-child</td>\n",
              "      <td>Black</td>\n",
              "      <td>Male</td>\n",
              "      <td>0.0</td>\n",
              "      <td>0.0</td>\n",
              "      <td>40</td>\n",
              "      <td>United-States</td>\n",
              "      <td>&lt;=50K</td>\n",
              "      <td>0.0</td>\n",
              "      <td>0.0</td>\n",
              "    </tr>\n",
              "    <tr>\n",
              "      <th>1</th>\n",
              "      <td>38</td>\n",
              "      <td>Private</td>\n",
              "      <td>89814</td>\n",
              "      <td>HS-grad</td>\n",
              "      <td>9</td>\n",
              "      <td>Married-civ-spouse</td>\n",
              "      <td>Farming-fishing</td>\n",
              "      <td>Husband</td>\n",
              "      <td>White</td>\n",
              "      <td>Male</td>\n",
              "      <td>0.0</td>\n",
              "      <td>0.0</td>\n",
              "      <td>50</td>\n",
              "      <td>United-States</td>\n",
              "      <td>&lt;=50K</td>\n",
              "      <td>0.0</td>\n",
              "      <td>0.0</td>\n",
              "    </tr>\n",
              "    <tr>\n",
              "      <th>2</th>\n",
              "      <td>28</td>\n",
              "      <td>Local-gov</td>\n",
              "      <td>336951</td>\n",
              "      <td>Assoc-acdm</td>\n",
              "      <td>12</td>\n",
              "      <td>Married-civ-spouse</td>\n",
              "      <td>Protective-serv</td>\n",
              "      <td>Husband</td>\n",
              "      <td>White</td>\n",
              "      <td>Male</td>\n",
              "      <td>0.0</td>\n",
              "      <td>0.0</td>\n",
              "      <td>40</td>\n",
              "      <td>United-States</td>\n",
              "      <td>&gt;50K</td>\n",
              "      <td>0.0</td>\n",
              "      <td>0.0</td>\n",
              "    </tr>\n",
              "    <tr>\n",
              "      <th>3</th>\n",
              "      <td>44</td>\n",
              "      <td>Private</td>\n",
              "      <td>160323</td>\n",
              "      <td>Some-college</td>\n",
              "      <td>10</td>\n",
              "      <td>Married-civ-spouse</td>\n",
              "      <td>Machine-op-inspct</td>\n",
              "      <td>Husband</td>\n",
              "      <td>Black</td>\n",
              "      <td>Male</td>\n",
              "      <td>7688.0</td>\n",
              "      <td>0.0</td>\n",
              "      <td>40</td>\n",
              "      <td>United-States</td>\n",
              "      <td>&gt;50K</td>\n",
              "      <td>7688.0</td>\n",
              "      <td>7688.0</td>\n",
              "    </tr>\n",
              "    <tr>\n",
              "      <th>5</th>\n",
              "      <td>34</td>\n",
              "      <td>Private</td>\n",
              "      <td>198693</td>\n",
              "      <td>10th</td>\n",
              "      <td>6</td>\n",
              "      <td>Never-married</td>\n",
              "      <td>Other-service</td>\n",
              "      <td>Not-in-family</td>\n",
              "      <td>White</td>\n",
              "      <td>Male</td>\n",
              "      <td>0.0</td>\n",
              "      <td>0.0</td>\n",
              "      <td>30</td>\n",
              "      <td>United-States</td>\n",
              "      <td>&lt;=50K</td>\n",
              "      <td>0.0</td>\n",
              "      <td>0.0</td>\n",
              "    </tr>\n",
              "  </tbody>\n",
              "</table>\n",
              "</div>"
            ],
            "text/plain": [
              "   age  workclass  fnlwgt  ... income  capital-result capital-result3\n",
              "0   25    Private  226802  ...  <=50K             0.0             0.0\n",
              "1   38    Private   89814  ...  <=50K             0.0             0.0\n",
              "2   28  Local-gov  336951  ...   >50K             0.0             0.0\n",
              "3   44    Private  160323  ...   >50K          7688.0          7688.0\n",
              "5   34    Private  198693  ...  <=50K             0.0             0.0\n",
              "\n",
              "[5 rows x 17 columns]"
            ]
          },
          "metadata": {
            "tags": []
          },
          "execution_count": 34
        }
      ]
    },
    {
      "cell_type": "code",
      "metadata": {
        "id": "WV_57qy1GlDI",
        "colab_type": "code",
        "outputId": "3fe60377-4adf-4e5e-da1b-5e05cd5a7b1d",
        "colab": {
          "base_uri": "https://localhost:8080/",
          "height": 170
        }
      },
      "source": [
        "df3['capital-result'].describe()"
      ],
      "execution_count": 0,
      "outputs": [
        {
          "output_type": "execute_result",
          "data": {
            "text/plain": [
              "count    37239.000000\n",
              "mean       911.477967\n",
              "std       6866.495440\n",
              "min      -3900.000000\n",
              "25%          0.000000\n",
              "50%          0.000000\n",
              "75%          0.000000\n",
              "max      99999.000000\n",
              "Name: capital-result, dtype: float64"
            ]
          },
          "metadata": {
            "tags": []
          },
          "execution_count": 35
        }
      ]
    },
    {
      "cell_type": "code",
      "metadata": {
        "id": "tQqbxD-SnbIy",
        "colab_type": "code",
        "outputId": "39d7ea3c-73d0-4ab5-ce55-f5c6abb35893",
        "colab": {
          "base_uri": "https://localhost:8080/",
          "height": 282
        }
      },
      "source": [
        "df3['capital-result'].plot.box()"
      ],
      "execution_count": 0,
      "outputs": [
        {
          "output_type": "execute_result",
          "data": {
            "text/plain": [
              "<matplotlib.axes._subplots.AxesSubplot at 0x7fca3d021128>"
            ]
          },
          "metadata": {
            "tags": []
          },
          "execution_count": 80
        },
        {
          "output_type": "display_data",
          "data": {
            "image/png": "[encoded data removed]",
            "text/plain": [
              "<Figure size 432x288 with 1 Axes>"
            ]
          },
          "metadata": {
            "tags": []
          }
        }
      ]
    },
    {
      "cell_type": "code",
      "metadata": {
        "id": "v1ALCv87rNbC",
        "colab_type": "code",
        "outputId": "8d323be7-0f72-4c8c-dbb3-089d6796359c",
        "colab": {
          "base_uri": "https://localhost:8080/",
          "height": 282
        }
      },
      "source": [
        "df3['capital-gain'].plot.box()"
      ],
      "execution_count": 0,
      "outputs": [
        {
          "output_type": "execute_result",
          "data": {
            "text/plain": [
              "<matplotlib.axes._subplots.AxesSubplot at 0x7fca3d021828>"
            ]
          },
          "metadata": {
            "tags": []
          },
          "execution_count": 83
        },
        {
          "output_type": "display_data",
          "data": {
            "image/png": "[encoded data removed]",
            "text/plain": [
              "<Figure size 432x288 with 1 Axes>"
            ]
          },
          "metadata": {
            "tags": []
          }
        }
      ]
    },
    {
      "cell_type": "code",
      "metadata": {
        "id": "cvhj_Zh0rM6v",
        "colab_type": "code",
        "outputId": "1df33a6a-d4e7-4956-b155-00971c82f0b5",
        "colab": {
          "base_uri": "https://localhost:8080/",
          "height": 282
        }
      },
      "source": [
        "df3['capital-loss'].plot.box()"
      ],
      "execution_count": 0,
      "outputs": [
        {
          "output_type": "execute_result",
          "data": {
            "text/plain": [
              "<matplotlib.axes._subplots.AxesSubplot at 0x7fca3d0ad4a8>"
            ]
          },
          "metadata": {
            "tags": []
          },
          "execution_count": 84
        },
        {
          "output_type": "display_data",
          "data": {
            "image/png": "[encoded data removed]",
            "text/plain": [
              "<Figure size 432x288 with 1 Axes>"
            ]
          },
          "metadata": {
            "tags": []
          }
        }
      ]
    },
    {
      "cell_type": "code",
      "metadata": {
        "id": "jPcAq5Cims9J",
        "colab_type": "code",
        "outputId": "fe77ea43-a854-412c-a165-ee791f578632",
        "colab": {
          "base_uri": "https://localhost:8080/",
          "height": 296
        }
      },
      "source": [
        "df3.plot.scatter(x='capital-gain',y='capital-loss')"
      ],
      "execution_count": 0,
      "outputs": [
        {
          "output_type": "execute_result",
          "data": {
            "text/plain": [
              "<matplotlib.axes._subplots.AxesSubplot at 0x7fd558251eb8>"
            ]
          },
          "metadata": {
            "tags": []
          },
          "execution_count": 37
        },
        {
          "output_type": "display_data",
          "data": {
            "image/png": "[encoded data removed]",
            "text/plain": [
              "<Figure size 432x288 with 1 Axes>"
            ]
          },
          "metadata": {
            "tags": []
          }
        }
      ]
    },
    {
      "cell_type": "code",
      "metadata": {
        "id": "-TVBwlIv84pJ",
        "colab_type": "code",
        "outputId": "e5cfbae8-13ed-40b1-b68f-3915df430c39",
        "colab": {
          "base_uri": "https://localhost:8080/",
          "height": 359
        }
      },
      "source": [
        "df3['capital-result'].hist(by=df3['gender'],sharex=True , sharey=True)\n"
      ],
      "execution_count": 0,
      "outputs": [
        {
          "output_type": "execute_result",
          "data": {
            "text/plain": [
              "array([<matplotlib.axes._subplots.AxesSubplot object at 0x7fca3d55a0b8>,\n",
              "       <matplotlib.axes._subplots.AxesSubplot object at 0x7fca3d4fec88>],\n",
              "      dtype=object)"
            ]
          },
          "metadata": {
            "tags": []
          },
          "execution_count": 37
        },
        {
          "output_type": "display_data",
          "data": {
            "image/png": "[encoded data removed]",
            "text/plain": [
              "<Figure size 432x288 with 2 Axes>"
            ]
          },
          "metadata": {
            "tags": []
          }
        }
      ]
    },
    {
      "cell_type": "code",
      "metadata": {
        "id": "U_A4YnNY_-KA",
        "colab_type": "code",
        "outputId": "d4191587-2514-40da-ccc0-248724972f1a",
        "colab": {
          "base_uri": "https://localhost:8080/",
          "height": 359
        }
      },
      "source": [
        "df3['capital-result'].hist(by=df3['income'],sharex=True, sharey=True)"
      ],
      "execution_count": 0,
      "outputs": [
        {
          "output_type": "execute_result",
          "data": {
            "text/plain": [
              "array([<matplotlib.axes._subplots.AxesSubplot object at 0x7fca3fdd6c50>,\n",
              "       <matplotlib.axes._subplots.AxesSubplot object at 0x7fca3d45ab70>],\n",
              "      dtype=object)"
            ]
          },
          "metadata": {
            "tags": []
          },
          "execution_count": 38
        },
        {
          "output_type": "display_data",
          "data": {
            "image/png": "[encoded data removed]",
            "text/plain": [
              "<Figure size 432x288 with 2 Axes>"
            ]
          },
          "metadata": {
            "tags": []
          }
        }
      ]
    },
    {
      "cell_type": "markdown",
      "metadata": {
        "id": "s1B7oHmpO-bJ",
        "colab_type": "text"
      },
      "source": [
        "# Verificando o comportamento da renda extra (capital-result) com relação aos outros atributos"
      ]
    },
    {
      "cell_type": "code",
      "metadata": {
        "id": "3beEz-hG81MN",
        "colab_type": "code",
        "colab": {
          "base_uri": "https://localhost:8080/",
          "height": 170
        },
        "outputId": "a2375b6d-268a-407a-9861-d65fa7290a90"
      },
      "source": [
        "df3.groupby(\"marital-status\").size()"
      ],
      "execution_count": 70,
      "outputs": [
        {
          "output_type": "execute_result",
          "data": {
            "text/plain": [
              "marital-status\n",
              "Divorced                  5490\n",
              "Married-AF-spouse           25\n",
              "Married-civ-spouse       17587\n",
              "Married-spouse-absent      458\n",
              "Never-married            11504\n",
              "Separated                 1252\n",
              "Widowed                    923\n",
              "dtype: int64"
            ]
          },
          "metadata": {
            "tags": []
          },
          "execution_count": 70
        }
      ]
    },
    {
      "cell_type": "code",
      "metadata": {
        "id": "7D-lvGSwPF_D",
        "colab_type": "code",
        "colab": {
          "base_uri": "https://localhost:8080/",
          "height": 478
        },
        "outputId": "13072c10-c9d4-4648-f89a-3b8af80dc420"
      },
      "source": [
        "df3['capital-result'].hist(by=df3['marital-status'])"
      ],
      "execution_count": 71,
      "outputs": [
        {
          "output_type": "execute_result",
          "data": {
            "text/plain": [
              "array([[<matplotlib.axes._subplots.AxesSubplot object at 0x7fd554d95358>,\n",
              "        <matplotlib.axes._subplots.AxesSubplot object at 0x7fd554d5e630>,\n",
              "        <matplotlib.axes._subplots.AxesSubplot object at 0x7fd554d07be0>],\n",
              "       [<matplotlib.axes._subplots.AxesSubplot object at 0x7fd554cbf1d0>,\n",
              "        <matplotlib.axes._subplots.AxesSubplot object at 0x7fd554ced780>,\n",
              "        <matplotlib.axes._subplots.AxesSubplot object at 0x7fd554c9ad30>],\n",
              "       [<matplotlib.axes._subplots.AxesSubplot object at 0x7fd554c55320>,\n",
              "        <matplotlib.axes._subplots.AxesSubplot object at 0x7fd554c01908>,\n",
              "        <matplotlib.axes._subplots.AxesSubplot object at 0x7fd554c01940>]],\n",
              "      dtype=object)"
            ]
          },
          "metadata": {
            "tags": []
          },
          "execution_count": 71
        },
        {
          "output_type": "display_data",
          "data": {
            "image/png": "[encoded data removed]",
            "text/plain": [
              "<Figure size 432x288 with 9 Axes>"
            ]
          },
          "metadata": {
            "tags": []
          }
        }
      ]
    },
    {
      "cell_type": "markdown",
      "metadata": {
        "id": "dugHiYJ7POZs",
        "colab_type": "text"
      },
      "source": [
        "Observamos que as pessoas que nunca casaram ou do estado civil \"married-civ-spouse\" possuem maior renda extra."
      ]
    },
    {
      "cell_type": "code",
      "metadata": {
        "id": "w_vtV-aOPUBh",
        "colab_type": "code",
        "colab": {
          "base_uri": "https://localhost:8080/",
          "height": 187
        },
        "outputId": "39648ad0-a0a8-4abf-b343-e4bc5fbe6fda"
      },
      "source": [
        "df3.groupby(\"workclass\").size()"
      ],
      "execution_count": 72,
      "outputs": [
        {
          "output_type": "execute_result",
          "data": {
            "text/plain": [
              "workclass\n",
              "Federal-gov          1265\n",
              "Local-gov            2662\n",
              "Never-worked            0\n",
              "Private             28005\n",
              "Self-emp-inc         1140\n",
              "Self-emp-not-inc     2563\n",
              "State-gov            1592\n",
              "Without-pay            12\n",
              "dtype: int64"
            ]
          },
          "metadata": {
            "tags": []
          },
          "execution_count": 72
        }
      ]
    },
    {
      "cell_type": "code",
      "metadata": {
        "id": "d3cNTVsdPcTe",
        "colab_type": "code",
        "colab": {
          "base_uri": "https://localhost:8080/",
          "height": 478
        },
        "outputId": "d5143e7f-5bae-4b41-a58d-12be81256d7c"
      },
      "source": [
        "df3['capital-result'].hist(by=df3['workclass'])"
      ],
      "execution_count": 73,
      "outputs": [
        {
          "output_type": "execute_result",
          "data": {
            "text/plain": [
              "array([[<matplotlib.axes._subplots.AxesSubplot object at 0x7fd554ba53c8>,\n",
              "        <matplotlib.axes._subplots.AxesSubplot object at 0x7fd554a77f28>,\n",
              "        <matplotlib.axes._subplots.AxesSubplot object at 0x7fd5549fd438>],\n",
              "       [<matplotlib.axes._subplots.AxesSubplot object at 0x7fd554a2d9e8>,\n",
              "        <matplotlib.axes._subplots.AxesSubplot object at 0x7fd5549def98>,\n",
              "        <matplotlib.axes._subplots.AxesSubplot object at 0x7fd55499a588>],\n",
              "       [<matplotlib.axes._subplots.AxesSubplot object at 0x7fd554950080>,\n",
              "        <matplotlib.axes._subplots.AxesSubplot object at 0x7fd5548ff668>,\n",
              "        <matplotlib.axes._subplots.AxesSubplot object at 0x7fd5548ff6a0>]],\n",
              "      dtype=object)"
            ]
          },
          "metadata": {
            "tags": []
          },
          "execution_count": 73
        },
        {
          "output_type": "display_data",
          "data": {
            "image/png": "[encoded data removed]",
            "text/plain": [
              "<Figure size 432x288 with 9 Axes>"
            ]
          },
          "metadata": {
            "tags": []
          }
        }
      ]
    },
    {
      "cell_type": "markdown",
      "metadata": {
        "id": "RpIzHJMlQU8D",
        "colab_type": "text"
      },
      "source": [
        "Observamos que as pessoas que possuem contrato de trabalho privado possuem maior renda-extra."
      ]
    },
    {
      "cell_type": "markdown",
      "metadata": {
        "id": "3_6BnYW_LUWk",
        "colab_type": "text"
      },
      "source": [
        "# **Educação e Anos de Estudo**\n",
        "\n"
      ]
    },
    {
      "cell_type": "markdown",
      "metadata": {
        "id": "_hq_df0zB3DE",
        "colab_type": "text"
      },
      "source": [
        "Avaliando o atributo \"educational-num\" (anos de estudo) percebemos que ele não representa uma variável contínua e sim uma classificação categórica de acordo com o atributo \"education\", visto que representa com o valor \"1\" pessoas que cursaram entre a primeira e a quarta séries, com o valor \"2\" pessoas entre a quinta e a sexta séries, com o valor \"6\" pessoas que cursaram o segundo ano do ensino médio, e assim por diante.\n",
        "\n",
        "Ou seja, não há uma correspondência linear entre o número em \"educational-num\" e a quantidade de anos estudados. \n",
        "\n",
        "Sendo assim, tais dados podem nos dar a representação de uma relação não linear, mas monotônica, entre ela e outras variáveis possivelmente relacionadas. Portanto, vamos usar como coeficiente de correlação o  de Spearman e não o de Pearson para tratar  \"educational-num\", que será uma variável-chave."
      ]
    },
    {
      "cell_type": "code",
      "metadata": {
        "id": "kWInUIhQAUg4",
        "colab_type": "code",
        "outputId": "32c315ea-a439-4d47-9abf-501c1dda6b16",
        "colab": {
          "base_uri": "https://localhost:8080/",
          "height": 323
        }
      },
      "source": [
        "df3.groupby([\"educational-num\", \"education\"]).size()\n"
      ],
      "execution_count": 0,
      "outputs": [
        {
          "output_type": "execute_result",
          "data": {
            "text/plain": [
              "educational-num  education   \n",
              "1                Preschool          56\n",
              "2                1st-4th           178\n",
              "3                5th-6th           384\n",
              "4                7th-8th           658\n",
              "5                9th               575\n",
              "6                10th              941\n",
              "7                11th             1098\n",
              "8                12th              431\n",
              "9                HS-grad         12659\n",
              "10               Some-college     7879\n",
              "11               Assoc-voc        1703\n",
              "12               Assoc-acdm       1279\n",
              "13               Bachelors        6393\n",
              "14               Masters          2054\n",
              "15               Prof-school       558\n",
              "16               Doctorate         393\n",
              "dtype: int64"
            ]
          },
          "metadata": {
            "tags": []
          },
          "execution_count": 39
        }
      ]
    },
    {
      "cell_type": "markdown",
      "metadata": {
        "id": "veXpVhuBEh-t",
        "colab_type": "text"
      },
      "source": [
        "No histograma abaixo vemos que nos pontos de alguns marcos de formação educacional há uma maior incidência de registros nas seguintes categorias:\n",
        "\n",
        "9 - Pessoas formadas no ensino médio\n",
        "\n",
        "10- Pessoas que iniciaram a universidade\n",
        "\n",
        "13 - Bacharéis"
      ]
    },
    {
      "cell_type": "code",
      "metadata": {
        "id": "Qp3fY08MA8z-",
        "colab_type": "code",
        "outputId": "d729255e-b5c5-4463-c7d4-d9f52afc93ed",
        "colab": {
          "base_uri": "https://localhost:8080/",
          "height": 315
        }
      },
      "source": [
        "df3.hist(\"educational-num\")"
      ],
      "execution_count": 39,
      "outputs": [
        {
          "output_type": "execute_result",
          "data": {
            "text/plain": [
              "array([[<matplotlib.axes._subplots.AxesSubplot object at 0x7fd55592a240>]],\n",
              "      dtype=object)"
            ]
          },
          "metadata": {
            "tags": []
          },
          "execution_count": 39
        },
        {
          "output_type": "display_data",
          "data": {
            "image/png": "[encoded data removed]",
            "text/plain": [
              "<Figure size 432x288 with 1 Axes>"
            ]
          },
          "metadata": {
            "tags": []
          }
        }
      ]
    },
    {
      "cell_type": "markdown",
      "metadata": {
        "id": "scA98WvYMbeA",
        "colab_type": "text"
      },
      "source": [
        "Verificando a correlação entre os atributos\n",
        "\n",
        "\n"
      ]
    },
    {
      "cell_type": "code",
      "metadata": {
        "id": "DEuo8Jc8LgsA",
        "colab_type": "code",
        "outputId": "b6723c1d-2cdf-4481-fbf5-aacde8fe561c",
        "colab": {
          "base_uri": "https://localhost:8080/",
          "height": 297
        }
      },
      "source": [
        "df3.corr(method='spearman')"
      ],
      "execution_count": 40,
      "outputs": [
        {
          "output_type": "execute_result",
          "data": {
            "text/html": [
              "<div>\n",
              "<style scoped>\n",
              "    .dataframe tbody tr th:only-of-type {\n",
              "        vertical-align: middle;\n",
              "    }\n",
              "\n",
              "    .dataframe tbody tr th {\n",
              "        vertical-align: top;\n",
              "    }\n",
              "\n",
              "    .dataframe thead th {\n",
              "        text-align: right;\n",
              "    }\n",
              "</style>\n",
              "<table border=\"1\" class=\"dataframe\">\n",
              "  <thead>\n",
              "    <tr style=\"text-align: right;\">\n",
              "      <th></th>\n",
              "      <th>age</th>\n",
              "      <th>fnlwgt</th>\n",
              "      <th>educational-num</th>\n",
              "      <th>capital-gain</th>\n",
              "      <th>capital-loss</th>\n",
              "      <th>hours-per-week</th>\n",
              "      <th>capital-result</th>\n",
              "      <th>capital-result3</th>\n",
              "    </tr>\n",
              "  </thead>\n",
              "  <tbody>\n",
              "    <tr>\n",
              "      <th>age</th>\n",
              "      <td>1.000000</td>\n",
              "      <td>-0.077766</td>\n",
              "      <td>0.049565</td>\n",
              "      <td>0.112842</td>\n",
              "      <td>0.057034</td>\n",
              "      <td>0.108685</td>\n",
              "      <td>0.055296</td>\n",
              "      <td>0.055296</td>\n",
              "    </tr>\n",
              "    <tr>\n",
              "      <th>fnlwgt</th>\n",
              "      <td>-0.077766</td>\n",
              "      <td>1.000000</td>\n",
              "      <td>-0.040806</td>\n",
              "      <td>-0.011292</td>\n",
              "      <td>-0.003588</td>\n",
              "      <td>-0.018033</td>\n",
              "      <td>-0.006736</td>\n",
              "      <td>-0.006736</td>\n",
              "    </tr>\n",
              "    <tr>\n",
              "      <th>educational-num</th>\n",
              "      <td>0.049565</td>\n",
              "      <td>-0.040806</td>\n",
              "      <td>1.000000</td>\n",
              "      <td>0.115419</td>\n",
              "      <td>0.074203</td>\n",
              "      <td>0.150435</td>\n",
              "      <td>0.047527</td>\n",
              "      <td>0.047527</td>\n",
              "    </tr>\n",
              "    <tr>\n",
              "      <th>capital-gain</th>\n",
              "      <td>0.112842</td>\n",
              "      <td>-0.011292</td>\n",
              "      <td>0.115419</td>\n",
              "      <td>1.000000</td>\n",
              "      <td>-0.067195</td>\n",
              "      <td>0.081265</td>\n",
              "      <td>0.818753</td>\n",
              "      <td>0.818753</td>\n",
              "    </tr>\n",
              "    <tr>\n",
              "      <th>capital-loss</th>\n",
              "      <td>0.057034</td>\n",
              "      <td>-0.003588</td>\n",
              "      <td>0.074203</td>\n",
              "      <td>-0.067195</td>\n",
              "      <td>1.000000</td>\n",
              "      <td>0.050636</td>\n",
              "      <td>-0.627859</td>\n",
              "      <td>-0.627859</td>\n",
              "    </tr>\n",
              "    <tr>\n",
              "      <th>hours-per-week</th>\n",
              "      <td>0.108685</td>\n",
              "      <td>-0.018033</td>\n",
              "      <td>0.150435</td>\n",
              "      <td>0.081265</td>\n",
              "      <td>0.050636</td>\n",
              "      <td>1.000000</td>\n",
              "      <td>0.034337</td>\n",
              "      <td>0.034337</td>\n",
              "    </tr>\n",
              "    <tr>\n",
              "      <th>capital-result</th>\n",
              "      <td>0.055296</td>\n",
              "      <td>-0.006736</td>\n",
              "      <td>0.047527</td>\n",
              "      <td>0.818753</td>\n",
              "      <td>-0.627859</td>\n",
              "      <td>0.034337</td>\n",
              "      <td>1.000000</td>\n",
              "      <td>1.000000</td>\n",
              "    </tr>\n",
              "    <tr>\n",
              "      <th>capital-result3</th>\n",
              "      <td>0.055296</td>\n",
              "      <td>-0.006736</td>\n",
              "      <td>0.047527</td>\n",
              "      <td>0.818753</td>\n",
              "      <td>-0.627859</td>\n",
              "      <td>0.034337</td>\n",
              "      <td>1.000000</td>\n",
              "      <td>1.000000</td>\n",
              "    </tr>\n",
              "  </tbody>\n",
              "</table>\n",
              "</div>"
            ],
            "text/plain": [
              "                      age    fnlwgt  ...  capital-result  capital-result3\n",
              "age              1.000000 -0.077766  ...        0.055296         0.055296\n",
              "fnlwgt          -0.077766  1.000000  ...       -0.006736        -0.006736\n",
              "educational-num  0.049565 -0.040806  ...        0.047527         0.047527\n",
              "capital-gain     0.112842 -0.011292  ...        0.818753         0.818753\n",
              "capital-loss     0.057034 -0.003588  ...       -0.627859        -0.627859\n",
              "hours-per-week   0.108685 -0.018033  ...        0.034337         0.034337\n",
              "capital-result   0.055296 -0.006736  ...        1.000000         1.000000\n",
              "capital-result3  0.055296 -0.006736  ...        1.000000         1.000000\n",
              "\n",
              "[8 rows x 8 columns]"
            ]
          },
          "metadata": {
            "tags": []
          },
          "execution_count": 40
        }
      ]
    },
    {
      "cell_type": "markdown",
      "metadata": {
        "id": "Oe3p6boat9oq",
        "colab_type": "text"
      },
      "source": [
        "Com base na correlação de spearman podemos observar que quem estudou mais, trabalha mais horas por semana e possui um maior ganho de capital."
      ]
    },
    {
      "cell_type": "code",
      "metadata": {
        "id": "qsNLnEfzAafx",
        "colab_type": "code",
        "outputId": "588e1f8c-c511-4b42-e4cc-1dbf0cc70925",
        "colab": {
          "base_uri": "https://localhost:8080/",
          "height": 334
        }
      },
      "source": [
        "df3['educational-num'].hist(by=df3['gender'], sharex=True, sharey=True)"
      ],
      "execution_count": 43,
      "outputs": [
        {
          "output_type": "execute_result",
          "data": {
            "text/plain": [
              "array([<matplotlib.axes._subplots.AxesSubplot object at 0x7fd5558a9128>,\n",
              "       <matplotlib.axes._subplots.AxesSubplot object at 0x7fd55581f9e8>],\n",
              "      dtype=object)"
            ]
          },
          "metadata": {
            "tags": []
          },
          "execution_count": 43
        },
        {
          "output_type": "display_data",
          "data": {
            "image/png": "[encoded data removed]",
            "text/plain": [
              "<Figure size 432x288 with 2 Axes>"
            ]
          },
          "metadata": {
            "tags": []
          }
        }
      ]
    },
    {
      "cell_type": "markdown",
      "metadata": {
        "id": "GWpeO8Qj-2sg",
        "colab_type": "text"
      },
      "source": [
        "Observamos que a maioria dos profissionais são do gênero masculino, porém a distribuição da escolaridade se comporta de forma diferente, tende uma menor dispersão no nível de escolaridade. "
      ]
    },
    {
      "cell_type": "code",
      "metadata": {
        "id": "pyF4LGKCIbRa",
        "colab_type": "code",
        "outputId": "520819b2-cc40-4f08-f799-09a5b22f4bb7",
        "colab": {
          "base_uri": "https://localhost:8080/",
          "height": 333
        }
      },
      "source": [
        "df3.groupby('income')['educational-num'].hist()"
      ],
      "execution_count": 44,
      "outputs": [
        {
          "output_type": "execute_result",
          "data": {
            "text/plain": [
              "income\n",
              "<=50K    AxesSubplot(0.125,0.125;0.775x0.755)\n",
              ">50K     AxesSubplot(0.125,0.125;0.775x0.755)\n",
              "Name: educational-num, dtype: object"
            ]
          },
          "metadata": {
            "tags": []
          },
          "execution_count": 44
        },
        {
          "output_type": "display_data",
          "data": {
            "image/png": "[encoded data removed]",
            "text/plain": [
              "<Figure size 432x288 with 1 Axes>"
            ]
          },
          "metadata": {
            "tags": []
          }
        }
      ]
    },
    {
      "cell_type": "markdown",
      "metadata": {
        "id": "7rjaGx97-cey",
        "colab_type": "text"
      },
      "source": [
        "Observamos a maioria das pessoaas do grupo de maior renda fixa (>50K), possui maior escolaridade. E que a maioria dos profissionais possui nível técnico e renda fixa menor que 50K."
      ]
    },
    {
      "cell_type": "markdown",
      "metadata": {
        "id": "AkykwtkGNMp4",
        "colab_type": "text"
      },
      "source": [
        "# **Normalização**\n",
        "Observamos que não há mudança na distribuição dos atributos contínuos da amostra após normalização, entretanto iremos utilizar os métodos de normalização estudados apenas para fins didáticos."
      ]
    },
    {
      "cell_type": "markdown",
      "metadata": {
        "id": "75Z-ZWUpOk5O",
        "colab_type": "text"
      },
      "source": [
        "# **Normalização de capital-gain**"
      ]
    },
    {
      "cell_type": "markdown",
      "metadata": {
        "id": "wdjRosySoSoQ",
        "colab_type": "text"
      },
      "source": [
        "# Método 1: Normalização segundo a amplitude\n",
        "- Utiliza os valores mínimo e máximo\n"
      ]
    },
    {
      "cell_type": "code",
      "metadata": {
        "id": "qi8wqmUtYOON",
        "colab_type": "code",
        "colab": {
          "base_uri": "https://localhost:8080/",
          "height": 159
        },
        "outputId": "d9329c08-6a8b-4aa0-abbb-2a814c2efb95"
      },
      "source": [
        "df3['capital_gain_norm1'] = ((df3['capital-gain'] - df3['capital-gain'].min()) / (df3['capital-gain'].max() - df3['capital-gain'].min())*2) -1"
      ],
      "execution_count": 59,
      "outputs": [
        {
          "output_type": "stream",
          "text": [
            "/usr/local/lib/python3.6/dist-packages/ipykernel_launcher.py:1: SettingWithCopyWarning: \n",
            "A value is trying to be set on a copy of a slice from a DataFrame.\n",
            "Try using .loc[row_indexer,col_indexer] = value instead\n",
            "\n",
            "See the caveats in the documentation: http://pandas.pydata.org/pandas-docs/stable/user_guide/indexing.html#returning-a-view-versus-a-copy\n",
            "  \"\"\"Entry point for launching an IPython kernel.\n"
          ],
          "name": "stderr"
        }
      ]
    },
    {
      "cell_type": "code",
      "metadata": {
        "id": "9dhoExK0EOTQ",
        "colab_type": "code",
        "colab": {
          "base_uri": "https://localhost:8080/",
          "height": 170
        },
        "outputId": "acc74675-57fb-4a88-9941-d937e2e56787"
      },
      "source": [
        "df3['capital-gain'].describe()"
      ],
      "execution_count": 60,
      "outputs": [
        {
          "output_type": "execute_result",
          "data": {
            "text/plain": [
              "count    37239.000000\n",
              "mean       999.631757\n",
              "std       6841.800494\n",
              "min          0.000000\n",
              "25%          0.000000\n",
              "50%          0.000000\n",
              "75%          0.000000\n",
              "max      99999.000000\n",
              "Name: capital-gain, dtype: float64"
            ]
          },
          "metadata": {
            "tags": []
          },
          "execution_count": 60
        }
      ]
    },
    {
      "cell_type": "code",
      "metadata": {
        "id": "S6z1cX_BYrnE",
        "colab_type": "code",
        "outputId": "a35abd70-063f-416e-c4ff-ab91b52d038d",
        "colab": {
          "base_uri": "https://localhost:8080/",
          "height": 170
        }
      },
      "source": [
        "df3['capital_gain_norm1'].describe()"
      ],
      "execution_count": 54,
      "outputs": [
        {
          "output_type": "execute_result",
          "data": {
            "text/plain": [
              "count    37239.000000\n",
              "mean        -0.980007\n",
              "std          0.136837\n",
              "min         -1.000000\n",
              "25%         -1.000000\n",
              "50%         -1.000000\n",
              "75%         -1.000000\n",
              "max          1.000000\n",
              "Name: capital_gain_norm1, dtype: float64"
            ]
          },
          "metadata": {
            "tags": []
          },
          "execution_count": 54
        }
      ]
    },
    {
      "cell_type": "code",
      "metadata": {
        "id": "3LjUo50sagRA",
        "colab_type": "code",
        "outputId": "7ac98b5c-6bdf-42d3-e168-a53f0b0149de",
        "colab": {
          "base_uri": "https://localhost:8080/",
          "height": 579
        }
      },
      "source": [
        "df3.hist('capital-gain')\n",
        "df3.hist('capital_gain_norm1')"
      ],
      "execution_count": 61,
      "outputs": [
        {
          "output_type": "execute_result",
          "data": {
            "text/plain": [
              "array([[<matplotlib.axes._subplots.AxesSubplot object at 0x7fd5553b8e48>]],\n",
              "      dtype=object)"
            ]
          },
          "metadata": {
            "tags": []
          },
          "execution_count": 61
        },
        {
          "output_type": "display_data",
          "data": {
            "image/png": "[encoded data removed]",
            "text/plain": [
              "<Figure size 432x288 with 1 Axes>"
            ]
          },
          "metadata": {
            "tags": []
          }
        },
        {
          "output_type": "display_data",
          "data": {
            "image/png": "[encoded data removed]",
            "text/plain": [
              "<Figure size 432x288 with 1 Axes>"
            ]
          },
          "metadata": {
            "tags": []
          }
        }
      ]
    },
    {
      "cell_type": "markdown",
      "metadata": {
        "id": "vQ5B1HdyveU1",
        "colab_type": "text"
      },
      "source": [
        "Outra forma de normalizar segundo a amplitude, utilando o pacote preprocessing da Scikit-Learn"
      ]
    },
    {
      "cell_type": "code",
      "metadata": {
        "id": "FREKVc0MfpDf",
        "colab_type": "code",
        "colab": {}
      },
      "source": [
        "from sklearn.preprocessing import StandardScaler, MinMaxScaler\n",
        "scaler = MinMaxScaler()\n",
        "df2['capital_gain_norm2'] = scaler.fit_transform(df2[['capital-gain']])"
      ],
      "execution_count": 0,
      "outputs": []
    },
    {
      "cell_type": "code",
      "metadata": {
        "id": "p1rKi9Ayfy0G",
        "colab_type": "code",
        "outputId": "0f833a0b-5c2e-42cc-ef1a-12989dd6855d",
        "colab": {
          "base_uri": "https://localhost:8080/",
          "height": 170
        }
      },
      "source": [
        "df3['capital_gain_norm2'].describe()"
      ],
      "execution_count": 0,
      "outputs": [
        {
          "output_type": "execute_result",
          "data": {
            "text/plain": [
              "count    45131.000000\n",
              "mean         0.011037\n",
              "std          0.075139\n",
              "min          0.000000\n",
              "25%          0.000000\n",
              "50%          0.000000\n",
              "75%          0.000000\n",
              "max          1.000000\n",
              "Name: capital_gain_norm2, dtype: float64"
            ]
          },
          "metadata": {
            "tags": []
          },
          "execution_count": 70
        }
      ]
    },
    {
      "cell_type": "code",
      "metadata": {
        "id": "BTyHN9u2f6a_",
        "colab_type": "code",
        "outputId": "7cb6b7bc-3b24-4388-bb2f-9c77887069f1",
        "colab": {
          "base_uri": "https://localhost:8080/",
          "height": 315
        }
      },
      "source": [
        "df3.hist('capital_gain_norm2')"
      ],
      "execution_count": 0,
      "outputs": [
        {
          "output_type": "execute_result",
          "data": {
            "text/plain": [
              "array([[<matplotlib.axes._subplots.AxesSubplot object at 0x7f3f2c011898>]],\n",
              "      dtype=object)"
            ]
          },
          "metadata": {
            "tags": []
          },
          "execution_count": 71
        },
        {
          "output_type": "display_data",
          "data": {
            "image/png": "[encoded data removed]",
            "text/plain": [
              "<Figure size 432x288 with 1 Axes>"
            ]
          },
          "metadata": {
            "tags": []
          }
        }
      ]
    },
    {
      "cell_type": "markdown",
      "metadata": {
        "id": "PPku6AlVzLAg",
        "colab_type": "text"
      },
      "source": [
        "# Método 2: normalização por desvio padrão\n",
        "- Considera a posição média dos valores e os graus de dispersão em relação à posição média\n",
        "- Útil quando mínimo e máximo são desconhecidos\n"
      ]
    },
    {
      "cell_type": "code",
      "metadata": {
        "id": "2K-Wqrbaf-ND",
        "colab_type": "code",
        "colab": {}
      },
      "source": [
        "df3['capital_gain_norm3'] = (df2['capital-gain'] - df2['capital-gain'].mean()) / (df2['capital-gain'].std())"
      ],
      "execution_count": 0,
      "outputs": []
    },
    {
      "cell_type": "code",
      "metadata": {
        "id": "H193i9sGf1UN",
        "colab_type": "code",
        "outputId": "13279f41-aa69-4820-f744-a1121651352f",
        "colab": {
          "base_uri": "https://localhost:8080/",
          "height": 170
        }
      },
      "source": [
        "df3['capital_gain_norm3'].describe()"
      ],
      "execution_count": 0,
      "outputs": [
        {
          "output_type": "execute_result",
          "data": {
            "text/plain": [
              "count    4.513100e+04\n",
              "mean     6.882984e-16\n",
              "std      1.000000e+00\n",
              "min     -1.468826e-01\n",
              "25%     -1.468826e-01\n",
              "50%     -1.468826e-01\n",
              "75%     -1.468826e-01\n",
              "max      1.316177e+01\n",
              "Name: capital_gain_norm3, dtype: float64"
            ]
          },
          "metadata": {
            "tags": []
          },
          "execution_count": 73
        }
      ]
    },
    {
      "cell_type": "code",
      "metadata": {
        "id": "PRVJpbEUf8kf",
        "colab_type": "code",
        "outputId": "1bbc3c34-d858-4c25-f2e0-d25e36639399",
        "colab": {
          "base_uri": "https://localhost:8080/",
          "height": 315
        }
      },
      "source": [
        "df3.hist('capital_gain_norm3')"
      ],
      "execution_count": 0,
      "outputs": [
        {
          "output_type": "execute_result",
          "data": {
            "text/plain": [
              "array([[<matplotlib.axes._subplots.AxesSubplot object at 0x7f3f2bff1278>]],\n",
              "      dtype=object)"
            ]
          },
          "metadata": {
            "tags": []
          },
          "execution_count": 74
        },
        {
          "output_type": "display_data",
          "data": {
            "image/png": "[encoded data removed]",
            "text/plain": [
              "<Figure size 432x288 with 1 Axes>"
            ]
          },
          "metadata": {
            "tags": []
          }
        }
      ]
    },
    {
      "cell_type": "markdown",
      "metadata": {
        "id": "qR4isuBE1xjF",
        "colab_type": "text"
      },
      "source": [
        "Outra forma de normalizar por desvio padrão, utilando o pacote preprocessing da Scikit-Learn"
      ]
    },
    {
      "cell_type": "code",
      "metadata": {
        "id": "yaEPjO0d1sOU",
        "colab_type": "code",
        "colab": {}
      },
      "source": [
        "from sklearn.preprocessing import StandardScaler, MinMaxScaler\n",
        "scaler = StandardScaler()\n",
        "df2['capital_gain_norm4'] = scaler.fit_transform(df2[['capital-gain']])"
      ],
      "execution_count": 0,
      "outputs": []
    },
    {
      "cell_type": "code",
      "metadata": {
        "id": "xMexyqUV14JD",
        "colab_type": "code",
        "outputId": "45e5084a-7ad3-4276-a2b5-80f84715d52c",
        "colab": {
          "base_uri": "https://localhost:8080/",
          "height": 170
        }
      },
      "source": [
        "df3['capital_gain_norm4'].describe()"
      ],
      "execution_count": 0,
      "outputs": [
        {
          "output_type": "execute_result",
          "data": {
            "text/plain": [
              "count    4.513100e+04\n",
              "mean    -1.764657e-16\n",
              "std      1.000011e+00\n",
              "min     -1.468842e-01\n",
              "25%     -1.468842e-01\n",
              "50%     -1.468842e-01\n",
              "75%     -1.468842e-01\n",
              "max      1.316192e+01\n",
              "Name: capital_gain_norm4, dtype: float64"
            ]
          },
          "metadata": {
            "tags": []
          },
          "execution_count": 76
        }
      ]
    },
    {
      "cell_type": "code",
      "metadata": {
        "id": "qhydersB19Rr",
        "colab_type": "code",
        "outputId": "6870daaf-3fd0-451a-9544-142e4b6d983d",
        "colab": {
          "base_uri": "https://localhost:8080/",
          "height": 315
        }
      },
      "source": [
        "df3.hist('capital_gain_norm4')"
      ],
      "execution_count": 0,
      "outputs": [
        {
          "output_type": "execute_result",
          "data": {
            "text/plain": [
              "array([[<matplotlib.axes._subplots.AxesSubplot object at 0x7f3f2bf0ea20>]],\n",
              "      dtype=object)"
            ]
          },
          "metadata": {
            "tags": []
          },
          "execution_count": 77
        },
        {
          "output_type": "display_data",
          "data": {
            "image/png": "[encoded data removed]",
            "text/plain": [
              "<Figure size 432x288 with 1 Axes>"
            ]
          },
          "metadata": {
            "tags": []
          }
        }
      ]
    },
    {
      "cell_type": "markdown",
      "metadata": {
        "id": "cIKH1f3BM-rM",
        "colab_type": "text"
      },
      "source": [
        "# Normalização de \"capital-result\""
      ]
    },
    {
      "cell_type": "code",
      "metadata": {
        "id": "SlFuy4DUM22Q",
        "colab_type": "code",
        "outputId": "b8efdeb6-98a2-4252-b75a-1fb903322baa",
        "colab": {
          "base_uri": "https://localhost:8080/",
          "height": 170
        }
      },
      "source": [
        "df3['capital-result'].describe()"
      ],
      "execution_count": 0,
      "outputs": [
        {
          "output_type": "execute_result",
          "data": {
            "text/plain": [
              "count    45131.000000\n",
              "mean      1014.877158\n",
              "std       7537.766126\n",
              "min      -4356.000000\n",
              "25%          0.000000\n",
              "50%          0.000000\n",
              "75%          0.000000\n",
              "max      99999.000000\n",
              "Name: capital-result, dtype: float64"
            ]
          },
          "metadata": {
            "tags": []
          },
          "execution_count": 30
        }
      ]
    },
    {
      "cell_type": "code",
      "metadata": {
        "id": "ZGLBCyvCNtxX",
        "colab_type": "code",
        "outputId": "70b2a3eb-305a-4b26-a718-4df83b72f92e",
        "colab": {
          "base_uri": "https://localhost:8080/",
          "height": 315
        }
      },
      "source": [
        "df3.hist('capital-result')"
      ],
      "execution_count": 0,
      "outputs": [
        {
          "output_type": "execute_result",
          "data": {
            "text/plain": [
              "array([[<matplotlib.axes._subplots.AxesSubplot object at 0x7f3f3c05aa90>]],\n",
              "      dtype=object)"
            ]
          },
          "metadata": {
            "tags": []
          },
          "execution_count": 32
        },
        {
          "output_type": "display_data",
          "data": {
            "image/png": "[encoded data removed]",
            "text/plain": [
              "<Figure size 432x288 with 1 Axes>"
            ]
          },
          "metadata": {
            "tags": []
          }
        }
      ]
    },
    {
      "cell_type": "markdown",
      "metadata": {
        "id": "hdPbOVu89Iti",
        "colab_type": "text"
      },
      "source": [
        "Como possuimos os valores mínimo e máximo, iremos utilizar o método de ormalização segundo a amplitude (método 1)."
      ]
    },
    {
      "cell_type": "code",
      "metadata": {
        "id": "knzskbc56LLR",
        "colab_type": "code",
        "colab": {}
      },
      "source": [
        "from sklearn.preprocessing import StandardScaler, MinMaxScaler\n",
        "df3['capital_result_norm1'] = MinMaxScaler().fit_transform(df2[['capital-result']])"
      ],
      "execution_count": 0,
      "outputs": []
    },
    {
      "cell_type": "code",
      "metadata": {
        "id": "qnw1miMP8cwQ",
        "colab_type": "code",
        "outputId": "8f28b560-a71e-457b-ffd0-d2930dee4a16",
        "colab": {
          "base_uri": "https://localhost:8080/",
          "height": 170
        }
      },
      "source": [
        "df2['capital_result_norm1'].describe()"
      ],
      "execution_count": 0,
      "outputs": [
        {
          "output_type": "execute_result",
          "data": {
            "text/plain": [
              "count    45131.000000\n",
              "mean         0.051467\n",
              "std          0.072232\n",
              "min          0.000000\n",
              "25%          0.041742\n",
              "50%          0.041742\n",
              "75%          0.041742\n",
              "max          1.000000\n",
              "Name: capital_result_norm1, dtype: float64"
            ]
          },
          "metadata": {
            "tags": []
          },
          "execution_count": 60
        }
      ]
    },
    {
      "cell_type": "code",
      "metadata": {
        "id": "4O59_n7e8pTd",
        "colab_type": "code",
        "outputId": "5ac7113c-ce4c-4d9f-834f-9d36237a8b86",
        "colab": {
          "base_uri": "https://localhost:8080/",
          "height": 315
        }
      },
      "source": [
        "df3.hist('capital_result_norm1')"
      ],
      "execution_count": 0,
      "outputs": [
        {
          "output_type": "execute_result",
          "data": {
            "text/plain": [
              "array([[<matplotlib.axes._subplots.AxesSubplot object at 0x7f3f2c2ba748>]],\n",
              "      dtype=object)"
            ]
          },
          "metadata": {
            "tags": []
          },
          "execution_count": 62
        },
        {
          "output_type": "display_data",
          "data": {
            "image/png": "[encoded data removed]",
            "text/plain": [
              "<Figure size 432x288 with 1 Axes>"
            ]
          },
          "metadata": {
            "tags": []
          }
        }
      ]
    }
  ]
}