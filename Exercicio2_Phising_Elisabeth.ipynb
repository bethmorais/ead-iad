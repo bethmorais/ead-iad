{
  "nbformat": 4,
  "nbformat_minor": 0,
  "metadata": {
    "colab": {
      "name": "Exercicio2-Phising-Elisabeth.ipynb",
      "provenance": []
    },
    "kernelspec": {
      "name": "python3",
      "display_name": "Python 3"
    }
  },
  "cells": [
    {
      "cell_type": "markdown",
      "metadata": {
        "id": "3vK0UltvGcnJ",
        "colab_type": "text"
      },
      "source": [
        "Aplique as principais etapas: pré-processamento, treinamento e teste para classificação de cancer de mâma. "
      ]
    },
    {
      "cell_type": "code",
      "metadata": {
        "id": "V6EQKmxCZg53",
        "colab_type": "code",
        "colab": {}
      },
      "source": [
        "#base de dados: http://archive.ics.uci.edu/ml/datasets/Breast+Cancer+Wisconsin+%28Diagnostic%29\n",
        "#https://scikit-learn.org/stable/modules/generated/sklearn.datasets.load_breast_cancer.html"
      ],
      "execution_count": 0,
      "outputs": []
    },
    {
      "cell_type": "code",
      "metadata": {
        "id": "dgRbpgmLvFIp",
        "colab_type": "code",
        "colab": {}
      },
      "source": [
        "import pandas as pd\n",
        "from scipy.io import arff"
      ],
      "execution_count": 0,
      "outputs": []
    },
    {
      "cell_type": "code",
      "metadata": {
        "id": "fXgMepSXyeBz",
        "colab_type": "code",
        "colab": {}
      },
      "source": [
        "dados_f = arff.loadarff('PhishingData.arff')"
      ],
      "execution_count": 0,
      "outputs": []
    },
    {
      "cell_type": "code",
      "metadata": {
        "id": "P9fA60tHyv8e",
        "colab_type": "code",
        "colab": {}
      },
      "source": [
        "dados_phishing = pd.DataFrame(dados_f[0], dtype=float)"
      ],
      "execution_count": 0,
      "outputs": []
    },
    {
      "cell_type": "code",
      "metadata": {
        "id": "OM8_X953eANu",
        "colab_type": "code",
        "colab": {}
      },
      "source": [
        "#dados_phishing = pd.read_csv('https://raw.githubusercontent.com/bethmorais/aed-md-mp/master/datasets_phishing.csv')\n",
        "##dados_phishing = pd.read_table('PhishingData.arff')"
      ],
      "execution_count": 0,
      "outputs": []
    },
    {
      "cell_type": "code",
      "metadata": {
        "id": "_4aPX1aSeMvM",
        "colab_type": "code",
        "outputId": "3cacf1a7-104f-4d15-c2e4-3eb983a26740",
        "colab": {
          "base_uri": "https://localhost:8080/",
          "height": 689
        }
      },
      "source": [
        "dados_phishing.head(20)"
      ],
      "execution_count": 135,
      "outputs": [
        {
          "output_type": "execute_result",
          "data": {
            "text/html": [
              "<div>\n",
              "<style scoped>\n",
              "    .dataframe tbody tr th:only-of-type {\n",
              "        vertical-align: middle;\n",
              "    }\n",
              "\n",
              "    .dataframe tbody tr th {\n",
              "        vertical-align: top;\n",
              "    }\n",
              "\n",
              "    .dataframe thead th {\n",
              "        text-align: right;\n",
              "    }\n",
              "</style>\n",
              "<table border=\"1\" class=\"dataframe\">\n",
              "  <thead>\n",
              "    <tr style=\"text-align: right;\">\n",
              "      <th></th>\n",
              "      <th>SFH</th>\n",
              "      <th>popUpWidnow</th>\n",
              "      <th>SSLfinal_State</th>\n",
              "      <th>Request_URL</th>\n",
              "      <th>URL_of_Anchor</th>\n",
              "      <th>web_traffic</th>\n",
              "      <th>URL_Length</th>\n",
              "      <th>age_of_domain</th>\n",
              "      <th>having_IP_Address</th>\n",
              "      <th>Result</th>\n",
              "    </tr>\n",
              "  </thead>\n",
              "  <tbody>\n",
              "    <tr>\n",
              "      <th>0</th>\n",
              "      <td>1.0</td>\n",
              "      <td>-1.0</td>\n",
              "      <td>1.0</td>\n",
              "      <td>-1.0</td>\n",
              "      <td>-1.0</td>\n",
              "      <td>1.0</td>\n",
              "      <td>1.0</td>\n",
              "      <td>1.0</td>\n",
              "      <td>0.0</td>\n",
              "      <td>0.0</td>\n",
              "    </tr>\n",
              "    <tr>\n",
              "      <th>1</th>\n",
              "      <td>-1.0</td>\n",
              "      <td>-1.0</td>\n",
              "      <td>-1.0</td>\n",
              "      <td>-1.0</td>\n",
              "      <td>-1.0</td>\n",
              "      <td>0.0</td>\n",
              "      <td>1.0</td>\n",
              "      <td>1.0</td>\n",
              "      <td>1.0</td>\n",
              "      <td>1.0</td>\n",
              "    </tr>\n",
              "    <tr>\n",
              "      <th>2</th>\n",
              "      <td>1.0</td>\n",
              "      <td>-1.0</td>\n",
              "      <td>0.0</td>\n",
              "      <td>0.0</td>\n",
              "      <td>-1.0</td>\n",
              "      <td>0.0</td>\n",
              "      <td>-1.0</td>\n",
              "      <td>1.0</td>\n",
              "      <td>0.0</td>\n",
              "      <td>1.0</td>\n",
              "    </tr>\n",
              "    <tr>\n",
              "      <th>3</th>\n",
              "      <td>1.0</td>\n",
              "      <td>0.0</td>\n",
              "      <td>1.0</td>\n",
              "      <td>-1.0</td>\n",
              "      <td>-1.0</td>\n",
              "      <td>0.0</td>\n",
              "      <td>1.0</td>\n",
              "      <td>1.0</td>\n",
              "      <td>0.0</td>\n",
              "      <td>0.0</td>\n",
              "    </tr>\n",
              "    <tr>\n",
              "      <th>4</th>\n",
              "      <td>-1.0</td>\n",
              "      <td>-1.0</td>\n",
              "      <td>1.0</td>\n",
              "      <td>-1.0</td>\n",
              "      <td>0.0</td>\n",
              "      <td>0.0</td>\n",
              "      <td>-1.0</td>\n",
              "      <td>1.0</td>\n",
              "      <td>0.0</td>\n",
              "      <td>1.0</td>\n",
              "    </tr>\n",
              "    <tr>\n",
              "      <th>5</th>\n",
              "      <td>-1.0</td>\n",
              "      <td>-1.0</td>\n",
              "      <td>1.0</td>\n",
              "      <td>-1.0</td>\n",
              "      <td>-1.0</td>\n",
              "      <td>1.0</td>\n",
              "      <td>0.0</td>\n",
              "      <td>-1.0</td>\n",
              "      <td>0.0</td>\n",
              "      <td>1.0</td>\n",
              "    </tr>\n",
              "    <tr>\n",
              "      <th>6</th>\n",
              "      <td>1.0</td>\n",
              "      <td>-1.0</td>\n",
              "      <td>0.0</td>\n",
              "      <td>1.0</td>\n",
              "      <td>-1.0</td>\n",
              "      <td>0.0</td>\n",
              "      <td>0.0</td>\n",
              "      <td>1.0</td>\n",
              "      <td>0.0</td>\n",
              "      <td>-1.0</td>\n",
              "    </tr>\n",
              "    <tr>\n",
              "      <th>7</th>\n",
              "      <td>1.0</td>\n",
              "      <td>0.0</td>\n",
              "      <td>1.0</td>\n",
              "      <td>1.0</td>\n",
              "      <td>0.0</td>\n",
              "      <td>0.0</td>\n",
              "      <td>0.0</td>\n",
              "      <td>1.0</td>\n",
              "      <td>1.0</td>\n",
              "      <td>-1.0</td>\n",
              "    </tr>\n",
              "    <tr>\n",
              "      <th>8</th>\n",
              "      <td>-1.0</td>\n",
              "      <td>-1.0</td>\n",
              "      <td>0.0</td>\n",
              "      <td>-1.0</td>\n",
              "      <td>-1.0</td>\n",
              "      <td>-1.0</td>\n",
              "      <td>-1.0</td>\n",
              "      <td>1.0</td>\n",
              "      <td>0.0</td>\n",
              "      <td>0.0</td>\n",
              "    </tr>\n",
              "    <tr>\n",
              "      <th>9</th>\n",
              "      <td>-1.0</td>\n",
              "      <td>0.0</td>\n",
              "      <td>-1.0</td>\n",
              "      <td>-1.0</td>\n",
              "      <td>1.0</td>\n",
              "      <td>1.0</td>\n",
              "      <td>0.0</td>\n",
              "      <td>-1.0</td>\n",
              "      <td>0.0</td>\n",
              "      <td>1.0</td>\n",
              "    </tr>\n",
              "    <tr>\n",
              "      <th>10</th>\n",
              "      <td>-1.0</td>\n",
              "      <td>-1.0</td>\n",
              "      <td>0.0</td>\n",
              "      <td>-1.0</td>\n",
              "      <td>-1.0</td>\n",
              "      <td>1.0</td>\n",
              "      <td>-1.0</td>\n",
              "      <td>-1.0</td>\n",
              "      <td>0.0</td>\n",
              "      <td>1.0</td>\n",
              "    </tr>\n",
              "    <tr>\n",
              "      <th>11</th>\n",
              "      <td>1.0</td>\n",
              "      <td>0.0</td>\n",
              "      <td>1.0</td>\n",
              "      <td>1.0</td>\n",
              "      <td>1.0</td>\n",
              "      <td>-1.0</td>\n",
              "      <td>1.0</td>\n",
              "      <td>1.0</td>\n",
              "      <td>0.0</td>\n",
              "      <td>-1.0</td>\n",
              "    </tr>\n",
              "    <tr>\n",
              "      <th>12</th>\n",
              "      <td>1.0</td>\n",
              "      <td>-1.0</td>\n",
              "      <td>0.0</td>\n",
              "      <td>-1.0</td>\n",
              "      <td>1.0</td>\n",
              "      <td>0.0</td>\n",
              "      <td>1.0</td>\n",
              "      <td>1.0</td>\n",
              "      <td>0.0</td>\n",
              "      <td>1.0</td>\n",
              "    </tr>\n",
              "    <tr>\n",
              "      <th>13</th>\n",
              "      <td>1.0</td>\n",
              "      <td>0.0</td>\n",
              "      <td>1.0</td>\n",
              "      <td>0.0</td>\n",
              "      <td>-1.0</td>\n",
              "      <td>1.0</td>\n",
              "      <td>0.0</td>\n",
              "      <td>-1.0</td>\n",
              "      <td>0.0</td>\n",
              "      <td>-1.0</td>\n",
              "    </tr>\n",
              "    <tr>\n",
              "      <th>14</th>\n",
              "      <td>-1.0</td>\n",
              "      <td>-1.0</td>\n",
              "      <td>-1.0</td>\n",
              "      <td>1.0</td>\n",
              "      <td>-1.0</td>\n",
              "      <td>0.0</td>\n",
              "      <td>-1.0</td>\n",
              "      <td>1.0</td>\n",
              "      <td>0.0</td>\n",
              "      <td>1.0</td>\n",
              "    </tr>\n",
              "    <tr>\n",
              "      <th>15</th>\n",
              "      <td>0.0</td>\n",
              "      <td>0.0</td>\n",
              "      <td>-1.0</td>\n",
              "      <td>0.0</td>\n",
              "      <td>0.0</td>\n",
              "      <td>1.0</td>\n",
              "      <td>1.0</td>\n",
              "      <td>-1.0</td>\n",
              "      <td>1.0</td>\n",
              "      <td>1.0</td>\n",
              "    </tr>\n",
              "    <tr>\n",
              "      <th>16</th>\n",
              "      <td>-1.0</td>\n",
              "      <td>0.0</td>\n",
              "      <td>0.0</td>\n",
              "      <td>0.0</td>\n",
              "      <td>-1.0</td>\n",
              "      <td>1.0</td>\n",
              "      <td>-1.0</td>\n",
              "      <td>-1.0</td>\n",
              "      <td>0.0</td>\n",
              "      <td>1.0</td>\n",
              "    </tr>\n",
              "    <tr>\n",
              "      <th>17</th>\n",
              "      <td>1.0</td>\n",
              "      <td>1.0</td>\n",
              "      <td>1.0</td>\n",
              "      <td>-1.0</td>\n",
              "      <td>1.0</td>\n",
              "      <td>-1.0</td>\n",
              "      <td>1.0</td>\n",
              "      <td>1.0</td>\n",
              "      <td>0.0</td>\n",
              "      <td>-1.0</td>\n",
              "    </tr>\n",
              "    <tr>\n",
              "      <th>18</th>\n",
              "      <td>0.0</td>\n",
              "      <td>-1.0</td>\n",
              "      <td>-1.0</td>\n",
              "      <td>0.0</td>\n",
              "      <td>1.0</td>\n",
              "      <td>1.0</td>\n",
              "      <td>0.0</td>\n",
              "      <td>-1.0</td>\n",
              "      <td>0.0</td>\n",
              "      <td>1.0</td>\n",
              "    </tr>\n",
              "    <tr>\n",
              "      <th>19</th>\n",
              "      <td>1.0</td>\n",
              "      <td>-1.0</td>\n",
              "      <td>0.0</td>\n",
              "      <td>1.0</td>\n",
              "      <td>0.0</td>\n",
              "      <td>0.0</td>\n",
              "      <td>-1.0</td>\n",
              "      <td>1.0</td>\n",
              "      <td>0.0</td>\n",
              "      <td>1.0</td>\n",
              "    </tr>\n",
              "  </tbody>\n",
              "</table>\n",
              "</div>"
            ],
            "text/plain": [
              "    SFH  popUpWidnow  SSLfinal_State  ...  age_of_domain  having_IP_Address  Result\n",
              "0   1.0         -1.0             1.0  ...            1.0                0.0     0.0\n",
              "1  -1.0         -1.0            -1.0  ...            1.0                1.0     1.0\n",
              "2   1.0         -1.0             0.0  ...            1.0                0.0     1.0\n",
              "3   1.0          0.0             1.0  ...            1.0                0.0     0.0\n",
              "4  -1.0         -1.0             1.0  ...            1.0                0.0     1.0\n",
              "5  -1.0         -1.0             1.0  ...           -1.0                0.0     1.0\n",
              "6   1.0         -1.0             0.0  ...            1.0                0.0    -1.0\n",
              "7   1.0          0.0             1.0  ...            1.0                1.0    -1.0\n",
              "8  -1.0         -1.0             0.0  ...            1.0                0.0     0.0\n",
              "9  -1.0          0.0            -1.0  ...           -1.0                0.0     1.0\n",
              "10 -1.0         -1.0             0.0  ...           -1.0                0.0     1.0\n",
              "11  1.0          0.0             1.0  ...            1.0                0.0    -1.0\n",
              "12  1.0         -1.0             0.0  ...            1.0                0.0     1.0\n",
              "13  1.0          0.0             1.0  ...           -1.0                0.0    -1.0\n",
              "14 -1.0         -1.0            -1.0  ...            1.0                0.0     1.0\n",
              "15  0.0          0.0            -1.0  ...           -1.0                1.0     1.0\n",
              "16 -1.0          0.0             0.0  ...           -1.0                0.0     1.0\n",
              "17  1.0          1.0             1.0  ...            1.0                0.0    -1.0\n",
              "18  0.0         -1.0            -1.0  ...           -1.0                0.0     1.0\n",
              "19  1.0         -1.0             0.0  ...            1.0                0.0     1.0\n",
              "\n",
              "[20 rows x 10 columns]"
            ]
          },
          "metadata": {
            "tags": []
          },
          "execution_count": 135
        }
      ]
    },
    {
      "cell_type": "code",
      "metadata": {
        "id": "GmlshmMMiT3Z",
        "colab_type": "code",
        "outputId": "9dc13bf1-8a35-48b4-fee3-91d3706e555a",
        "colab": {
          "base_uri": "https://localhost:8080/",
          "height": 85
        }
      },
      "source": [
        "dados_phishing.columns"
      ],
      "execution_count": 137,
      "outputs": [
        {
          "output_type": "execute_result",
          "data": {
            "text/plain": [
              "Index(['SFH', 'popUpWidnow', 'SSLfinal_State', 'Request_URL', 'URL_of_Anchor',\n",
              "       'web_traffic', 'URL_Length', 'age_of_domain', 'having_IP_Address',\n",
              "       'Result'],\n",
              "      dtype='object')"
            ]
          },
          "metadata": {
            "tags": []
          },
          "execution_count": 137
        }
      ]
    },
    {
      "cell_type": "code",
      "metadata": {
        "id": "toH5nbBmxwQ2",
        "colab_type": "code",
        "colab": {}
      },
      "source": [
        "##del dados_phishing['index']"
      ],
      "execution_count": 0,
      "outputs": []
    },
    {
      "cell_type": "code",
      "metadata": {
        "id": "MwCz_SAZhzJf",
        "colab_type": "code",
        "outputId": "46dc5cbe-c4a8-4572-de4e-3e557c1ec5c2",
        "colab": {
          "base_uri": "https://localhost:8080/",
          "height": 85
        }
      },
      "source": [
        "dados_phishing.columns\n"
      ],
      "execution_count": 138,
      "outputs": [
        {
          "output_type": "execute_result",
          "data": {
            "text/plain": [
              "Index(['SFH', 'popUpWidnow', 'SSLfinal_State', 'Request_URL', 'URL_of_Anchor',\n",
              "       'web_traffic', 'URL_Length', 'age_of_domain', 'having_IP_Address',\n",
              "       'Result'],\n",
              "      dtype='object')"
            ]
          },
          "metadata": {
            "tags": []
          },
          "execution_count": 138
        }
      ]
    },
    {
      "cell_type": "code",
      "metadata": {
        "id": "taERUFsAvOqs",
        "colab_type": "code",
        "colab": {
          "base_uri": "https://localhost:8080/",
          "height": 306
        },
        "outputId": "a24a15d4-3e45-4ebb-d861-c9452e7896f9"
      },
      "source": [
        "dados_phishing.info()"
      ],
      "execution_count": 139,
      "outputs": [
        {
          "output_type": "stream",
          "text": [
            "<class 'pandas.core.frame.DataFrame'>\n",
            "RangeIndex: 1353 entries, 0 to 1352\n",
            "Data columns (total 10 columns):\n",
            " #   Column             Non-Null Count  Dtype  \n",
            "---  ------             --------------  -----  \n",
            " 0   SFH                1353 non-null   float64\n",
            " 1   popUpWidnow        1353 non-null   float64\n",
            " 2   SSLfinal_State     1353 non-null   float64\n",
            " 3   Request_URL        1353 non-null   float64\n",
            " 4   URL_of_Anchor      1353 non-null   float64\n",
            " 5   web_traffic        1353 non-null   float64\n",
            " 6   URL_Length         1353 non-null   float64\n",
            " 7   age_of_domain      1353 non-null   float64\n",
            " 8   having_IP_Address  1353 non-null   float64\n",
            " 9   Result             1353 non-null   float64\n",
            "dtypes: float64(10)\n",
            "memory usage: 105.8 KB\n"
          ],
          "name": "stdout"
        }
      ]
    },
    {
      "cell_type": "code",
      "metadata": {
        "id": "jgOr-yV-vJc_",
        "colab_type": "code",
        "colab": {
          "base_uri": "https://localhost:8080/",
          "height": 34
        },
        "outputId": "190c1364-74e3-45ca-8653-d39a33a369f8"
      },
      "source": [
        "type(dados_phishing)"
      ],
      "execution_count": 140,
      "outputs": [
        {
          "output_type": "execute_result",
          "data": {
            "text/plain": [
              "pandas.core.frame.DataFrame"
            ]
          },
          "metadata": {
            "tags": []
          },
          "execution_count": 140
        }
      ]
    },
    {
      "cell_type": "code",
      "metadata": {
        "id": "nXxJh6s3vroE",
        "colab_type": "code",
        "colab": {
          "base_uri": "https://localhost:8080/",
          "height": 317
        },
        "outputId": "a8d11537-8c7c-42ac-b907-1f09f9931030"
      },
      "source": [
        "dados_phishing.describe()"
      ],
      "execution_count": 141,
      "outputs": [
        {
          "output_type": "execute_result",
          "data": {
            "text/html": [
              "<div>\n",
              "<style scoped>\n",
              "    .dataframe tbody tr th:only-of-type {\n",
              "        vertical-align: middle;\n",
              "    }\n",
              "\n",
              "    .dataframe tbody tr th {\n",
              "        vertical-align: top;\n",
              "    }\n",
              "\n",
              "    .dataframe thead th {\n",
              "        text-align: right;\n",
              "    }\n",
              "</style>\n",
              "<table border=\"1\" class=\"dataframe\">\n",
              "  <thead>\n",
              "    <tr style=\"text-align: right;\">\n",
              "      <th></th>\n",
              "      <th>SFH</th>\n",
              "      <th>popUpWidnow</th>\n",
              "      <th>SSLfinal_State</th>\n",
              "      <th>Request_URL</th>\n",
              "      <th>URL_of_Anchor</th>\n",
              "      <th>web_traffic</th>\n",
              "      <th>URL_Length</th>\n",
              "      <th>age_of_domain</th>\n",
              "      <th>having_IP_Address</th>\n",
              "      <th>Result</th>\n",
              "    </tr>\n",
              "  </thead>\n",
              "  <tbody>\n",
              "    <tr>\n",
              "      <th>count</th>\n",
              "      <td>1353.000000</td>\n",
              "      <td>1353.000000</td>\n",
              "      <td>1353.000000</td>\n",
              "      <td>1353.000000</td>\n",
              "      <td>1353.000000</td>\n",
              "      <td>1353.000000</td>\n",
              "      <td>1353.000000</td>\n",
              "      <td>1353.000000</td>\n",
              "      <td>1353.000000</td>\n",
              "      <td>1353.000000</td>\n",
              "    </tr>\n",
              "    <tr>\n",
              "      <th>mean</th>\n",
              "      <td>0.237990</td>\n",
              "      <td>-0.258684</td>\n",
              "      <td>0.327421</td>\n",
              "      <td>-0.223208</td>\n",
              "      <td>-0.025129</td>\n",
              "      <td>0.000000</td>\n",
              "      <td>-0.053215</td>\n",
              "      <td>0.219512</td>\n",
              "      <td>0.114560</td>\n",
              "      <td>-0.113821</td>\n",
              "    </tr>\n",
              "    <tr>\n",
              "      <th>std</th>\n",
              "      <td>0.916389</td>\n",
              "      <td>0.679072</td>\n",
              "      <td>0.822193</td>\n",
              "      <td>0.799682</td>\n",
              "      <td>0.936262</td>\n",
              "      <td>0.806776</td>\n",
              "      <td>0.762552</td>\n",
              "      <td>0.975970</td>\n",
              "      <td>0.318608</td>\n",
              "      <td>0.954773</td>\n",
              "    </tr>\n",
              "    <tr>\n",
              "      <th>min</th>\n",
              "      <td>-1.000000</td>\n",
              "      <td>-1.000000</td>\n",
              "      <td>-1.000000</td>\n",
              "      <td>-1.000000</td>\n",
              "      <td>-1.000000</td>\n",
              "      <td>-1.000000</td>\n",
              "      <td>-1.000000</td>\n",
              "      <td>-1.000000</td>\n",
              "      <td>0.000000</td>\n",
              "      <td>-1.000000</td>\n",
              "    </tr>\n",
              "    <tr>\n",
              "      <th>25%</th>\n",
              "      <td>-1.000000</td>\n",
              "      <td>-1.000000</td>\n",
              "      <td>0.000000</td>\n",
              "      <td>-1.000000</td>\n",
              "      <td>-1.000000</td>\n",
              "      <td>-1.000000</td>\n",
              "      <td>-1.000000</td>\n",
              "      <td>-1.000000</td>\n",
              "      <td>0.000000</td>\n",
              "      <td>-1.000000</td>\n",
              "    </tr>\n",
              "    <tr>\n",
              "      <th>50%</th>\n",
              "      <td>1.000000</td>\n",
              "      <td>0.000000</td>\n",
              "      <td>1.000000</td>\n",
              "      <td>0.000000</td>\n",
              "      <td>0.000000</td>\n",
              "      <td>0.000000</td>\n",
              "      <td>0.000000</td>\n",
              "      <td>1.000000</td>\n",
              "      <td>0.000000</td>\n",
              "      <td>-1.000000</td>\n",
              "    </tr>\n",
              "    <tr>\n",
              "      <th>75%</th>\n",
              "      <td>1.000000</td>\n",
              "      <td>0.000000</td>\n",
              "      <td>1.000000</td>\n",
              "      <td>0.000000</td>\n",
              "      <td>1.000000</td>\n",
              "      <td>1.000000</td>\n",
              "      <td>1.000000</td>\n",
              "      <td>1.000000</td>\n",
              "      <td>0.000000</td>\n",
              "      <td>1.000000</td>\n",
              "    </tr>\n",
              "    <tr>\n",
              "      <th>max</th>\n",
              "      <td>1.000000</td>\n",
              "      <td>1.000000</td>\n",
              "      <td>1.000000</td>\n",
              "      <td>1.000000</td>\n",
              "      <td>1.000000</td>\n",
              "      <td>1.000000</td>\n",
              "      <td>1.000000</td>\n",
              "      <td>1.000000</td>\n",
              "      <td>1.000000</td>\n",
              "      <td>1.000000</td>\n",
              "    </tr>\n",
              "  </tbody>\n",
              "</table>\n",
              "</div>"
            ],
            "text/plain": [
              "               SFH  popUpWidnow  ...  having_IP_Address       Result\n",
              "count  1353.000000  1353.000000  ...        1353.000000  1353.000000\n",
              "mean      0.237990    -0.258684  ...           0.114560    -0.113821\n",
              "std       0.916389     0.679072  ...           0.318608     0.954773\n",
              "min      -1.000000    -1.000000  ...           0.000000    -1.000000\n",
              "25%      -1.000000    -1.000000  ...           0.000000    -1.000000\n",
              "50%       1.000000     0.000000  ...           0.000000    -1.000000\n",
              "75%       1.000000     0.000000  ...           0.000000     1.000000\n",
              "max       1.000000     1.000000  ...           1.000000     1.000000\n",
              "\n",
              "[8 rows x 10 columns]"
            ]
          },
          "metadata": {
            "tags": []
          },
          "execution_count": 141
        }
      ]
    },
    {
      "cell_type": "markdown",
      "metadata": {
        "id": "ZI2FzYp_h9rB",
        "colab_type": "text"
      },
      "source": [
        "**Avaliar a correlação dos atributos**"
      ]
    },
    {
      "cell_type": "code",
      "metadata": {
        "id": "fHHflwCe2pfg",
        "colab_type": "code",
        "colab": {
          "base_uri": "https://localhost:8080/",
          "height": 379
        },
        "outputId": "a5f947fe-9898-41ba-891d-602dad434aff"
      },
      "source": [
        "dados_cor = dados_phishing.corr(method='spearman')\n",
        "dados_cor"
      ],
      "execution_count": 142,
      "outputs": [
        {
          "output_type": "execute_result",
          "data": {
            "text/html": [
              "<div>\n",
              "<style scoped>\n",
              "    .dataframe tbody tr th:only-of-type {\n",
              "        vertical-align: middle;\n",
              "    }\n",
              "\n",
              "    .dataframe tbody tr th {\n",
              "        vertical-align: top;\n",
              "    }\n",
              "\n",
              "    .dataframe thead th {\n",
              "        text-align: right;\n",
              "    }\n",
              "</style>\n",
              "<table border=\"1\" class=\"dataframe\">\n",
              "  <thead>\n",
              "    <tr style=\"text-align: right;\">\n",
              "      <th></th>\n",
              "      <th>SFH</th>\n",
              "      <th>popUpWidnow</th>\n",
              "      <th>SSLfinal_State</th>\n",
              "      <th>Request_URL</th>\n",
              "      <th>URL_of_Anchor</th>\n",
              "      <th>web_traffic</th>\n",
              "      <th>URL_Length</th>\n",
              "      <th>age_of_domain</th>\n",
              "      <th>having_IP_Address</th>\n",
              "      <th>Result</th>\n",
              "    </tr>\n",
              "  </thead>\n",
              "  <tbody>\n",
              "    <tr>\n",
              "      <th>SFH</th>\n",
              "      <td>1.000000</td>\n",
              "      <td>0.383578</td>\n",
              "      <td>0.386249</td>\n",
              "      <td>0.231795</td>\n",
              "      <td>0.314036</td>\n",
              "      <td>-0.189490</td>\n",
              "      <td>0.150600</td>\n",
              "      <td>0.168091</td>\n",
              "      <td>0.042507</td>\n",
              "      <td>-0.698891</td>\n",
              "    </tr>\n",
              "    <tr>\n",
              "      <th>popUpWidnow</th>\n",
              "      <td>0.383578</td>\n",
              "      <td>1.000000</td>\n",
              "      <td>0.244573</td>\n",
              "      <td>0.112455</td>\n",
              "      <td>0.165456</td>\n",
              "      <td>-0.135077</td>\n",
              "      <td>0.136559</td>\n",
              "      <td>0.070816</td>\n",
              "      <td>0.121577</td>\n",
              "      <td>-0.513377</td>\n",
              "    </tr>\n",
              "    <tr>\n",
              "      <th>SSLfinal_State</th>\n",
              "      <td>0.386249</td>\n",
              "      <td>0.244573</td>\n",
              "      <td>1.000000</td>\n",
              "      <td>0.046103</td>\n",
              "      <td>0.102836</td>\n",
              "      <td>-0.163316</td>\n",
              "      <td>0.114083</td>\n",
              "      <td>0.198449</td>\n",
              "      <td>0.115657</td>\n",
              "      <td>-0.530451</td>\n",
              "    </tr>\n",
              "    <tr>\n",
              "      <th>Request_URL</th>\n",
              "      <td>0.231795</td>\n",
              "      <td>0.112455</td>\n",
              "      <td>0.046103</td>\n",
              "      <td>1.000000</td>\n",
              "      <td>0.311861</td>\n",
              "      <td>-0.041007</td>\n",
              "      <td>0.048621</td>\n",
              "      <td>0.047190</td>\n",
              "      <td>0.017281</td>\n",
              "      <td>-0.260166</td>\n",
              "    </tr>\n",
              "    <tr>\n",
              "      <th>URL_of_Anchor</th>\n",
              "      <td>0.314036</td>\n",
              "      <td>0.165456</td>\n",
              "      <td>0.102836</td>\n",
              "      <td>0.311861</td>\n",
              "      <td>1.000000</td>\n",
              "      <td>-0.091947</td>\n",
              "      <td>0.097577</td>\n",
              "      <td>0.069285</td>\n",
              "      <td>0.039955</td>\n",
              "      <td>-0.289553</td>\n",
              "    </tr>\n",
              "    <tr>\n",
              "      <th>web_traffic</th>\n",
              "      <td>-0.189490</td>\n",
              "      <td>-0.135077</td>\n",
              "      <td>-0.163316</td>\n",
              "      <td>-0.041007</td>\n",
              "      <td>-0.091947</td>\n",
              "      <td>1.000000</td>\n",
              "      <td>-0.109010</td>\n",
              "      <td>-0.683857</td>\n",
              "      <td>-0.094957</td>\n",
              "      <td>0.241720</td>\n",
              "    </tr>\n",
              "    <tr>\n",
              "      <th>URL_Length</th>\n",
              "      <td>0.150600</td>\n",
              "      <td>0.136559</td>\n",
              "      <td>0.114083</td>\n",
              "      <td>0.048621</td>\n",
              "      <td>0.097577</td>\n",
              "      <td>-0.109010</td>\n",
              "      <td>1.000000</td>\n",
              "      <td>0.076529</td>\n",
              "      <td>0.162184</td>\n",
              "      <td>-0.178642</td>\n",
              "    </tr>\n",
              "    <tr>\n",
              "      <th>age_of_domain</th>\n",
              "      <td>0.168091</td>\n",
              "      <td>0.070816</td>\n",
              "      <td>0.198449</td>\n",
              "      <td>0.047190</td>\n",
              "      <td>0.069285</td>\n",
              "      <td>-0.683857</td>\n",
              "      <td>0.076529</td>\n",
              "      <td>1.000000</td>\n",
              "      <td>0.040379</td>\n",
              "      <td>-0.229554</td>\n",
              "    </tr>\n",
              "    <tr>\n",
              "      <th>having_IP_Address</th>\n",
              "      <td>0.042507</td>\n",
              "      <td>0.121577</td>\n",
              "      <td>0.115657</td>\n",
              "      <td>0.017281</td>\n",
              "      <td>0.039955</td>\n",
              "      <td>-0.094957</td>\n",
              "      <td>0.162184</td>\n",
              "      <td>0.040379</td>\n",
              "      <td>1.000000</td>\n",
              "      <td>-0.058831</td>\n",
              "    </tr>\n",
              "    <tr>\n",
              "      <th>Result</th>\n",
              "      <td>-0.698891</td>\n",
              "      <td>-0.513377</td>\n",
              "      <td>-0.530451</td>\n",
              "      <td>-0.260166</td>\n",
              "      <td>-0.289553</td>\n",
              "      <td>0.241720</td>\n",
              "      <td>-0.178642</td>\n",
              "      <td>-0.229554</td>\n",
              "      <td>-0.058831</td>\n",
              "      <td>1.000000</td>\n",
              "    </tr>\n",
              "  </tbody>\n",
              "</table>\n",
              "</div>"
            ],
            "text/plain": [
              "                        SFH  popUpWidnow  ...  having_IP_Address    Result\n",
              "SFH                1.000000     0.383578  ...           0.042507 -0.698891\n",
              "popUpWidnow        0.383578     1.000000  ...           0.121577 -0.513377\n",
              "SSLfinal_State     0.386249     0.244573  ...           0.115657 -0.530451\n",
              "Request_URL        0.231795     0.112455  ...           0.017281 -0.260166\n",
              "URL_of_Anchor      0.314036     0.165456  ...           0.039955 -0.289553\n",
              "web_traffic       -0.189490    -0.135077  ...          -0.094957  0.241720\n",
              "URL_Length         0.150600     0.136559  ...           0.162184 -0.178642\n",
              "age_of_domain      0.168091     0.070816  ...           0.040379 -0.229554\n",
              "having_IP_Address  0.042507     0.121577  ...           1.000000 -0.058831\n",
              "Result            -0.698891    -0.513377  ...          -0.058831  1.000000\n",
              "\n",
              "[10 rows x 10 columns]"
            ]
          },
          "metadata": {
            "tags": []
          },
          "execution_count": 142
        }
      ]
    },
    {
      "cell_type": "code",
      "metadata": {
        "id": "nHmRKk-72wpO",
        "colab_type": "code",
        "colab": {
          "base_uri": "https://localhost:8080/",
          "height": 369
        },
        "outputId": "776b114a-29a9-4b18-ae4e-2448433925e6"
      },
      "source": [
        "import seaborn as sns\n",
        "sns.heatmap(dados_cor, yticklabels=False, cbar=True, cmap='viridis')"
      ],
      "execution_count": 203,
      "outputs": [
        {
          "output_type": "execute_result",
          "data": {
            "text/plain": [
              "<matplotlib.axes._subplots.AxesSubplot at 0x7fea77e61400>"
            ]
          },
          "metadata": {
            "tags": []
          },
          "execution_count": 203
        },
        {
          "output_type": "display_data",
          "data": {
            "image/png": "[encoded data removed]",
            "text/plain": [
              "<Figure size 432x288 with 2 Axes>"
            ]
          },
          "metadata": {
            "tags": [],
            "needs_background": "light"
          }
        }
      ]
    },
    {
      "cell_type": "markdown",
      "metadata": {
        "id": "Iwc-1Ah04yZM",
        "colab_type": "text"
      },
      "source": [
        "**Iremos remover a coluna having_IP_address porque a correlação é próxima a zero**"
      ]
    },
    {
      "cell_type": "code",
      "metadata": {
        "id": "LoFMESXP4x95",
        "colab_type": "code",
        "colab": {}
      },
      "source": [
        "del dados_phishing['having_IP_Address']"
      ],
      "execution_count": 0,
      "outputs": []
    },
    {
      "cell_type": "code",
      "metadata": {
        "id": "EOPqQ5kZFpZe",
        "colab_type": "code",
        "colab": {}
      },
      "source": [
        "dados_tratados = dados_phishing.copy()"
      ],
      "execution_count": 0,
      "outputs": []
    },
    {
      "cell_type": "code",
      "metadata": {
        "id": "CA34k-sd5gpW",
        "colab_type": "code",
        "colab": {}
      },
      "source": [
        "#dados_tratados = dados_phishing"
      ],
      "execution_count": 0,
      "outputs": []
    },
    {
      "cell_type": "code",
      "metadata": {
        "id": "oDmo339y5xu6",
        "colab_type": "code",
        "colab": {
          "base_uri": "https://localhost:8080/",
          "height": 419
        },
        "outputId": "1e8fe0c3-abc2-49fe-95f2-11db8bbdf6ad"
      },
      "source": [
        "dados_tratados"
      ],
      "execution_count": 146,
      "outputs": [
        {
          "output_type": "execute_result",
          "data": {
            "text/html": [
              "<div>\n",
              "<style scoped>\n",
              "    .dataframe tbody tr th:only-of-type {\n",
              "        vertical-align: middle;\n",
              "    }\n",
              "\n",
              "    .dataframe tbody tr th {\n",
              "        vertical-align: top;\n",
              "    }\n",
              "\n",
              "    .dataframe thead th {\n",
              "        text-align: right;\n",
              "    }\n",
              "</style>\n",
              "<table border=\"1\" class=\"dataframe\">\n",
              "  <thead>\n",
              "    <tr style=\"text-align: right;\">\n",
              "      <th></th>\n",
              "      <th>SFH</th>\n",
              "      <th>popUpWidnow</th>\n",
              "      <th>SSLfinal_State</th>\n",
              "      <th>Request_URL</th>\n",
              "      <th>URL_of_Anchor</th>\n",
              "      <th>web_traffic</th>\n",
              "      <th>URL_Length</th>\n",
              "      <th>age_of_domain</th>\n",
              "      <th>Result</th>\n",
              "    </tr>\n",
              "  </thead>\n",
              "  <tbody>\n",
              "    <tr>\n",
              "      <th>0</th>\n",
              "      <td>1.0</td>\n",
              "      <td>-1.0</td>\n",
              "      <td>1.0</td>\n",
              "      <td>-1.0</td>\n",
              "      <td>-1.0</td>\n",
              "      <td>1.0</td>\n",
              "      <td>1.0</td>\n",
              "      <td>1.0</td>\n",
              "      <td>0.0</td>\n",
              "    </tr>\n",
              "    <tr>\n",
              "      <th>1</th>\n",
              "      <td>-1.0</td>\n",
              "      <td>-1.0</td>\n",
              "      <td>-1.0</td>\n",
              "      <td>-1.0</td>\n",
              "      <td>-1.0</td>\n",
              "      <td>0.0</td>\n",
              "      <td>1.0</td>\n",
              "      <td>1.0</td>\n",
              "      <td>1.0</td>\n",
              "    </tr>\n",
              "    <tr>\n",
              "      <th>2</th>\n",
              "      <td>1.0</td>\n",
              "      <td>-1.0</td>\n",
              "      <td>0.0</td>\n",
              "      <td>0.0</td>\n",
              "      <td>-1.0</td>\n",
              "      <td>0.0</td>\n",
              "      <td>-1.0</td>\n",
              "      <td>1.0</td>\n",
              "      <td>1.0</td>\n",
              "    </tr>\n",
              "    <tr>\n",
              "      <th>3</th>\n",
              "      <td>1.0</td>\n",
              "      <td>0.0</td>\n",
              "      <td>1.0</td>\n",
              "      <td>-1.0</td>\n",
              "      <td>-1.0</td>\n",
              "      <td>0.0</td>\n",
              "      <td>1.0</td>\n",
              "      <td>1.0</td>\n",
              "      <td>0.0</td>\n",
              "    </tr>\n",
              "    <tr>\n",
              "      <th>4</th>\n",
              "      <td>-1.0</td>\n",
              "      <td>-1.0</td>\n",
              "      <td>1.0</td>\n",
              "      <td>-1.0</td>\n",
              "      <td>0.0</td>\n",
              "      <td>0.0</td>\n",
              "      <td>-1.0</td>\n",
              "      <td>1.0</td>\n",
              "      <td>1.0</td>\n",
              "    </tr>\n",
              "    <tr>\n",
              "      <th>...</th>\n",
              "      <td>...</td>\n",
              "      <td>...</td>\n",
              "      <td>...</td>\n",
              "      <td>...</td>\n",
              "      <td>...</td>\n",
              "      <td>...</td>\n",
              "      <td>...</td>\n",
              "      <td>...</td>\n",
              "      <td>...</td>\n",
              "    </tr>\n",
              "    <tr>\n",
              "      <th>1348</th>\n",
              "      <td>-1.0</td>\n",
              "      <td>-1.0</td>\n",
              "      <td>-1.0</td>\n",
              "      <td>-1.0</td>\n",
              "      <td>-1.0</td>\n",
              "      <td>-1.0</td>\n",
              "      <td>0.0</td>\n",
              "      <td>1.0</td>\n",
              "      <td>1.0</td>\n",
              "    </tr>\n",
              "    <tr>\n",
              "      <th>1349</th>\n",
              "      <td>-1.0</td>\n",
              "      <td>0.0</td>\n",
              "      <td>1.0</td>\n",
              "      <td>0.0</td>\n",
              "      <td>-1.0</td>\n",
              "      <td>0.0</td>\n",
              "      <td>0.0</td>\n",
              "      <td>1.0</td>\n",
              "      <td>-1.0</td>\n",
              "    </tr>\n",
              "    <tr>\n",
              "      <th>1350</th>\n",
              "      <td>-1.0</td>\n",
              "      <td>0.0</td>\n",
              "      <td>-1.0</td>\n",
              "      <td>-1.0</td>\n",
              "      <td>-1.0</td>\n",
              "      <td>0.0</td>\n",
              "      <td>-1.0</td>\n",
              "      <td>-1.0</td>\n",
              "      <td>1.0</td>\n",
              "    </tr>\n",
              "    <tr>\n",
              "      <th>1351</th>\n",
              "      <td>0.0</td>\n",
              "      <td>0.0</td>\n",
              "      <td>1.0</td>\n",
              "      <td>0.0</td>\n",
              "      <td>0.0</td>\n",
              "      <td>0.0</td>\n",
              "      <td>-1.0</td>\n",
              "      <td>1.0</td>\n",
              "      <td>1.0</td>\n",
              "    </tr>\n",
              "    <tr>\n",
              "      <th>1352</th>\n",
              "      <td>1.0</td>\n",
              "      <td>0.0</td>\n",
              "      <td>1.0</td>\n",
              "      <td>1.0</td>\n",
              "      <td>1.0</td>\n",
              "      <td>0.0</td>\n",
              "      <td>-1.0</td>\n",
              "      <td>-1.0</td>\n",
              "      <td>-1.0</td>\n",
              "    </tr>\n",
              "  </tbody>\n",
              "</table>\n",
              "<p>1353 rows × 9 columns</p>\n",
              "</div>"
            ],
            "text/plain": [
              "      SFH  popUpWidnow  SSLfinal_State  ...  URL_Length  age_of_domain  Result\n",
              "0     1.0         -1.0             1.0  ...         1.0            1.0     0.0\n",
              "1    -1.0         -1.0            -1.0  ...         1.0            1.0     1.0\n",
              "2     1.0         -1.0             0.0  ...        -1.0            1.0     1.0\n",
              "3     1.0          0.0             1.0  ...         1.0            1.0     0.0\n",
              "4    -1.0         -1.0             1.0  ...        -1.0            1.0     1.0\n",
              "...   ...          ...             ...  ...         ...            ...     ...\n",
              "1348 -1.0         -1.0            -1.0  ...         0.0            1.0     1.0\n",
              "1349 -1.0          0.0             1.0  ...         0.0            1.0    -1.0\n",
              "1350 -1.0          0.0            -1.0  ...        -1.0           -1.0     1.0\n",
              "1351  0.0          0.0             1.0  ...        -1.0            1.0     1.0\n",
              "1352  1.0          0.0             1.0  ...        -1.0           -1.0    -1.0\n",
              "\n",
              "[1353 rows x 9 columns]"
            ]
          },
          "metadata": {
            "tags": []
          },
          "execution_count": 146
        }
      ]
    },
    {
      "cell_type": "code",
      "metadata": {
        "id": "B5HqBfXf6BBT",
        "colab_type": "code",
        "colab": {
          "base_uri": "https://localhost:8080/",
          "height": 187
        },
        "outputId": "a240f653-d546-45d5-d411-10eb1f976214"
      },
      "source": [
        "dados_tratados.isnull().sum()"
      ],
      "execution_count": 147,
      "outputs": [
        {
          "output_type": "execute_result",
          "data": {
            "text/plain": [
              "SFH               0\n",
              "popUpWidnow       0\n",
              "SSLfinal_State    0\n",
              "Request_URL       0\n",
              "URL_of_Anchor     0\n",
              "web_traffic       0\n",
              "URL_Length        0\n",
              "age_of_domain     0\n",
              "Result            0\n",
              "dtype: int64"
            ]
          },
          "metadata": {
            "tags": []
          },
          "execution_count": 147
        }
      ]
    },
    {
      "cell_type": "code",
      "metadata": {
        "id": "rTAI7c2d61d8",
        "colab_type": "code",
        "colab": {
          "base_uri": "https://localhost:8080/",
          "height": 34
        },
        "outputId": "81364f16-bb25-4e19-ca0e-feadb4518c66"
      },
      "source": [
        "dados_tratados['SFH'].unique()"
      ],
      "execution_count": 148,
      "outputs": [
        {
          "output_type": "execute_result",
          "data": {
            "text/plain": [
              "array([ 1., -1.,  0.])"
            ]
          },
          "metadata": {
            "tags": []
          },
          "execution_count": 148
        }
      ]
    },
    {
      "cell_type": "code",
      "metadata": {
        "id": "UCWMnUij7F1x",
        "colab_type": "code",
        "colab": {
          "base_uri": "https://localhost:8080/",
          "height": 34
        },
        "outputId": "acbd3150-c57f-457d-b671-b48cbb167419"
      },
      "source": [
        "len(dados_tratados['SFH'].unique())"
      ],
      "execution_count": 149,
      "outputs": [
        {
          "output_type": "execute_result",
          "data": {
            "text/plain": [
              "3"
            ]
          },
          "metadata": {
            "tags": []
          },
          "execution_count": 149
        }
      ]
    },
    {
      "cell_type": "code",
      "metadata": {
        "id": "b3YNjBXc6Qxy",
        "colab_type": "code",
        "colab": {
          "base_uri": "https://localhost:8080/",
          "height": 170
        },
        "outputId": "e3a28fe2-9cd8-4b70-9ab6-029bc7249c42"
      },
      "source": [
        "for i in range(0,9):\n",
        "  print(dados_tratados.iloc[i].unique().shape)"
      ],
      "execution_count": 150,
      "outputs": [
        {
          "output_type": "stream",
          "text": [
            "(3,)\n",
            "(3,)\n",
            "(3,)\n",
            "(3,)\n",
            "(3,)\n",
            "(3,)\n",
            "(3,)\n",
            "(3,)\n",
            "(3,)\n"
          ],
          "name": "stdout"
        }
      ]
    },
    {
      "cell_type": "code",
      "metadata": {
        "id": "0DGcsv-5-NpO",
        "colab_type": "code",
        "colab": {
          "base_uri": "https://localhost:8080/",
          "height": 419
        },
        "outputId": "b030f9f0-b554-4446-ebc9-bce21bcbff16"
      },
      "source": [
        "dados_tratados"
      ],
      "execution_count": 152,
      "outputs": [
        {
          "output_type": "execute_result",
          "data": {
            "text/html": [
              "<div>\n",
              "<style scoped>\n",
              "    .dataframe tbody tr th:only-of-type {\n",
              "        vertical-align: middle;\n",
              "    }\n",
              "\n",
              "    .dataframe tbody tr th {\n",
              "        vertical-align: top;\n",
              "    }\n",
              "\n",
              "    .dataframe thead th {\n",
              "        text-align: right;\n",
              "    }\n",
              "</style>\n",
              "<table border=\"1\" class=\"dataframe\">\n",
              "  <thead>\n",
              "    <tr style=\"text-align: right;\">\n",
              "      <th></th>\n",
              "      <th>SFH</th>\n",
              "      <th>popUpWidnow</th>\n",
              "      <th>SSLfinal_State</th>\n",
              "      <th>Request_URL</th>\n",
              "      <th>URL_of_Anchor</th>\n",
              "      <th>web_traffic</th>\n",
              "      <th>URL_Length</th>\n",
              "      <th>age_of_domain</th>\n",
              "      <th>Result</th>\n",
              "    </tr>\n",
              "  </thead>\n",
              "  <tbody>\n",
              "    <tr>\n",
              "      <th>0</th>\n",
              "      <td>1.0</td>\n",
              "      <td>-1.0</td>\n",
              "      <td>1.0</td>\n",
              "      <td>-1.0</td>\n",
              "      <td>-1.0</td>\n",
              "      <td>1.0</td>\n",
              "      <td>1.0</td>\n",
              "      <td>1.0</td>\n",
              "      <td>0.0</td>\n",
              "    </tr>\n",
              "    <tr>\n",
              "      <th>1</th>\n",
              "      <td>-1.0</td>\n",
              "      <td>-1.0</td>\n",
              "      <td>-1.0</td>\n",
              "      <td>-1.0</td>\n",
              "      <td>-1.0</td>\n",
              "      <td>0.0</td>\n",
              "      <td>1.0</td>\n",
              "      <td>1.0</td>\n",
              "      <td>1.0</td>\n",
              "    </tr>\n",
              "    <tr>\n",
              "      <th>2</th>\n",
              "      <td>1.0</td>\n",
              "      <td>-1.0</td>\n",
              "      <td>0.0</td>\n",
              "      <td>0.0</td>\n",
              "      <td>-1.0</td>\n",
              "      <td>0.0</td>\n",
              "      <td>-1.0</td>\n",
              "      <td>1.0</td>\n",
              "      <td>1.0</td>\n",
              "    </tr>\n",
              "    <tr>\n",
              "      <th>3</th>\n",
              "      <td>1.0</td>\n",
              "      <td>0.0</td>\n",
              "      <td>1.0</td>\n",
              "      <td>-1.0</td>\n",
              "      <td>-1.0</td>\n",
              "      <td>0.0</td>\n",
              "      <td>1.0</td>\n",
              "      <td>1.0</td>\n",
              "      <td>0.0</td>\n",
              "    </tr>\n",
              "    <tr>\n",
              "      <th>4</th>\n",
              "      <td>-1.0</td>\n",
              "      <td>-1.0</td>\n",
              "      <td>1.0</td>\n",
              "      <td>-1.0</td>\n",
              "      <td>0.0</td>\n",
              "      <td>0.0</td>\n",
              "      <td>-1.0</td>\n",
              "      <td>1.0</td>\n",
              "      <td>1.0</td>\n",
              "    </tr>\n",
              "    <tr>\n",
              "      <th>...</th>\n",
              "      <td>...</td>\n",
              "      <td>...</td>\n",
              "      <td>...</td>\n",
              "      <td>...</td>\n",
              "      <td>...</td>\n",
              "      <td>...</td>\n",
              "      <td>...</td>\n",
              "      <td>...</td>\n",
              "      <td>...</td>\n",
              "    </tr>\n",
              "    <tr>\n",
              "      <th>1348</th>\n",
              "      <td>-1.0</td>\n",
              "      <td>-1.0</td>\n",
              "      <td>-1.0</td>\n",
              "      <td>-1.0</td>\n",
              "      <td>-1.0</td>\n",
              "      <td>-1.0</td>\n",
              "      <td>0.0</td>\n",
              "      <td>1.0</td>\n",
              "      <td>1.0</td>\n",
              "    </tr>\n",
              "    <tr>\n",
              "      <th>1349</th>\n",
              "      <td>-1.0</td>\n",
              "      <td>0.0</td>\n",
              "      <td>1.0</td>\n",
              "      <td>0.0</td>\n",
              "      <td>-1.0</td>\n",
              "      <td>0.0</td>\n",
              "      <td>0.0</td>\n",
              "      <td>1.0</td>\n",
              "      <td>-1.0</td>\n",
              "    </tr>\n",
              "    <tr>\n",
              "      <th>1350</th>\n",
              "      <td>-1.0</td>\n",
              "      <td>0.0</td>\n",
              "      <td>-1.0</td>\n",
              "      <td>-1.0</td>\n",
              "      <td>-1.0</td>\n",
              "      <td>0.0</td>\n",
              "      <td>-1.0</td>\n",
              "      <td>-1.0</td>\n",
              "      <td>1.0</td>\n",
              "    </tr>\n",
              "    <tr>\n",
              "      <th>1351</th>\n",
              "      <td>0.0</td>\n",
              "      <td>0.0</td>\n",
              "      <td>1.0</td>\n",
              "      <td>0.0</td>\n",
              "      <td>0.0</td>\n",
              "      <td>0.0</td>\n",
              "      <td>-1.0</td>\n",
              "      <td>1.0</td>\n",
              "      <td>1.0</td>\n",
              "    </tr>\n",
              "    <tr>\n",
              "      <th>1352</th>\n",
              "      <td>1.0</td>\n",
              "      <td>0.0</td>\n",
              "      <td>1.0</td>\n",
              "      <td>1.0</td>\n",
              "      <td>1.0</td>\n",
              "      <td>0.0</td>\n",
              "      <td>-1.0</td>\n",
              "      <td>-1.0</td>\n",
              "      <td>-1.0</td>\n",
              "    </tr>\n",
              "  </tbody>\n",
              "</table>\n",
              "<p>1353 rows × 9 columns</p>\n",
              "</div>"
            ],
            "text/plain": [
              "      SFH  popUpWidnow  SSLfinal_State  ...  URL_Length  age_of_domain  Result\n",
              "0     1.0         -1.0             1.0  ...         1.0            1.0     0.0\n",
              "1    -1.0         -1.0            -1.0  ...         1.0            1.0     1.0\n",
              "2     1.0         -1.0             0.0  ...        -1.0            1.0     1.0\n",
              "3     1.0          0.0             1.0  ...         1.0            1.0     0.0\n",
              "4    -1.0         -1.0             1.0  ...        -1.0            1.0     1.0\n",
              "...   ...          ...             ...  ...         ...            ...     ...\n",
              "1348 -1.0         -1.0            -1.0  ...         0.0            1.0     1.0\n",
              "1349 -1.0          0.0             1.0  ...         0.0            1.0    -1.0\n",
              "1350 -1.0          0.0            -1.0  ...        -1.0           -1.0     1.0\n",
              "1351  0.0          0.0             1.0  ...        -1.0            1.0     1.0\n",
              "1352  1.0          0.0             1.0  ...        -1.0           -1.0    -1.0\n",
              "\n",
              "[1353 rows x 9 columns]"
            ]
          },
          "metadata": {
            "tags": []
          },
          "execution_count": 152
        }
      ]
    },
    {
      "cell_type": "code",
      "metadata": {
        "id": "PQdGiVEz-kHd",
        "colab_type": "code",
        "colab": {
          "base_uri": "https://localhost:8080/",
          "height": 34
        },
        "outputId": "371f6261-3016-47c3-fc37-2f0d5263d831"
      },
      "source": [
        "type(dados_tratados)"
      ],
      "execution_count": 153,
      "outputs": [
        {
          "output_type": "execute_result",
          "data": {
            "text/plain": [
              "pandas.core.frame.DataFrame"
            ]
          },
          "metadata": {
            "tags": []
          },
          "execution_count": 153
        }
      ]
    },
    {
      "cell_type": "markdown",
      "metadata": {
        "id": "R4FMVn5jXnXB",
        "colab_type": "text"
      },
      "source": [
        "**Separando dados e rótulos**\n",
        "\n",
        "Apresentamos duas formas de fazer"
      ]
    },
    {
      "cell_type": "markdown",
      "metadata": {
        "id": "psOUGjzvXuTk",
        "colab_type": "text"
      },
      "source": [
        "**1a forma de fazer**"
      ]
    },
    {
      "cell_type": "code",
      "metadata": {
        "id": "F1AUTz_89Q7Q",
        "colab_type": "code",
        "colab": {}
      },
      "source": [
        "rotulo = dados_tratados['Result'].copy()"
      ],
      "execution_count": 0,
      "outputs": []
    },
    {
      "cell_type": "code",
      "metadata": {
        "id": "_NPzTW30_i1F",
        "colab_type": "code",
        "colab": {
          "base_uri": "https://localhost:8080/",
          "height": 119
        },
        "outputId": "f153d959-0f92-4cc9-dfc7-bd0b24dc25c4"
      },
      "source": [
        "rotulo.head()"
      ],
      "execution_count": 155,
      "outputs": [
        {
          "output_type": "execute_result",
          "data": {
            "text/plain": [
              "0    0.0\n",
              "1    1.0\n",
              "2    1.0\n",
              "3    0.0\n",
              "4    1.0\n",
              "Name: Result, dtype: float64"
            ]
          },
          "metadata": {
            "tags": []
          },
          "execution_count": 155
        }
      ]
    },
    {
      "cell_type": "code",
      "metadata": {
        "id": "oGJLte8G_otE",
        "colab_type": "code",
        "colab": {}
      },
      "source": [
        "dados = dados_tratados.copy()"
      ],
      "execution_count": 0,
      "outputs": []
    },
    {
      "cell_type": "code",
      "metadata": {
        "id": "zbg7YCTl__Vs",
        "colab_type": "code",
        "colab": {}
      },
      "source": [
        "del dados['Result']"
      ],
      "execution_count": 0,
      "outputs": []
    },
    {
      "cell_type": "code",
      "metadata": {
        "id": "7FWFnVD2AC0N",
        "colab_type": "code",
        "colab": {
          "base_uri": "https://localhost:8080/",
          "height": 204
        },
        "outputId": "f8bad328-ef50-4986-a9a4-24fdd2df187d"
      },
      "source": [
        "dados.head()"
      ],
      "execution_count": 160,
      "outputs": [
        {
          "output_type": "execute_result",
          "data": {
            "text/html": [
              "<div>\n",
              "<style scoped>\n",
              "    .dataframe tbody tr th:only-of-type {\n",
              "        vertical-align: middle;\n",
              "    }\n",
              "\n",
              "    .dataframe tbody tr th {\n",
              "        vertical-align: top;\n",
              "    }\n",
              "\n",
              "    .dataframe thead th {\n",
              "        text-align: right;\n",
              "    }\n",
              "</style>\n",
              "<table border=\"1\" class=\"dataframe\">\n",
              "  <thead>\n",
              "    <tr style=\"text-align: right;\">\n",
              "      <th></th>\n",
              "      <th>SFH</th>\n",
              "      <th>popUpWidnow</th>\n",
              "      <th>SSLfinal_State</th>\n",
              "      <th>Request_URL</th>\n",
              "      <th>URL_of_Anchor</th>\n",
              "      <th>web_traffic</th>\n",
              "      <th>URL_Length</th>\n",
              "      <th>age_of_domain</th>\n",
              "    </tr>\n",
              "  </thead>\n",
              "  <tbody>\n",
              "    <tr>\n",
              "      <th>0</th>\n",
              "      <td>1.0</td>\n",
              "      <td>-1.0</td>\n",
              "      <td>1.0</td>\n",
              "      <td>-1.0</td>\n",
              "      <td>-1.0</td>\n",
              "      <td>1.0</td>\n",
              "      <td>1.0</td>\n",
              "      <td>1.0</td>\n",
              "    </tr>\n",
              "    <tr>\n",
              "      <th>1</th>\n",
              "      <td>-1.0</td>\n",
              "      <td>-1.0</td>\n",
              "      <td>-1.0</td>\n",
              "      <td>-1.0</td>\n",
              "      <td>-1.0</td>\n",
              "      <td>0.0</td>\n",
              "      <td>1.0</td>\n",
              "      <td>1.0</td>\n",
              "    </tr>\n",
              "    <tr>\n",
              "      <th>2</th>\n",
              "      <td>1.0</td>\n",
              "      <td>-1.0</td>\n",
              "      <td>0.0</td>\n",
              "      <td>0.0</td>\n",
              "      <td>-1.0</td>\n",
              "      <td>0.0</td>\n",
              "      <td>-1.0</td>\n",
              "      <td>1.0</td>\n",
              "    </tr>\n",
              "    <tr>\n",
              "      <th>3</th>\n",
              "      <td>1.0</td>\n",
              "      <td>0.0</td>\n",
              "      <td>1.0</td>\n",
              "      <td>-1.0</td>\n",
              "      <td>-1.0</td>\n",
              "      <td>0.0</td>\n",
              "      <td>1.0</td>\n",
              "      <td>1.0</td>\n",
              "    </tr>\n",
              "    <tr>\n",
              "      <th>4</th>\n",
              "      <td>-1.0</td>\n",
              "      <td>-1.0</td>\n",
              "      <td>1.0</td>\n",
              "      <td>-1.0</td>\n",
              "      <td>0.0</td>\n",
              "      <td>0.0</td>\n",
              "      <td>-1.0</td>\n",
              "      <td>1.0</td>\n",
              "    </tr>\n",
              "  </tbody>\n",
              "</table>\n",
              "</div>"
            ],
            "text/plain": [
              "   SFH  popUpWidnow  SSLfinal_State  ...  web_traffic  URL_Length  age_of_domain\n",
              "0  1.0         -1.0             1.0  ...          1.0         1.0            1.0\n",
              "1 -1.0         -1.0            -1.0  ...          0.0         1.0            1.0\n",
              "2  1.0         -1.0             0.0  ...          0.0        -1.0            1.0\n",
              "3  1.0          0.0             1.0  ...          0.0         1.0            1.0\n",
              "4 -1.0         -1.0             1.0  ...          0.0        -1.0            1.0\n",
              "\n",
              "[5 rows x 8 columns]"
            ]
          },
          "metadata": {
            "tags": []
          },
          "execution_count": 160
        }
      ]
    },
    {
      "cell_type": "code",
      "metadata": {
        "id": "o4NbE2_gEfBR",
        "colab_type": "code",
        "colab": {
          "base_uri": "https://localhost:8080/",
          "height": 204
        },
        "outputId": "27d1df5f-9c4a-49be-acd1-4c32687725f2"
      },
      "source": [
        "dados_tratados.head()"
      ],
      "execution_count": 161,
      "outputs": [
        {
          "output_type": "execute_result",
          "data": {
            "text/html": [
              "<div>\n",
              "<style scoped>\n",
              "    .dataframe tbody tr th:only-of-type {\n",
              "        vertical-align: middle;\n",
              "    }\n",
              "\n",
              "    .dataframe tbody tr th {\n",
              "        vertical-align: top;\n",
              "    }\n",
              "\n",
              "    .dataframe thead th {\n",
              "        text-align: right;\n",
              "    }\n",
              "</style>\n",
              "<table border=\"1\" class=\"dataframe\">\n",
              "  <thead>\n",
              "    <tr style=\"text-align: right;\">\n",
              "      <th></th>\n",
              "      <th>SFH</th>\n",
              "      <th>popUpWidnow</th>\n",
              "      <th>SSLfinal_State</th>\n",
              "      <th>Request_URL</th>\n",
              "      <th>URL_of_Anchor</th>\n",
              "      <th>web_traffic</th>\n",
              "      <th>URL_Length</th>\n",
              "      <th>age_of_domain</th>\n",
              "      <th>Result</th>\n",
              "    </tr>\n",
              "  </thead>\n",
              "  <tbody>\n",
              "    <tr>\n",
              "      <th>0</th>\n",
              "      <td>1.0</td>\n",
              "      <td>-1.0</td>\n",
              "      <td>1.0</td>\n",
              "      <td>-1.0</td>\n",
              "      <td>-1.0</td>\n",
              "      <td>1.0</td>\n",
              "      <td>1.0</td>\n",
              "      <td>1.0</td>\n",
              "      <td>0.0</td>\n",
              "    </tr>\n",
              "    <tr>\n",
              "      <th>1</th>\n",
              "      <td>-1.0</td>\n",
              "      <td>-1.0</td>\n",
              "      <td>-1.0</td>\n",
              "      <td>-1.0</td>\n",
              "      <td>-1.0</td>\n",
              "      <td>0.0</td>\n",
              "      <td>1.0</td>\n",
              "      <td>1.0</td>\n",
              "      <td>1.0</td>\n",
              "    </tr>\n",
              "    <tr>\n",
              "      <th>2</th>\n",
              "      <td>1.0</td>\n",
              "      <td>-1.0</td>\n",
              "      <td>0.0</td>\n",
              "      <td>0.0</td>\n",
              "      <td>-1.0</td>\n",
              "      <td>0.0</td>\n",
              "      <td>-1.0</td>\n",
              "      <td>1.0</td>\n",
              "      <td>1.0</td>\n",
              "    </tr>\n",
              "    <tr>\n",
              "      <th>3</th>\n",
              "      <td>1.0</td>\n",
              "      <td>0.0</td>\n",
              "      <td>1.0</td>\n",
              "      <td>-1.0</td>\n",
              "      <td>-1.0</td>\n",
              "      <td>0.0</td>\n",
              "      <td>1.0</td>\n",
              "      <td>1.0</td>\n",
              "      <td>0.0</td>\n",
              "    </tr>\n",
              "    <tr>\n",
              "      <th>4</th>\n",
              "      <td>-1.0</td>\n",
              "      <td>-1.0</td>\n",
              "      <td>1.0</td>\n",
              "      <td>-1.0</td>\n",
              "      <td>0.0</td>\n",
              "      <td>0.0</td>\n",
              "      <td>-1.0</td>\n",
              "      <td>1.0</td>\n",
              "      <td>1.0</td>\n",
              "    </tr>\n",
              "  </tbody>\n",
              "</table>\n",
              "</div>"
            ],
            "text/plain": [
              "   SFH  popUpWidnow  SSLfinal_State  ...  URL_Length  age_of_domain  Result\n",
              "0  1.0         -1.0             1.0  ...         1.0            1.0     0.0\n",
              "1 -1.0         -1.0            -1.0  ...         1.0            1.0     1.0\n",
              "2  1.0         -1.0             0.0  ...        -1.0            1.0     1.0\n",
              "3  1.0          0.0             1.0  ...         1.0            1.0     0.0\n",
              "4 -1.0         -1.0             1.0  ...        -1.0            1.0     1.0\n",
              "\n",
              "[5 rows x 9 columns]"
            ]
          },
          "metadata": {
            "tags": []
          },
          "execution_count": 161
        }
      ]
    },
    {
      "cell_type": "markdown",
      "metadata": {
        "id": "vRtILvrrYEOt",
        "colab_type": "text"
      },
      "source": [
        "**2a forma de fazer**"
      ]
    },
    {
      "cell_type": "code",
      "metadata": {
        "id": "lPhWQco5D_q0",
        "colab_type": "code",
        "colab": {}
      },
      "source": [
        "X_d = dados_tratados.iloc[:,0:-1]"
      ],
      "execution_count": 0,
      "outputs": []
    },
    {
      "cell_type": "code",
      "metadata": {
        "id": "-S4Xs0A2EO49",
        "colab_type": "code",
        "colab": {
          "base_uri": "https://localhost:8080/",
          "height": 204
        },
        "outputId": "27ccb7c5-c501-4317-c89e-e5a5d76ce8e1"
      },
      "source": [
        "X_d.head()"
      ],
      "execution_count": 171,
      "outputs": [
        {
          "output_type": "execute_result",
          "data": {
            "text/html": [
              "<div>\n",
              "<style scoped>\n",
              "    .dataframe tbody tr th:only-of-type {\n",
              "        vertical-align: middle;\n",
              "    }\n",
              "\n",
              "    .dataframe tbody tr th {\n",
              "        vertical-align: top;\n",
              "    }\n",
              "\n",
              "    .dataframe thead th {\n",
              "        text-align: right;\n",
              "    }\n",
              "</style>\n",
              "<table border=\"1\" class=\"dataframe\">\n",
              "  <thead>\n",
              "    <tr style=\"text-align: right;\">\n",
              "      <th></th>\n",
              "      <th>SFH</th>\n",
              "      <th>popUpWidnow</th>\n",
              "      <th>SSLfinal_State</th>\n",
              "      <th>Request_URL</th>\n",
              "      <th>URL_of_Anchor</th>\n",
              "      <th>web_traffic</th>\n",
              "      <th>URL_Length</th>\n",
              "      <th>age_of_domain</th>\n",
              "    </tr>\n",
              "  </thead>\n",
              "  <tbody>\n",
              "    <tr>\n",
              "      <th>0</th>\n",
              "      <td>1.0</td>\n",
              "      <td>-1.0</td>\n",
              "      <td>1.0</td>\n",
              "      <td>-1.0</td>\n",
              "      <td>-1.0</td>\n",
              "      <td>1.0</td>\n",
              "      <td>1.0</td>\n",
              "      <td>1.0</td>\n",
              "    </tr>\n",
              "    <tr>\n",
              "      <th>1</th>\n",
              "      <td>-1.0</td>\n",
              "      <td>-1.0</td>\n",
              "      <td>-1.0</td>\n",
              "      <td>-1.0</td>\n",
              "      <td>-1.0</td>\n",
              "      <td>0.0</td>\n",
              "      <td>1.0</td>\n",
              "      <td>1.0</td>\n",
              "    </tr>\n",
              "    <tr>\n",
              "      <th>2</th>\n",
              "      <td>1.0</td>\n",
              "      <td>-1.0</td>\n",
              "      <td>0.0</td>\n",
              "      <td>0.0</td>\n",
              "      <td>-1.0</td>\n",
              "      <td>0.0</td>\n",
              "      <td>-1.0</td>\n",
              "      <td>1.0</td>\n",
              "    </tr>\n",
              "    <tr>\n",
              "      <th>3</th>\n",
              "      <td>1.0</td>\n",
              "      <td>0.0</td>\n",
              "      <td>1.0</td>\n",
              "      <td>-1.0</td>\n",
              "      <td>-1.0</td>\n",
              "      <td>0.0</td>\n",
              "      <td>1.0</td>\n",
              "      <td>1.0</td>\n",
              "    </tr>\n",
              "    <tr>\n",
              "      <th>4</th>\n",
              "      <td>-1.0</td>\n",
              "      <td>-1.0</td>\n",
              "      <td>1.0</td>\n",
              "      <td>-1.0</td>\n",
              "      <td>0.0</td>\n",
              "      <td>0.0</td>\n",
              "      <td>-1.0</td>\n",
              "      <td>1.0</td>\n",
              "    </tr>\n",
              "  </tbody>\n",
              "</table>\n",
              "</div>"
            ],
            "text/plain": [
              "   SFH  popUpWidnow  SSLfinal_State  ...  web_traffic  URL_Length  age_of_domain\n",
              "0  1.0         -1.0             1.0  ...          1.0         1.0            1.0\n",
              "1 -1.0         -1.0            -1.0  ...          0.0         1.0            1.0\n",
              "2  1.0         -1.0             0.0  ...          0.0        -1.0            1.0\n",
              "3  1.0          0.0             1.0  ...          0.0         1.0            1.0\n",
              "4 -1.0         -1.0             1.0  ...          0.0        -1.0            1.0\n",
              "\n",
              "[5 rows x 8 columns]"
            ]
          },
          "metadata": {
            "tags": []
          },
          "execution_count": 171
        }
      ]
    },
    {
      "cell_type": "code",
      "metadata": {
        "id": "d9N3UszEGiYR",
        "colab_type": "code",
        "colab": {}
      },
      "source": [
        "y_r = dados_tratados.iloc[:,-1]"
      ],
      "execution_count": 0,
      "outputs": []
    },
    {
      "cell_type": "code",
      "metadata": {
        "id": "qn-EAQz4GsDy",
        "colab_type": "code",
        "colab": {
          "base_uri": "https://localhost:8080/",
          "height": 221
        },
        "outputId": "2055dbed-d862-461f-9d1a-154802ad9ffc"
      },
      "source": [
        "y_r"
      ],
      "execution_count": 173,
      "outputs": [
        {
          "output_type": "execute_result",
          "data": {
            "text/plain": [
              "0       0.0\n",
              "1       1.0\n",
              "2       1.0\n",
              "3       0.0\n",
              "4       1.0\n",
              "       ... \n",
              "1348    1.0\n",
              "1349   -1.0\n",
              "1350    1.0\n",
              "1351    1.0\n",
              "1352   -1.0\n",
              "Name: Result, Length: 1353, dtype: float64"
            ]
          },
          "metadata": {
            "tags": []
          },
          "execution_count": 173
        }
      ]
    },
    {
      "cell_type": "markdown",
      "metadata": {
        "id": "nvKkHO2hYQPC",
        "colab_type": "text"
      },
      "source": [
        "**Explicando como funciona o parâmetro random_state**"
      ]
    },
    {
      "cell_type": "code",
      "metadata": {
        "id": "G36yNZD8B9-I",
        "colab_type": "code",
        "colab": {}
      },
      "source": [
        "array_a = [0,1,2,3,4,5,6,7,8,9]\n"
      ],
      "execution_count": 0,
      "outputs": []
    },
    {
      "cell_type": "code",
      "metadata": {
        "id": "-Vf1cuZVCVLv",
        "colab_type": "code",
        "colab": {}
      },
      "source": [
        "import numpy as np"
      ],
      "execution_count": 0,
      "outputs": []
    },
    {
      "cell_type": "code",
      "metadata": {
        "id": "iYisWJfjCltd",
        "colab_type": "code",
        "colab": {}
      },
      "source": [
        "np.random.seed(0)"
      ],
      "execution_count": 0,
      "outputs": []
    },
    {
      "cell_type": "code",
      "metadata": {
        "id": "iutTckDaCGA_",
        "colab_type": "code",
        "colab": {
          "base_uri": "https://localhost:8080/",
          "height": 34
        },
        "outputId": "189baa3b-a8c4-48b2-c526-e0e4d0180fa5"
      },
      "source": [
        "train_test_split(array_a, random_state=1)\n"
      ],
      "execution_count": 124,
      "outputs": [
        {
          "output_type": "execute_result",
          "data": {
            "text/plain": [
              "[[4, 0, 3, 1, 7, 8, 5], [2, 9, 6]]"
            ]
          },
          "metadata": {
            "tags": []
          },
          "execution_count": 124
        }
      ]
    },
    {
      "cell_type": "markdown",
      "metadata": {
        "id": "jQprHCA1Xcvx",
        "colab_type": "text"
      },
      "source": [
        "**CRIANDO AS BASES DE TREINO E TESTE**\n",
        "\n",
        "**NOTA: Stratify balanceia os valores das classes**"
      ]
    },
    {
      "cell_type": "code",
      "metadata": {
        "id": "rwljADubAP-l",
        "colab_type": "code",
        "colab": {}
      },
      "source": [
        "dados_treino, dados_teste, rotulos_treino, rotulos_teste = train_test_split(X_d, y_r, test_size=0.3, stratify=y_r, random_state=1)"
      ],
      "execution_count": 0,
      "outputs": []
    },
    {
      "cell_type": "markdown",
      "metadata": {
        "id": "wzpFjBM-IDd7",
        "colab_type": "text"
      },
      "source": [
        "# **TREINAMENTO**"
      ]
    },
    {
      "cell_type": "code",
      "metadata": {
        "id": "42wrOmXfIqM_",
        "colab_type": "code",
        "colab": {}
      },
      "source": [
        "from sklearn import datasets\n",
        "from sklearn.linear_model import Perceptron\n",
        "from sklearn.svm import SVC\n",
        "from sklearn.ensemble import RandomForestClassifier\n",
        "from sklearn.model_selection import train_test_split\n",
        "from sklearn import metrics\n",
        "from sklearn.linear_model import LogisticRegression"
      ],
      "execution_count": 0,
      "outputs": []
    },
    {
      "cell_type": "markdown",
      "metadata": {
        "id": "j_t0LE_1aVOa",
        "colab_type": "text"
      },
      "source": [
        "# **Criar Modelo que será usado como Baseline: classificador regressão linear**"
      ]
    },
    {
      "cell_type": "markdown",
      "metadata": {
        "id": "MNQFRYvzZaEj",
        "colab_type": "text"
      },
      "source": [
        "**Definição dos parâmetros do modelo de classificação utilizado**"
      ]
    },
    {
      "cell_type": "code",
      "metadata": {
        "id": "OB5GU7BPKFZv",
        "colab_type": "code",
        "colab": {}
      },
      "source": [
        "# Não iremos usar penalty\n",
        "# penalty = ['l1', 'l2', 'elasticnet', 'none']"
      ],
      "execution_count": 0,
      "outputs": []
    },
    {
      "cell_type": "code",
      "metadata": {
        "id": "tCs1LsI6ZLkE",
        "colab_type": "code",
        "colab": {}
      },
      "source": [
        "s = ['newton-cg', 'lbfgs', 'liblinear', 'sag', 'saga']"
      ],
      "execution_count": 0,
      "outputs": []
    },
    {
      "cell_type": "code",
      "metadata": {
        "id": "gSUAiiiQKluH",
        "colab_type": "code",
        "colab": {}
      },
      "source": [
        "tol = [1e-4, 1e-3, 1e-2, 1e-1]"
      ],
      "execution_count": 0,
      "outputs": []
    },
    {
      "cell_type": "code",
      "metadata": {
        "id": "bWjWa0FRKykz",
        "colab_type": "code",
        "colab": {}
      },
      "source": [
        "C = [0.1, 1.0, 10.0]"
      ],
      "execution_count": 0,
      "outputs": []
    },
    {
      "cell_type": "markdown",
      "metadata": {
        "id": "Zb28Hgi5Zwi7",
        "colab_type": "text"
      },
      "source": [
        "**Iremos escolher o melhor modelo com base na métrica accuracy**"
      ]
    },
    {
      "cell_type": "code",
      "metadata": {
        "id": "4snuN56KN_sG",
        "colab_type": "code",
        "colab": {
          "base_uri": "https://localhost:8080/",
          "height": 105
        },
        "outputId": "78860126-9e0c-459d-b1df-10779d099647"
      },
      "source": [
        "best_acc = 0\n",
        "for s in solver:\n",
        "  for t in tol:\n",
        "    for c in C:\n",
        "      clf_baseline = LogisticRegression(tol=t, solver=s, C=c)\n",
        "      clf_baseline.fit(dados_treino, rotulos_treino)\n",
        "      predictions = clf_baseline.predict(dados_treino)\n",
        "      current_acc = metrics.accuracy_score(rotulos_treino, predictions)\n",
        "      if current_acc > best_acc:\n",
        "        best_acc = current_acc\n",
        "        best_model = clf_baseline\n",
        "        print(best_acc)"
      ],
      "execution_count": 195,
      "outputs": [
        {
          "output_type": "stream",
          "text": [
            "0.8479408658922915\n",
            "0.8489968321013728\n"
          ],
          "name": "stdout"
        },
        {
          "output_type": "stream",
          "text": [
            "/usr/local/lib/python3.6/dist-packages/sklearn/linear_model/_sag.py:330: ConvergenceWarning: The max_iter was reached which means the coef_ did not converge\n",
            "  \"the coef_ did not converge\", ConvergenceWarning)\n"
          ],
          "name": "stderr"
        }
      ]
    },
    {
      "cell_type": "code",
      "metadata": {
        "id": "BzPHVGZPR85Q",
        "colab_type": "code",
        "colab": {
          "base_uri": "https://localhost:8080/",
          "height": 102
        },
        "outputId": "536ce3c8-6d26-4dcf-d76a-d2436234730e"
      },
      "source": [
        "best_model"
      ],
      "execution_count": 191,
      "outputs": [
        {
          "output_type": "execute_result",
          "data": {
            "text/plain": [
              "LogisticRegression(C=0.1, class_weight=None, dual=False, fit_intercept=True,\n",
              "                   intercept_scaling=1, l1_ratio=None, max_iter=100,\n",
              "                   multi_class='auto', n_jobs=None, penalty='l2',\n",
              "                   random_state=None, solver='liblinear', tol=0.0001, verbose=0,\n",
              "                   warm_start=False)"
            ]
          },
          "metadata": {
            "tags": []
          },
          "execution_count": 191
        }
      ]
    },
    {
      "cell_type": "code",
      "metadata": {
        "id": "aslnp2EVTFQW",
        "colab_type": "code",
        "colab": {}
      },
      "source": [
        "predict_teste = best_model.predict(dados_teste)\n",
        "predict_teste"
      ],
      "execution_count": 0,
      "outputs": []
    },
    {
      "cell_type": "code",
      "metadata": {
        "id": "4_3JkBDJTToi",
        "colab_type": "code",
        "colab": {
          "base_uri": "https://localhost:8080/",
          "height": 34
        },
        "outputId": "a0a7fa45-f1e2-48a6-dedc-7e03c4821357"
      },
      "source": [
        "metrics.accuracy_score(rotulos_teste, predict_teste)"
      ],
      "execution_count": 199,
      "outputs": [
        {
          "output_type": "execute_result",
          "data": {
            "text/plain": [
              "0.7931034482758621"
            ]
          },
          "metadata": {
            "tags": []
          },
          "execution_count": 199
        }
      ]
    },
    {
      "cell_type": "markdown",
      "metadata": {
        "id": "O6h3tTG2e8K0",
        "colab_type": "text"
      },
      "source": [
        "# **PARAMOS AQUI**"
      ]
    },
    {
      "cell_type": "markdown",
      "metadata": {
        "id": "RekZBWyQWbfa",
        "colab_type": "text"
      },
      "source": [
        "# **Fazer para RandomForest e comparar com a baseline: regressão linear**"
      ]
    },
    {
      "cell_type": "code",
      "metadata": {
        "id": "hFlvs_zVIB-C",
        "colab_type": "code",
        "colab": {}
      },
      "source": [
        "clf_rf = RandomForestClassifier()\n"
      ],
      "execution_count": 0,
      "outputs": []
    },
    {
      "cell_type": "code",
      "metadata": {
        "id": "tR4COy48pJpu",
        "colab_type": "code",
        "colab": {
          "base_uri": "https://localhost:8080/",
          "height": 34
        },
        "outputId": "ab719473-65c4-43b5-c453-5828906bbab7"
      },
      "source": [
        "# Executar o comando a seguir para instalar o graphviz apenas uma vez\n",
        "# !pip install graphviz"
      ],
      "execution_count": 16,
      "outputs": [
        {
          "output_type": "stream",
          "text": [
            "Requirement already satisfied: graphviz in /usr/local/lib/python3.6/dist-packages (0.10.1)\n"
          ],
          "name": "stdout"
        }
      ]
    },
    {
      "cell_type": "code",
      "metadata": {
        "id": "k0xyrW7Tpfv6",
        "colab_type": "code",
        "colab": {}
      },
      "source": [
        "import graphviz\n",
        "import matplotlib.pyplot as plt\n",
        "from sklearn import tree\n",
        "from sklearn.model_selection import train_test_split\n",
        "\n",
        "#fig, ax = plt.subplots(figsize=(20, 20))\n",
        "#tree.plot_tree(clf, fontsize=14, feature_names=X_d, class_names=y_r)\n",
        "#plt.show()"
      ],
      "execution_count": 0,
      "outputs": []
    },
    {
      "cell_type": "code",
      "metadata": {
        "id": "aCDYXLFMkvMR",
        "colab_type": "code",
        "colab": {}
      },
      "source": [
        "arvore = tree.DecisionTreeClassifier(criterion= 'entropy')"
      ],
      "execution_count": 0,
      "outputs": []
    },
    {
      "cell_type": "code",
      "metadata": {
        "id": "1MTVCBfCkviO",
        "colab_type": "code",
        "outputId": "1ad7bed0-43d0-4546-b778-7524c0c38c32",
        "colab": {
          "base_uri": "https://localhost:8080/",
          "height": 119
        }
      },
      "source": [
        "arvore"
      ],
      "execution_count": 213,
      "outputs": [
        {
          "output_type": "execute_result",
          "data": {
            "text/plain": [
              "DecisionTreeClassifier(ccp_alpha=0.0, class_weight=None, criterion='entropy',\n",
              "                       max_depth=None, max_features=None, max_leaf_nodes=None,\n",
              "                       min_impurity_decrease=0.0, min_impurity_split=None,\n",
              "                       min_samples_leaf=1, min_samples_split=2,\n",
              "                       min_weight_fraction_leaf=0.0, presort='deprecated',\n",
              "                       random_state=None, splitter='best')"
            ]
          },
          "metadata": {
            "tags": []
          },
          "execution_count": 213
        }
      ]
    },
    {
      "cell_type": "code",
      "metadata": {
        "id": "orryyXsolXxK",
        "colab_type": "code",
        "outputId": "1d1629cf-70d2-4f51-acdb-4c5a7b610515",
        "colab": {
          "base_uri": "https://localhost:8080/",
          "height": 119
        }
      },
      "source": [
        "## Treinamento da árvore\n",
        "arvore.fit(dados_treino, rotulos_treino)"
      ],
      "execution_count": 214,
      "outputs": [
        {
          "output_type": "execute_result",
          "data": {
            "text/plain": [
              "DecisionTreeClassifier(ccp_alpha=0.0, class_weight=None, criterion='entropy',\n",
              "                       max_depth=None, max_features=None, max_leaf_nodes=None,\n",
              "                       min_impurity_decrease=0.0, min_impurity_split=None,\n",
              "                       min_samples_leaf=1, min_samples_split=2,\n",
              "                       min_weight_fraction_leaf=0.0, presort='deprecated',\n",
              "                       random_state=None, splitter='best')"
            ]
          },
          "metadata": {
            "tags": []
          },
          "execution_count": 214
        }
      ]
    },
    {
      "cell_type": "code",
      "metadata": {
        "id": "yxlCCxVKeDVs",
        "colab_type": "code",
        "colab": {}
      },
      "source": [
        "predictions_tree = arvore.predict(dados_treino)"
      ],
      "execution_count": 0,
      "outputs": []
    },
    {
      "cell_type": "code",
      "metadata": {
        "id": "qsYq_xidex08",
        "colab_type": "code",
        "colab": {
          "base_uri": "https://localhost:8080/",
          "height": 34
        },
        "outputId": "ad629218-54a8-4e44-df9c-a2782d21b8bd"
      },
      "source": [
        "acc_tree = metrics.accuracy_score(rotulos_treino, predictions_tree)\n",
        "acc_tree"
      ],
      "execution_count": 220,
      "outputs": [
        {
          "output_type": "execute_result",
          "data": {
            "text/plain": [
              "0.9640971488912354"
            ]
          },
          "metadata": {
            "tags": []
          },
          "execution_count": 220
        }
      ]
    },
    {
      "cell_type": "code",
      "metadata": {
        "id": "QodamzfamEXv",
        "colab_type": "code",
        "colab": {}
      },
      "source": [
        "predict_train_tree = arvore.predict(dados_treino)"
      ],
      "execution_count": 0,
      "outputs": []
    },
    {
      "cell_type": "code",
      "metadata": {
        "id": "0d92XanmfquD",
        "colab_type": "code",
        "colab": {
          "base_uri": "https://localhost:8080/",
          "height": 1000
        },
        "outputId": "5c8e43a8-7e60-485e-f6da-e95e75c7b7c0"
      },
      "source": [
        "predict_train_tree"
      ],
      "execution_count": 224,
      "outputs": [
        {
          "output_type": "execute_result",
          "data": {
            "text/plain": [
              "array([-1.,  1.,  1.,  1.,  1., -1., -1., -1.,  1., -1.,  1.,  1., -1.,\n",
              "       -1.,  1.,  1., -1.,  1.,  0.,  1., -1.,  0.,  1.,  1., -1., -1.,\n",
              "        1., -1.,  1.,  1., -1., -1.,  1., -1., -1., -1.,  1., -1., -1.,\n",
              "       -1.,  1., -1., -1., -1.,  1.,  1., -1., -1., -1., -1., -1., -1.,\n",
              "        1.,  1., -1., -1.,  1., -1., -1.,  1.,  1.,  1., -1.,  1.,  1.,\n",
              "       -1.,  1.,  1.,  1., -1.,  0., -1., -1., -1., -1.,  1., -1.,  1.,\n",
              "       -1.,  1.,  1., -1., -1.,  1.,  1., -1., -1., -1., -1., -1., -1.,\n",
              "       -1.,  1., -1.,  1., -1.,  1., -1., -1.,  1., -1., -1.,  0.,  1.,\n",
              "       -1.,  0., -1.,  1., -1.,  0.,  1., -1.,  1., -1., -1.,  1., -1.,\n",
              "       -1., -1.,  1.,  1.,  1.,  1., -1.,  1., -1.,  1., -1.,  1.,  1.,\n",
              "       -1., -1.,  1.,  0., -1., -1., -1.,  1., -1., -1., -1.,  1., -1.,\n",
              "       -1., -1., -1., -1., -1., -1., -1., -1.,  1.,  1.,  0., -1., -1.,\n",
              "       -1.,  1., -1.,  1.,  1., -1.,  1., -1.,  1.,  0.,  1., -1.,  1.,\n",
              "        1.,  1.,  0.,  1.,  1., -1.,  1., -1., -1.,  1., -1., -1.,  1.,\n",
              "        1., -1., -1.,  1., -1.,  1.,  0.,  1., -1., -1., -1.,  1.,  1.,\n",
              "       -1.,  1.,  1.,  1.,  1., -1.,  1., -1., -1., -1., -1.,  0., -1.,\n",
              "        1.,  1.,  1., -1., -1.,  1., -1., -1., -1.,  1.,  1., -1.,  0.,\n",
              "        1., -1., -1.,  1.,  0.,  1.,  1., -1.,  0.,  1.,  1., -1.,  1.,\n",
              "        1., -1.,  1.,  1., -1., -1., -1., -1., -1.,  0.,  1.,  1.,  1.,\n",
              "       -1., -1., -1.,  1.,  1., -1., -1., -1., -1.,  1., -1.,  1., -1.,\n",
              "        1., -1.,  1., -1., -1.,  1.,  1., -1., -1., -1., -1.,  1., -1.,\n",
              "       -1., -1., -1., -1., -1., -1.,  1.,  1., -1., -1.,  1., -1.,  1.,\n",
              "        1.,  1., -1., -1., -1.,  1.,  0.,  1.,  1., -1., -1.,  1., -1.,\n",
              "       -1., -1., -1., -1., -1., -1., -1., -1., -1., -1.,  1.,  0.,  1.,\n",
              "        1., -1.,  1., -1., -1.,  1., -1.,  1.,  1.,  0., -1., -1., -1.,\n",
              "       -1.,  1., -1., -1.,  1., -1., -1.,  1.,  1., -1.,  1., -1., -1.,\n",
              "       -1., -1.,  0.,  1., -1.,  1., -1., -1., -1., -1.,  1., -1., -1.,\n",
              "       -1., -1.,  0., -1.,  1., -1., -1.,  1.,  1.,  1., -1., -1., -1.,\n",
              "        1., -1.,  1.,  1., -1.,  1.,  0., -1., -1., -1., -1.,  1., -1.,\n",
              "        1.,  0., -1., -1.,  1., -1.,  1., -1.,  1., -1.,  1.,  1., -1.,\n",
              "        0.,  1.,  1.,  1.,  0.,  1., -1.,  1.,  1.,  1., -1.,  1., -1.,\n",
              "        1.,  1., -1.,  1., -1.,  1.,  1., -1.,  1.,  1.,  0.,  1., -1.,\n",
              "        1., -1., -1., -1., -1.,  1.,  0., -1.,  1.,  1.,  1., -1., -1.,\n",
              "        1.,  1., -1.,  1.,  1.,  1., -1., -1.,  1., -1.,  1., -1., -1.,\n",
              "       -1., -1.,  1., -1., -1.,  1., -1.,  1.,  1.,  1., -1., -1., -1.,\n",
              "       -1.,  1.,  1., -1.,  1., -1., -1., -1.,  1.,  1.,  0., -1., -1.,\n",
              "       -1., -1., -1.,  1.,  1., -1.,  0.,  0.,  1., -1., -1.,  0., -1.,\n",
              "        1.,  1.,  1., -1.,  1., -1., -1.,  1., -1., -1., -1., -1.,  1.,\n",
              "       -1., -1., -1.,  1.,  0.,  1.,  1.,  1., -1., -1.,  0., -1., -1.,\n",
              "        1., -1.,  1.,  1., -1., -1.,  1.,  1.,  1.,  1., -1., -1., -1.,\n",
              "        1., -1., -1.,  1., -1.,  1.,  0.,  0.,  1., -1.,  1., -1., -1.,\n",
              "        0., -1., -1.,  1.,  0., -1., -1.,  1.,  1.,  1., -1., -1.,  1.,\n",
              "        1.,  0., -1., -1., -1., -1.,  0., -1.,  0.,  1.,  0., -1., -1.,\n",
              "       -1.,  1.,  1., -1.,  1.,  1.,  1., -1.,  1.,  1., -1., -1., -1.,\n",
              "       -1., -1.,  1.,  1., -1.,  0.,  1.,  1.,  1.,  0.,  1., -1.,  1.,\n",
              "        1., -1., -1., -1., -1.,  1., -1.,  1., -1., -1., -1., -1., -1.,\n",
              "       -1.,  1.,  1., -1., -1., -1., -1., -1.,  1.,  1., -1., -1., -1.,\n",
              "       -1., -1.,  1., -1., -1., -1., -1.,  0.,  1.,  1.,  1.,  1.,  1.,\n",
              "        1., -1., -1.,  0.,  1., -1., -1., -1., -1., -1., -1., -1., -1.,\n",
              "        1., -1., -1.,  1.,  1.,  1.,  1.,  1., -1.,  0., -1.,  1.,  1.,\n",
              "       -1.,  1., -1., -1., -1., -1., -1.,  1., -1., -1.,  0., -1., -1.,\n",
              "        1., -1., -1., -1., -1., -1., -1., -1.,  1., -1., -1., -1.,  1.,\n",
              "        0.,  1.,  1.,  1., -1.,  1.,  0.,  1.,  1., -1.,  1.,  1.,  1.,\n",
              "       -1.,  1.,  1., -1.,  0.,  1.,  0., -1.,  1., -1.,  1.,  0., -1.,\n",
              "        1.,  1., -1., -1.,  1., -1., -1.,  1., -1.,  0., -1.,  1., -1.,\n",
              "       -1.,  1., -1., -1., -1.,  0., -1.,  1.,  1.,  1., -1., -1.,  1.,\n",
              "        0.,  1.,  1.,  0.,  0.,  1.,  1., -1., -1.,  0.,  1.,  0.,  1.,\n",
              "        1., -1., -1., -1., -1., -1.,  1., -1.,  1., -1., -1., -1., -1.,\n",
              "       -1.,  1.,  0.,  0., -1., -1., -1., -1., -1.,  1., -1., -1.,  1.,\n",
              "       -1.,  0., -1.,  1.,  1.,  0., -1., -1., -1., -1.,  0., -1., -1.,\n",
              "       -1., -1., -1.,  1., -1.,  1., -1., -1.,  1., -1., -1.,  1.,  1.,\n",
              "       -1., -1., -1., -1., -1., -1., -1., -1.,  0., -1., -1., -1.,  1.,\n",
              "        1.,  1.,  0., -1.,  0., -1., -1.,  0., -1., -1.,  0., -1., -1.,\n",
              "       -1., -1.,  1.,  1., -1., -1.,  0.,  1.,  0., -1., -1.,  1., -1.,\n",
              "       -1.,  1., -1.,  0., -1., -1.,  1., -1.,  1., -1.,  1.,  1., -1.,\n",
              "       -1., -1.,  1.,  1.,  1., -1., -1.,  1.,  1., -1., -1., -1., -1.,\n",
              "       -1.,  1.,  1.,  1., -1.,  1.,  1., -1.,  1.,  1., -1., -1., -1.,\n",
              "       -1.,  1., -1., -1.,  1., -1., -1.,  1.,  1.,  0.,  1., -1., -1.,\n",
              "       -1., -1., -1., -1.,  1., -1.,  1.,  1., -1., -1.,  1.,  0.,  1.,\n",
              "        1., -1.,  0.,  1.,  1., -1., -1.,  1., -1., -1.,  1.,  1.,  1.,\n",
              "        1.,  1.,  1., -1., -1., -1., -1.,  1.,  0., -1., -1.,  1.,  1.,\n",
              "        1., -1., -1., -1.,  1., -1.,  1., -1., -1.,  1.,  0.,  1.,  1.,\n",
              "        1., -1., -1., -1., -1., -1., -1., -1.,  1., -1.,  0.])"
            ]
          },
          "metadata": {
            "tags": []
          },
          "execution_count": 224
        }
      ]
    },
    {
      "cell_type": "code",
      "metadata": {
        "id": "bd6mBE8gmJ6H",
        "colab_type": "code",
        "outputId": "139e90ba-f260-48e7-f2ff-453c17c43e95",
        "colab": {
          "base_uri": "https://localhost:8080/",
          "height": 34
        }
      },
      "source": [
        "predict_train_tree.shape"
      ],
      "execution_count": 223,
      "outputs": [
        {
          "output_type": "execute_result",
          "data": {
            "text/plain": [
              "(947,)"
            ]
          },
          "metadata": {
            "tags": []
          },
          "execution_count": 223
        }
      ]
    },
    {
      "cell_type": "code",
      "metadata": {
        "id": "RGY6L1BCmN9P",
        "colab_type": "code",
        "colab": {}
      },
      "source": [
        "predict_test_tree = arvore.predict(dados_teste)"
      ],
      "execution_count": 0,
      "outputs": []
    },
    {
      "cell_type": "code",
      "metadata": {
        "id": "lDWc-lSggIwf",
        "colab_type": "code",
        "colab": {
          "base_uri": "https://localhost:8080/",
          "height": 561
        },
        "outputId": "bb4f3946-e1fe-49f2-8675-30ceb8cfc8b3"
      },
      "source": [
        "predict_test_tree"
      ],
      "execution_count": 226,
      "outputs": [
        {
          "output_type": "execute_result",
          "data": {
            "text/plain": [
              "array([ 1.,  0., -1.,  0., -1.,  1., -1., -1., -1., -1.,  1., -1., -1.,\n",
              "        1.,  1.,  1., -1.,  1., -1.,  0.,  1., -1.,  1.,  1., -1., -1.,\n",
              "       -1.,  1., -1., -1.,  1., -1., -1.,  1.,  1., -1.,  1.,  0.,  0.,\n",
              "        1., -1.,  1., -1.,  1., -1.,  1., -1., -1.,  1., -1.,  1., -1.,\n",
              "       -1., -1., -1., -1.,  1.,  1., -1., -1.,  1., -1., -1.,  0., -1.,\n",
              "        1.,  1., -1.,  1., -1., -1., -1., -1., -1.,  0., -1.,  1.,  0.,\n",
              "        1.,  0., -1.,  1.,  1., -1., -1.,  0., -1.,  1.,  1.,  1., -1.,\n",
              "        1., -1.,  1.,  1., -1., -1., -1., -1., -1., -1.,  1., -1., -1.,\n",
              "       -1.,  0.,  1., -1.,  1.,  1.,  0.,  1.,  1., -1., -1., -1.,  1.,\n",
              "       -1., -1.,  1.,  0., -1.,  1.,  1., -1.,  0.,  1.,  1., -1., -1.,\n",
              "        1., -1., -1.,  1., -1.,  0., -1., -1.,  1.,  1.,  1., -1., -1.,\n",
              "       -1., -1., -1., -1., -1.,  1., -1., -1.,  1., -1.,  1., -1., -1.,\n",
              "        0., -1.,  1., -1.,  1., -1.,  1., -1., -1., -1.,  1., -1.,  1.,\n",
              "       -1.,  0.,  0., -1., -1.,  1., -1., -1.,  1.,  1.,  1.,  1.,  1.,\n",
              "        0.,  1.,  1.,  0.,  0., -1.,  1., -1.,  1., -1., -1., -1., -1.,\n",
              "        0., -1.,  1.,  0.,  0., -1.,  0., -1., -1.,  1., -1., -1.,  1.,\n",
              "        1.,  1., -1., -1.,  1., -1.,  1., -1., -1., -1., -1.,  1., -1.,\n",
              "       -1., -1., -1., -1.,  1., -1., -1., -1.,  1.,  1.,  1.,  1.,  1.,\n",
              "       -1., -1.,  0.,  1.,  1.,  1., -1., -1., -1.,  1., -1.,  0., -1.,\n",
              "       -1.,  1., -1., -1.,  1.,  0.,  1., -1., -1., -1., -1.,  1., -1.,\n",
              "       -1., -1., -1.,  1.,  0.,  1.,  1., -1., -1., -1., -1., -1.,  1.,\n",
              "       -1.,  1., -1., -1.,  0., -1., -1.,  1.,  1.,  1.,  1., -1., -1.,\n",
              "        1.,  1.,  1., -1.,  1., -1., -1., -1., -1.,  1.,  1.,  1., -1.,\n",
              "        1.,  1., -1.,  1.,  0.,  1., -1.,  1., -1., -1.,  1.,  1., -1.,\n",
              "       -1., -1., -1.,  1., -1., -1.,  1., -1., -1., -1.,  1.,  1.,  0.,\n",
              "        1.,  1.,  1.,  1.,  1., -1., -1., -1., -1.,  1., -1., -1., -1.,\n",
              "       -1., -1., -1.,  0., -1., -1., -1., -1., -1., -1., -1.,  1.,  1.,\n",
              "        1.,  1., -1.,  1., -1., -1.,  1.,  1., -1., -1., -1., -1.,  0.,\n",
              "        1.,  1.,  1.,  1., -1., -1., -1., -1.,  1., -1.,  1.,  1.,  1.,\n",
              "       -1., -1., -1.,  1., -1.,  1.,  0., -1., -1.,  1., -1.,  1., -1.,\n",
              "       -1.,  1.,  0.,  1., -1., -1., -1., -1.,  0., -1.,  1., -1., -1.,\n",
              "       -1.,  1.,  1.])"
            ]
          },
          "metadata": {
            "tags": []
          },
          "execution_count": 226
        }
      ]
    },
    {
      "cell_type": "code",
      "metadata": {
        "id": "NxZhp6gWmXLA",
        "colab_type": "code",
        "colab": {
          "base_uri": "https://localhost:8080/",
          "height": 34
        },
        "outputId": "2c186bbd-d3e8-4649-e2ed-05ae2916326c"
      },
      "source": [
        "metrics.accuracy_score(rotulos_teste, predict_test_tree)"
      ],
      "execution_count": 228,
      "outputs": [
        {
          "output_type": "execute_result",
          "data": {
            "text/plain": [
              "0.8497536945812808"
            ]
          },
          "metadata": {
            "tags": []
          },
          "execution_count": 228
        }
      ]
    }
  ]
}